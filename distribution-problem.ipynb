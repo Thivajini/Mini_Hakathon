{
 "cells": [
  {
   "cell_type": "code",
   "execution_count": 1,
   "id": "9816df99",
   "metadata": {
    "_cell_guid": "b1076dfc-b9ad-4769-8c92-a6c4dae69d19",
    "_uuid": "8f2839f25d086af736a60e9eeb907d3b93b6e0e5",
    "execution": {
     "iopub.execute_input": "2023-12-16T07:32:20.058751Z",
     "iopub.status.busy": "2023-12-16T07:32:20.057679Z",
     "iopub.status.idle": "2023-12-16T07:32:21.391855Z",
     "shell.execute_reply": "2023-12-16T07:32:21.390597Z"
    },
    "papermill": {
     "duration": 1.347235,
     "end_time": "2023-12-16T07:32:21.394613",
     "exception": false,
     "start_time": "2023-12-16T07:32:20.047378",
     "status": "completed"
    },
    "tags": []
   },
   "outputs": [],
   "source": [
    "\n",
    "import pandas as pd\n",
    "import numpy as np\n",
    "\n",
    "#import data set\n",
    "Distributordata = pd.read_csv('/kaggle/input/distributer/Distributor Outlet Mapping.csv')\n",
    "Salesdata = pd.read_csv('/kaggle/input/salesdata/Sales.csv')\n"
   ]
  },
  {
   "cell_type": "code",
   "execution_count": 2,
   "id": "181640d3",
   "metadata": {
    "execution": {
     "iopub.execute_input": "2023-12-16T07:32:21.410426Z",
     "iopub.status.busy": "2023-12-16T07:32:21.410064Z",
     "iopub.status.idle": "2023-12-16T07:32:21.424534Z",
     "shell.execute_reply": "2023-12-16T07:32:21.423654Z"
    },
    "papermill": {
     "duration": 0.024957,
     "end_time": "2023-12-16T07:32:21.426896",
     "exception": false,
     "start_time": "2023-12-16T07:32:21.401939",
     "status": "completed"
    },
    "tags": []
   },
   "outputs": [
    {
     "name": "stdout",
     "output_type": "stream",
     "text": [
      "   distributor_id      outlet_id\n",
      "0  distributor_24  outlet_code_1\n",
      "1  distributor_24  outlet_code_2\n",
      "2  distributor_24  outlet_code_3\n",
      "3   distributor_3  outlet_code_4\n",
      "4  distributor_21  outlet_code_5\n"
     ]
    }
   ],
   "source": [
    "#view Distribution data set\n",
    "print(Distributordata.head())"
   ]
  },
  {
   "cell_type": "code",
   "execution_count": 3,
   "id": "b29a31e0",
   "metadata": {
    "execution": {
     "iopub.execute_input": "2023-12-16T07:32:21.442772Z",
     "iopub.status.busy": "2023-12-16T07:32:21.442424Z",
     "iopub.status.idle": "2023-12-16T07:32:21.450371Z",
     "shell.execute_reply": "2023-12-16T07:32:21.449351Z"
    },
    "papermill": {
     "duration": 0.018494,
     "end_time": "2023-12-16T07:32:21.452737",
     "exception": false,
     "start_time": "2023-12-16T07:32:21.434243",
     "status": "completed"
    },
    "tags": []
   },
   "outputs": [
    {
     "name": "stdout",
     "output_type": "stream",
     "text": [
      "        outlet_id  transaction_time expected_rainfall         freezer_status  \\\n",
      "0  outlet_code_78  2023-01-05 12:41              25mm    freezers available    \n",
      "1  outlet_code_78  2023-01-12 13:05               0mm    freezers available    \n",
      "2  outlet_code_78   2023-01-17 9:32              79mm    freezers available    \n",
      "3  outlet_code_78  2023-01-27 14:21          194.51mm    freezers available    \n",
      "4  outlet_code_78  2023-01-31 16:24              15mm    freezers available    \n",
      "\n",
      "             sku_name  sales_quantity  \n",
      "0  Sweet Delights Mix               3  \n",
      "1  Sweet Delights Mix               3  \n",
      "2  Sweet Delights Mix               3  \n",
      "3  Sweet Delights Mix               2  \n",
      "4  Sweet Delights Mix               3  \n"
     ]
    }
   ],
   "source": [
    "#view Distribution data set\n",
    "print(Salesdata.head())"
   ]
  },
  {
   "cell_type": "code",
   "execution_count": 4,
   "id": "b924e615",
   "metadata": {
    "execution": {
     "iopub.execute_input": "2023-12-16T07:32:21.469194Z",
     "iopub.status.busy": "2023-12-16T07:32:21.468758Z",
     "iopub.status.idle": "2023-12-16T07:32:21.702762Z",
     "shell.execute_reply": "2023-12-16T07:32:21.701498Z"
    },
    "papermill": {
     "duration": 0.24553,
     "end_time": "2023-12-16T07:32:21.705682",
     "exception": false,
     "start_time": "2023-12-16T07:32:21.460152",
     "status": "completed"
    },
    "tags": []
   },
   "outputs": [],
   "source": [
    "#merge data set distribution and sales\n",
    "Distributor_Sales = pd.merge(Distributordata, Salesdata, on='outlet_id', how='inner')"
   ]
  },
  {
   "cell_type": "code",
   "execution_count": 5,
   "id": "e5899199",
   "metadata": {
    "execution": {
     "iopub.execute_input": "2023-12-16T07:32:21.722849Z",
     "iopub.status.busy": "2023-12-16T07:32:21.722455Z",
     "iopub.status.idle": "2023-12-16T07:32:21.731049Z",
     "shell.execute_reply": "2023-12-16T07:32:21.729957Z"
    },
    "papermill": {
     "duration": 0.019981,
     "end_time": "2023-12-16T07:32:21.733449",
     "exception": false,
     "start_time": "2023-12-16T07:32:21.713468",
     "status": "completed"
    },
    "tags": []
   },
   "outputs": [
    {
     "name": "stdout",
     "output_type": "stream",
     "text": [
      "   distributor_id      outlet_id  transaction_time expected_rainfall  \\\n",
      "0  distributor_24  outlet_code_1  2023-01-06 10:51              60mm   \n",
      "1  distributor_24  outlet_code_1  2023-01-12 15:14               6mm   \n",
      "2  distributor_24  outlet_code_1  2023-01-16 16:25              82mm   \n",
      "3  distributor_24  outlet_code_1   2023-01-24 8:55          172.53mm   \n",
      "4  distributor_24  outlet_code_1   2023-02-04 9:53              59mm   \n",
      "\n",
      "         freezer_status           sku_name  sales_quantity  \n",
      "0   freezers available   Fruit Chewy Bites               4  \n",
      "1   freezers available   Fruit Chewy Bites               5  \n",
      "2   freezers available   Fruit Chewy Bites               5  \n",
      "3   freezers available   Fruit Chewy Bites               7  \n",
      "4   freezers available   Fruit Chewy Bites               5  \n"
     ]
    }
   ],
   "source": [
    "#view our new data frame\n",
    "print(Distributor_Sales.head())\n"
   ]
  },
  {
   "cell_type": "code",
   "execution_count": 6,
   "id": "e3a6490c",
   "metadata": {
    "execution": {
     "iopub.execute_input": "2023-12-16T07:32:21.750685Z",
     "iopub.status.busy": "2023-12-16T07:32:21.749816Z",
     "iopub.status.idle": "2023-12-16T07:32:21.757434Z",
     "shell.execute_reply": "2023-12-16T07:32:21.756419Z"
    },
    "papermill": {
     "duration": 0.018533,
     "end_time": "2023-12-16T07:32:21.759594",
     "exception": false,
     "start_time": "2023-12-16T07:32:21.741061",
     "status": "completed"
    },
    "tags": []
   },
   "outputs": [
    {
     "data": {
      "text/plain": [
       "(371036, 7)"
      ]
     },
     "execution_count": 6,
     "metadata": {},
     "output_type": "execute_result"
    }
   ],
   "source": [
    "Distributor_Sales.shape"
   ]
  },
  {
   "cell_type": "code",
   "execution_count": 7,
   "id": "ba23da38",
   "metadata": {
    "execution": {
     "iopub.execute_input": "2023-12-16T07:32:21.777238Z",
     "iopub.status.busy": "2023-12-16T07:32:21.776820Z",
     "iopub.status.idle": "2023-12-16T07:32:22.271401Z",
     "shell.execute_reply": "2023-12-16T07:32:22.270036Z"
    },
    "papermill": {
     "duration": 0.508069,
     "end_time": "2023-12-16T07:32:22.275615",
     "exception": false,
     "start_time": "2023-12-16T07:32:21.767546",
     "status": "completed"
    },
    "tags": []
   },
   "outputs": [],
   "source": [
    "\n",
    "#droping any duplicate rows\n",
    "Distributor_Sales.drop_duplicates(inplace=True)\n"
   ]
  },
  {
   "cell_type": "code",
   "execution_count": 8,
   "id": "af2a59e3",
   "metadata": {
    "execution": {
     "iopub.execute_input": "2023-12-16T07:32:22.297785Z",
     "iopub.status.busy": "2023-12-16T07:32:22.297377Z",
     "iopub.status.idle": "2023-12-16T07:32:22.549493Z",
     "shell.execute_reply": "2023-12-16T07:32:22.548409Z"
    },
    "papermill": {
     "duration": 0.264807,
     "end_time": "2023-12-16T07:32:22.551933",
     "exception": false,
     "start_time": "2023-12-16T07:32:22.287126",
     "status": "completed"
    },
    "tags": []
   },
   "outputs": [
    {
     "data": {
      "text/plain": [
       "distributor_id       0\n",
       "outlet_id            0\n",
       "transaction_time     0\n",
       "expected_rainfall    0\n",
       "freezer_status       0\n",
       "sku_name             0\n",
       "sales_quantity       0\n",
       "dtype: int64"
      ]
     },
     "execution_count": 8,
     "metadata": {},
     "output_type": "execute_result"
    }
   ],
   "source": [
    "#cheking null value for every column\n",
    "Distributor_Sales.isna().sum()"
   ]
  },
  {
   "cell_type": "code",
   "execution_count": 9,
   "id": "ae448a2e",
   "metadata": {
    "execution": {
     "iopub.execute_input": "2023-12-16T07:32:22.573559Z",
     "iopub.status.busy": "2023-12-16T07:32:22.571433Z",
     "iopub.status.idle": "2023-12-16T07:32:22.583030Z",
     "shell.execute_reply": "2023-12-16T07:32:22.581875Z"
    },
    "papermill": {
     "duration": 0.025433,
     "end_time": "2023-12-16T07:32:22.585553",
     "exception": false,
     "start_time": "2023-12-16T07:32:22.560120",
     "status": "completed"
    },
    "tags": []
   },
   "outputs": [
    {
     "data": {
      "text/plain": [
       "distributor_id       object\n",
       "outlet_id            object\n",
       "transaction_time     object\n",
       "expected_rainfall    object\n",
       "freezer_status       object\n",
       "sku_name             object\n",
       "sales_quantity        int64\n",
       "dtype: object"
      ]
     },
     "execution_count": 9,
     "metadata": {},
     "output_type": "execute_result"
    }
   ],
   "source": [
    "#view data types of columns\n",
    "Distributor_Sales.dtypes"
   ]
  },
  {
   "cell_type": "code",
   "execution_count": 10,
   "id": "815d697a",
   "metadata": {
    "execution": {
     "iopub.execute_input": "2023-12-16T07:32:22.604489Z",
     "iopub.status.busy": "2023-12-16T07:32:22.604117Z",
     "iopub.status.idle": "2023-12-16T07:32:23.894474Z",
     "shell.execute_reply": "2023-12-16T07:32:23.893223Z"
    },
    "papermill": {
     "duration": 1.302692,
     "end_time": "2023-12-16T07:32:23.896914",
     "exception": false,
     "start_time": "2023-12-16T07:32:22.594222",
     "status": "completed"
    },
    "tags": []
   },
   "outputs": [],
   "source": [
    "#change data type to float\n",
    "Distributor_Sales['expected_rainfall'] = Distributor_Sales['expected_rainfall'].str.extract(r'(\\d+)').astype(float)"
   ]
  },
  {
   "cell_type": "code",
   "execution_count": 11,
   "id": "9d2dd319",
   "metadata": {
    "execution": {
     "iopub.execute_input": "2023-12-16T07:32:23.915802Z",
     "iopub.status.busy": "2023-12-16T07:32:23.914863Z",
     "iopub.status.idle": "2023-12-16T07:32:24.552832Z",
     "shell.execute_reply": "2023-12-16T07:32:24.551769Z"
    },
    "papermill": {
     "duration": 0.650228,
     "end_time": "2023-12-16T07:32:24.555568",
     "exception": false,
     "start_time": "2023-12-16T07:32:23.905340",
     "status": "completed"
    },
    "tags": []
   },
   "outputs": [],
   "source": [
    "#change type for date\n",
    "Distributor_Sales['transaction_time'] = pd.to_datetime(Distributor_Sales['transaction_time'])\n",
    "Distributor_Sales['Date'] = Distributor_Sales['transaction_time'].dt.date\n",
    "Distributor_Sales['Time'] = Distributor_Sales['transaction_time'].dt.time"
   ]
  },
  {
   "cell_type": "code",
   "execution_count": 12,
   "id": "22236424",
   "metadata": {
    "execution": {
     "iopub.execute_input": "2023-12-16T07:32:24.576239Z",
     "iopub.status.busy": "2023-12-16T07:32:24.575543Z",
     "iopub.status.idle": "2023-12-16T07:32:24.583828Z",
     "shell.execute_reply": "2023-12-16T07:32:24.582787Z"
    },
    "papermill": {
     "duration": 0.022548,
     "end_time": "2023-12-16T07:32:24.586324",
     "exception": false,
     "start_time": "2023-12-16T07:32:24.563776",
     "status": "completed"
    },
    "tags": []
   },
   "outputs": [
    {
     "data": {
      "text/plain": [
       "distributor_id               object\n",
       "outlet_id                    object\n",
       "transaction_time     datetime64[ns]\n",
       "expected_rainfall           float64\n",
       "freezer_status               object\n",
       "sku_name                     object\n",
       "sales_quantity                int64\n",
       "Date                         object\n",
       "Time                         object\n",
       "dtype: object"
      ]
     },
     "execution_count": 12,
     "metadata": {},
     "output_type": "execute_result"
    }
   ],
   "source": [
    "#view data types\n",
    "Distributor_Sales.dtypes"
   ]
  },
  {
   "cell_type": "code",
   "execution_count": 13,
   "id": "3cdfa0ba",
   "metadata": {
    "execution": {
     "iopub.execute_input": "2023-12-16T07:32:24.605181Z",
     "iopub.status.busy": "2023-12-16T07:32:24.604767Z",
     "iopub.status.idle": "2023-12-16T07:32:24.623009Z",
     "shell.execute_reply": "2023-12-16T07:32:24.622189Z"
    },
    "papermill": {
     "duration": 0.030486,
     "end_time": "2023-12-16T07:32:24.625319",
     "exception": false,
     "start_time": "2023-12-16T07:32:24.594833",
     "status": "completed"
    },
    "tags": []
   },
   "outputs": [
    {
     "data": {
      "text/html": [
       "<div>\n",
       "<style scoped>\n",
       "    .dataframe tbody tr th:only-of-type {\n",
       "        vertical-align: middle;\n",
       "    }\n",
       "\n",
       "    .dataframe tbody tr th {\n",
       "        vertical-align: top;\n",
       "    }\n",
       "\n",
       "    .dataframe thead th {\n",
       "        text-align: right;\n",
       "    }\n",
       "</style>\n",
       "<table border=\"1\" class=\"dataframe\">\n",
       "  <thead>\n",
       "    <tr style=\"text-align: right;\">\n",
       "      <th></th>\n",
       "      <th>distributor_id</th>\n",
       "      <th>outlet_id</th>\n",
       "      <th>transaction_time</th>\n",
       "      <th>expected_rainfall</th>\n",
       "      <th>freezer_status</th>\n",
       "      <th>sku_name</th>\n",
       "      <th>sales_quantity</th>\n",
       "      <th>Date</th>\n",
       "      <th>Time</th>\n",
       "    </tr>\n",
       "  </thead>\n",
       "  <tbody>\n",
       "    <tr>\n",
       "      <th>0</th>\n",
       "      <td>distributor_24</td>\n",
       "      <td>outlet_code_1</td>\n",
       "      <td>2023-01-06 10:51:00</td>\n",
       "      <td>60.0</td>\n",
       "      <td>freezers available</td>\n",
       "      <td>Fruit Chewy Bites</td>\n",
       "      <td>4</td>\n",
       "      <td>2023-01-06</td>\n",
       "      <td>10:51:00</td>\n",
       "    </tr>\n",
       "    <tr>\n",
       "      <th>1</th>\n",
       "      <td>distributor_24</td>\n",
       "      <td>outlet_code_1</td>\n",
       "      <td>2023-01-12 15:14:00</td>\n",
       "      <td>6.0</td>\n",
       "      <td>freezers available</td>\n",
       "      <td>Fruit Chewy Bites</td>\n",
       "      <td>5</td>\n",
       "      <td>2023-01-12</td>\n",
       "      <td>15:14:00</td>\n",
       "    </tr>\n",
       "    <tr>\n",
       "      <th>2</th>\n",
       "      <td>distributor_24</td>\n",
       "      <td>outlet_code_1</td>\n",
       "      <td>2023-01-16 16:25:00</td>\n",
       "      <td>82.0</td>\n",
       "      <td>freezers available</td>\n",
       "      <td>Fruit Chewy Bites</td>\n",
       "      <td>5</td>\n",
       "      <td>2023-01-16</td>\n",
       "      <td>16:25:00</td>\n",
       "    </tr>\n",
       "    <tr>\n",
       "      <th>3</th>\n",
       "      <td>distributor_24</td>\n",
       "      <td>outlet_code_1</td>\n",
       "      <td>2023-01-24 08:55:00</td>\n",
       "      <td>172.0</td>\n",
       "      <td>freezers available</td>\n",
       "      <td>Fruit Chewy Bites</td>\n",
       "      <td>7</td>\n",
       "      <td>2023-01-24</td>\n",
       "      <td>08:55:00</td>\n",
       "    </tr>\n",
       "    <tr>\n",
       "      <th>4</th>\n",
       "      <td>distributor_24</td>\n",
       "      <td>outlet_code_1</td>\n",
       "      <td>2023-02-04 09:53:00</td>\n",
       "      <td>59.0</td>\n",
       "      <td>freezers available</td>\n",
       "      <td>Fruit Chewy Bites</td>\n",
       "      <td>5</td>\n",
       "      <td>2023-02-04</td>\n",
       "      <td>09:53:00</td>\n",
       "    </tr>\n",
       "  </tbody>\n",
       "</table>\n",
       "</div>"
      ],
      "text/plain": [
       "   distributor_id      outlet_id    transaction_time  expected_rainfall  \\\n",
       "0  distributor_24  outlet_code_1 2023-01-06 10:51:00               60.0   \n",
       "1  distributor_24  outlet_code_1 2023-01-12 15:14:00                6.0   \n",
       "2  distributor_24  outlet_code_1 2023-01-16 16:25:00               82.0   \n",
       "3  distributor_24  outlet_code_1 2023-01-24 08:55:00              172.0   \n",
       "4  distributor_24  outlet_code_1 2023-02-04 09:53:00               59.0   \n",
       "\n",
       "         freezer_status           sku_name  sales_quantity        Date  \\\n",
       "0   freezers available   Fruit Chewy Bites               4  2023-01-06   \n",
       "1   freezers available   Fruit Chewy Bites               5  2023-01-12   \n",
       "2   freezers available   Fruit Chewy Bites               5  2023-01-16   \n",
       "3   freezers available   Fruit Chewy Bites               7  2023-01-24   \n",
       "4   freezers available   Fruit Chewy Bites               5  2023-02-04   \n",
       "\n",
       "       Time  \n",
       "0  10:51:00  \n",
       "1  15:14:00  \n",
       "2  16:25:00  \n",
       "3  08:55:00  \n",
       "4  09:53:00  "
      ]
     },
     "execution_count": 13,
     "metadata": {},
     "output_type": "execute_result"
    }
   ],
   "source": [
    "#view data set\n",
    "Distributor_Sales.head()"
   ]
  },
  {
   "cell_type": "code",
   "execution_count": 14,
   "id": "7bc10685",
   "metadata": {
    "execution": {
     "iopub.execute_input": "2023-12-16T07:32:24.644409Z",
     "iopub.status.busy": "2023-12-16T07:32:24.643528Z",
     "iopub.status.idle": "2023-12-16T07:32:24.749130Z",
     "shell.execute_reply": "2023-12-16T07:32:24.747957Z"
    },
    "papermill": {
     "duration": 0.117689,
     "end_time": "2023-12-16T07:32:24.751570",
     "exception": false,
     "start_time": "2023-12-16T07:32:24.633881",
     "status": "completed"
    },
    "tags": []
   },
   "outputs": [
    {
     "data": {
      "text/html": [
       "<div>\n",
       "<style scoped>\n",
       "    .dataframe tbody tr th:only-of-type {\n",
       "        vertical-align: middle;\n",
       "    }\n",
       "\n",
       "    .dataframe tbody tr th {\n",
       "        vertical-align: top;\n",
       "    }\n",
       "\n",
       "    .dataframe thead th {\n",
       "        text-align: right;\n",
       "    }\n",
       "</style>\n",
       "<table border=\"1\" class=\"dataframe\">\n",
       "  <thead>\n",
       "    <tr style=\"text-align: right;\">\n",
       "      <th></th>\n",
       "      <th>distributor_id</th>\n",
       "      <th>outlet_id</th>\n",
       "      <th>sales_quantity</th>\n",
       "    </tr>\n",
       "  </thead>\n",
       "  <tbody>\n",
       "    <tr>\n",
       "      <th>0</th>\n",
       "      <td>distributor_1</td>\n",
       "      <td>outlet_code_1008</td>\n",
       "      <td>444</td>\n",
       "    </tr>\n",
       "    <tr>\n",
       "      <th>1</th>\n",
       "      <td>distributor_1</td>\n",
       "      <td>outlet_code_1061</td>\n",
       "      <td>116</td>\n",
       "    </tr>\n",
       "    <tr>\n",
       "      <th>2</th>\n",
       "      <td>distributor_1</td>\n",
       "      <td>outlet_code_1081</td>\n",
       "      <td>105</td>\n",
       "    </tr>\n",
       "    <tr>\n",
       "      <th>3</th>\n",
       "      <td>distributor_1</td>\n",
       "      <td>outlet_code_1132</td>\n",
       "      <td>475</td>\n",
       "    </tr>\n",
       "    <tr>\n",
       "      <th>4</th>\n",
       "      <td>distributor_1</td>\n",
       "      <td>outlet_code_1133</td>\n",
       "      <td>366</td>\n",
       "    </tr>\n",
       "  </tbody>\n",
       "</table>\n",
       "</div>"
      ],
      "text/plain": [
       "  distributor_id         outlet_id  sales_quantity\n",
       "0  distributor_1  outlet_code_1008             444\n",
       "1  distributor_1  outlet_code_1061             116\n",
       "2  distributor_1  outlet_code_1081             105\n",
       "3  distributor_1  outlet_code_1132             475\n",
       "4  distributor_1  outlet_code_1133             366"
      ]
     },
     "execution_count": 14,
     "metadata": {},
     "output_type": "execute_result"
    }
   ],
   "source": [
    "\n",
    "Distout_sale_data=Distributor_Sales.groupby([\"distributor_id\",\"outlet_id\"]) [\"sales_quantity\"].sum().reset_index()\n",
    "Distout_sale_data.head()"
   ]
  },
  {
   "cell_type": "code",
   "execution_count": 15,
   "id": "34b6b950",
   "metadata": {
    "execution": {
     "iopub.execute_input": "2023-12-16T07:32:24.770849Z",
     "iopub.status.busy": "2023-12-16T07:32:24.770240Z",
     "iopub.status.idle": "2023-12-16T07:32:24.784584Z",
     "shell.execute_reply": "2023-12-16T07:32:24.783460Z"
    },
    "papermill": {
     "duration": 0.026539,
     "end_time": "2023-12-16T07:32:24.786783",
     "exception": false,
     "start_time": "2023-12-16T07:32:24.760244",
     "status": "completed"
    },
    "tags": []
   },
   "outputs": [
    {
     "data": {
      "text/html": [
       "<div>\n",
       "<style scoped>\n",
       "    .dataframe tbody tr th:only-of-type {\n",
       "        vertical-align: middle;\n",
       "    }\n",
       "\n",
       "    .dataframe tbody tr th {\n",
       "        vertical-align: top;\n",
       "    }\n",
       "\n",
       "    .dataframe thead th {\n",
       "        text-align: right;\n",
       "    }\n",
       "</style>\n",
       "<table border=\"1\" class=\"dataframe\">\n",
       "  <thead>\n",
       "    <tr style=\"text-align: right;\">\n",
       "      <th></th>\n",
       "      <th>distributor_id</th>\n",
       "      <th>sales_quantity</th>\n",
       "    </tr>\n",
       "  </thead>\n",
       "  <tbody>\n",
       "    <tr>\n",
       "      <th>0</th>\n",
       "      <td>distributor_1</td>\n",
       "      <td>33968</td>\n",
       "    </tr>\n",
       "    <tr>\n",
       "      <th>1</th>\n",
       "      <td>distributor_10</td>\n",
       "      <td>90854</td>\n",
       "    </tr>\n",
       "    <tr>\n",
       "      <th>2</th>\n",
       "      <td>distributor_11</td>\n",
       "      <td>221664</td>\n",
       "    </tr>\n",
       "    <tr>\n",
       "      <th>3</th>\n",
       "      <td>distributor_12</td>\n",
       "      <td>92132</td>\n",
       "    </tr>\n",
       "    <tr>\n",
       "      <th>4</th>\n",
       "      <td>distributor_13</td>\n",
       "      <td>96795</td>\n",
       "    </tr>\n",
       "    <tr>\n",
       "      <th>5</th>\n",
       "      <td>distributor_14</td>\n",
       "      <td>242570</td>\n",
       "    </tr>\n",
       "    <tr>\n",
       "      <th>6</th>\n",
       "      <td>distributor_15</td>\n",
       "      <td>86151</td>\n",
       "    </tr>\n",
       "    <tr>\n",
       "      <th>7</th>\n",
       "      <td>distributor_16</td>\n",
       "      <td>214731</td>\n",
       "    </tr>\n",
       "    <tr>\n",
       "      <th>8</th>\n",
       "      <td>distributor_17</td>\n",
       "      <td>30999</td>\n",
       "    </tr>\n",
       "    <tr>\n",
       "      <th>9</th>\n",
       "      <td>distributor_18</td>\n",
       "      <td>31053</td>\n",
       "    </tr>\n",
       "    <tr>\n",
       "      <th>10</th>\n",
       "      <td>distributor_19</td>\n",
       "      <td>94901</td>\n",
       "    </tr>\n",
       "    <tr>\n",
       "      <th>11</th>\n",
       "      <td>distributor_2</td>\n",
       "      <td>38858</td>\n",
       "    </tr>\n",
       "    <tr>\n",
       "      <th>12</th>\n",
       "      <td>distributor_20</td>\n",
       "      <td>90270</td>\n",
       "    </tr>\n",
       "    <tr>\n",
       "      <th>13</th>\n",
       "      <td>distributor_21</td>\n",
       "      <td>32528</td>\n",
       "    </tr>\n",
       "    <tr>\n",
       "      <th>14</th>\n",
       "      <td>distributor_22</td>\n",
       "      <td>38612</td>\n",
       "    </tr>\n",
       "    <tr>\n",
       "      <th>15</th>\n",
       "      <td>distributor_23</td>\n",
       "      <td>86808</td>\n",
       "    </tr>\n",
       "    <tr>\n",
       "      <th>16</th>\n",
       "      <td>distributor_24</td>\n",
       "      <td>91512</td>\n",
       "    </tr>\n",
       "    <tr>\n",
       "      <th>17</th>\n",
       "      <td>distributor_25</td>\n",
       "      <td>248883</td>\n",
       "    </tr>\n",
       "    <tr>\n",
       "      <th>18</th>\n",
       "      <td>distributor_3</td>\n",
       "      <td>103674</td>\n",
       "    </tr>\n",
       "    <tr>\n",
       "      <th>19</th>\n",
       "      <td>distributor_4</td>\n",
       "      <td>230091</td>\n",
       "    </tr>\n",
       "    <tr>\n",
       "      <th>20</th>\n",
       "      <td>distributor_5</td>\n",
       "      <td>93286</td>\n",
       "    </tr>\n",
       "    <tr>\n",
       "      <th>21</th>\n",
       "      <td>distributor_6</td>\n",
       "      <td>31974</td>\n",
       "    </tr>\n",
       "    <tr>\n",
       "      <th>22</th>\n",
       "      <td>distributor_7</td>\n",
       "      <td>30601</td>\n",
       "    </tr>\n",
       "    <tr>\n",
       "      <th>23</th>\n",
       "      <td>distributor_8</td>\n",
       "      <td>87785</td>\n",
       "    </tr>\n",
       "    <tr>\n",
       "      <th>24</th>\n",
       "      <td>distributor_9</td>\n",
       "      <td>78290</td>\n",
       "    </tr>\n",
       "  </tbody>\n",
       "</table>\n",
       "</div>"
      ],
      "text/plain": [
       "    distributor_id  sales_quantity\n",
       "0    distributor_1           33968\n",
       "1   distributor_10           90854\n",
       "2   distributor_11          221664\n",
       "3   distributor_12           92132\n",
       "4   distributor_13           96795\n",
       "5   distributor_14          242570\n",
       "6   distributor_15           86151\n",
       "7   distributor_16          214731\n",
       "8   distributor_17           30999\n",
       "9   distributor_18           31053\n",
       "10  distributor_19           94901\n",
       "11   distributor_2           38858\n",
       "12  distributor_20           90270\n",
       "13  distributor_21           32528\n",
       "14  distributor_22           38612\n",
       "15  distributor_23           86808\n",
       "16  distributor_24           91512\n",
       "17  distributor_25          248883\n",
       "18   distributor_3          103674\n",
       "19   distributor_4          230091\n",
       "20   distributor_5           93286\n",
       "21   distributor_6           31974\n",
       "22   distributor_7           30601\n",
       "23   distributor_8           87785\n",
       "24   distributor_9           78290"
      ]
     },
     "execution_count": 15,
     "metadata": {},
     "output_type": "execute_result"
    }
   ],
   "source": [
    "Prob_dist=Distout_sale_data.groupby([\"distributor_id\"])[\"sales_quantity\"].sum().reset_index()\n",
    "Prob_dist"
   ]
  },
  {
   "cell_type": "code",
   "execution_count": 16,
   "id": "a2632fba",
   "metadata": {
    "execution": {
     "iopub.execute_input": "2023-12-16T07:32:24.807077Z",
     "iopub.status.busy": "2023-12-16T07:32:24.806118Z",
     "iopub.status.idle": "2023-12-16T07:32:24.811748Z",
     "shell.execute_reply": "2023-12-16T07:32:24.811024Z"
    },
    "papermill": {
     "duration": 0.017908,
     "end_time": "2023-12-16T07:32:24.813821",
     "exception": false,
     "start_time": "2023-12-16T07:32:24.795913",
     "status": "completed"
    },
    "tags": []
   },
   "outputs": [],
   "source": [
    "Prob_dist[\"probability\"]=Prob_dist[\"sales_quantity\"]/(Prob_dist[\"sales_quantity\"].sum())"
   ]
  },
  {
   "cell_type": "code",
   "execution_count": 17,
   "id": "1081d92d",
   "metadata": {
    "execution": {
     "iopub.execute_input": "2023-12-16T07:32:24.834163Z",
     "iopub.status.busy": "2023-12-16T07:32:24.833527Z",
     "iopub.status.idle": "2023-12-16T07:32:24.843553Z",
     "shell.execute_reply": "2023-12-16T07:32:24.842543Z"
    },
    "papermill": {
     "duration": 0.022892,
     "end_time": "2023-12-16T07:32:24.845751",
     "exception": false,
     "start_time": "2023-12-16T07:32:24.822859",
     "status": "completed"
    },
    "tags": []
   },
   "outputs": [
    {
     "data": {
      "text/html": [
       "<div>\n",
       "<style scoped>\n",
       "    .dataframe tbody tr th:only-of-type {\n",
       "        vertical-align: middle;\n",
       "    }\n",
       "\n",
       "    .dataframe tbody tr th {\n",
       "        vertical-align: top;\n",
       "    }\n",
       "\n",
       "    .dataframe thead th {\n",
       "        text-align: right;\n",
       "    }\n",
       "</style>\n",
       "<table border=\"1\" class=\"dataframe\">\n",
       "  <thead>\n",
       "    <tr style=\"text-align: right;\">\n",
       "      <th></th>\n",
       "      <th>distributor_id</th>\n",
       "      <th>sales_quantity</th>\n",
       "      <th>probability</th>\n",
       "    </tr>\n",
       "  </thead>\n",
       "  <tbody>\n",
       "    <tr>\n",
       "      <th>0</th>\n",
       "      <td>distributor_1</td>\n",
       "      <td>33968</td>\n",
       "      <td>0.013485</td>\n",
       "    </tr>\n",
       "    <tr>\n",
       "      <th>1</th>\n",
       "      <td>distributor_10</td>\n",
       "      <td>90854</td>\n",
       "      <td>0.036068</td>\n",
       "    </tr>\n",
       "    <tr>\n",
       "      <th>2</th>\n",
       "      <td>distributor_11</td>\n",
       "      <td>221664</td>\n",
       "      <td>0.087997</td>\n",
       "    </tr>\n",
       "    <tr>\n",
       "      <th>3</th>\n",
       "      <td>distributor_12</td>\n",
       "      <td>92132</td>\n",
       "      <td>0.036575</td>\n",
       "    </tr>\n",
       "    <tr>\n",
       "      <th>4</th>\n",
       "      <td>distributor_13</td>\n",
       "      <td>96795</td>\n",
       "      <td>0.038426</td>\n",
       "    </tr>\n",
       "  </tbody>\n",
       "</table>\n",
       "</div>"
      ],
      "text/plain": [
       "   distributor_id  sales_quantity  probability\n",
       "0   distributor_1           33968     0.013485\n",
       "1  distributor_10           90854     0.036068\n",
       "2  distributor_11          221664     0.087997\n",
       "3  distributor_12           92132     0.036575\n",
       "4  distributor_13           96795     0.038426"
      ]
     },
     "execution_count": 17,
     "metadata": {},
     "output_type": "execute_result"
    }
   ],
   "source": [
    "Prob_dist.head()"
   ]
  },
  {
   "cell_type": "code",
   "execution_count": 18,
   "id": "d0c8ba78",
   "metadata": {
    "execution": {
     "iopub.execute_input": "2023-12-16T07:32:24.865640Z",
     "iopub.status.busy": "2023-12-16T07:32:24.865305Z",
     "iopub.status.idle": "2023-12-16T07:32:24.876930Z",
     "shell.execute_reply": "2023-12-16T07:32:24.876196Z"
    },
    "papermill": {
     "duration": 0.02369,
     "end_time": "2023-12-16T07:32:24.878971",
     "exception": false,
     "start_time": "2023-12-16T07:32:24.855281",
     "status": "completed"
    },
    "tags": []
   },
   "outputs": [
    {
     "data": {
      "text/html": [
       "<div>\n",
       "<style scoped>\n",
       "    .dataframe tbody tr th:only-of-type {\n",
       "        vertical-align: middle;\n",
       "    }\n",
       "\n",
       "    .dataframe tbody tr th {\n",
       "        vertical-align: top;\n",
       "    }\n",
       "\n",
       "    .dataframe thead th {\n",
       "        text-align: right;\n",
       "    }\n",
       "</style>\n",
       "<table border=\"1\" class=\"dataframe\">\n",
       "  <thead>\n",
       "    <tr style=\"text-align: right;\">\n",
       "      <th></th>\n",
       "      <th>distributor_id</th>\n",
       "      <th>sales_quantity</th>\n",
       "      <th>probability</th>\n",
       "      <th>salestarget</th>\n",
       "    </tr>\n",
       "  </thead>\n",
       "  <tbody>\n",
       "    <tr>\n",
       "      <th>0</th>\n",
       "      <td>distributor_1</td>\n",
       "      <td>33968</td>\n",
       "      <td>0.013485</td>\n",
       "      <td>7383.922763</td>\n",
       "    </tr>\n",
       "    <tr>\n",
       "      <th>1</th>\n",
       "      <td>distributor_10</td>\n",
       "      <td>90854</td>\n",
       "      <td>0.036068</td>\n",
       "      <td>19749.732651</td>\n",
       "    </tr>\n",
       "    <tr>\n",
       "      <th>2</th>\n",
       "      <td>distributor_11</td>\n",
       "      <td>221664</td>\n",
       "      <td>0.087997</td>\n",
       "      <td>48185.052263</td>\n",
       "    </tr>\n",
       "    <tr>\n",
       "      <th>3</th>\n",
       "      <td>distributor_12</td>\n",
       "      <td>92132</td>\n",
       "      <td>0.036575</td>\n",
       "      <td>20027.542745</td>\n",
       "    </tr>\n",
       "    <tr>\n",
       "      <th>4</th>\n",
       "      <td>distributor_13</td>\n",
       "      <td>96795</td>\n",
       "      <td>0.038426</td>\n",
       "      <td>21041.180046</td>\n",
       "    </tr>\n",
       "  </tbody>\n",
       "</table>\n",
       "</div>"
      ],
      "text/plain": [
       "   distributor_id  sales_quantity  probability   salestarget\n",
       "0   distributor_1           33968     0.013485   7383.922763\n",
       "1  distributor_10           90854     0.036068  19749.732651\n",
       "2  distributor_11          221664     0.087997  48185.052263\n",
       "3  distributor_12           92132     0.036575  20027.542745\n",
       "4  distributor_13           96795     0.038426  21041.180046"
      ]
     },
     "execution_count": 18,
     "metadata": {},
     "output_type": "execute_result"
    }
   ],
   "source": [
    "Prob_dist[\"salestarget\"]=Prob_dist[\"probability\"]*547575\n",
    "Prob_dist.head()"
   ]
  },
  {
   "cell_type": "code",
   "execution_count": 19,
   "id": "ab5b1e91",
   "metadata": {
    "execution": {
     "iopub.execute_input": "2023-12-16T07:32:24.900631Z",
     "iopub.status.busy": "2023-12-16T07:32:24.900234Z",
     "iopub.status.idle": "2023-12-16T07:32:24.904592Z",
     "shell.execute_reply": "2023-12-16T07:32:24.903845Z"
    },
    "papermill": {
     "duration": 0.017464,
     "end_time": "2023-12-16T07:32:24.906572",
     "exception": false,
     "start_time": "2023-12-16T07:32:24.889108",
     "status": "completed"
    },
    "tags": []
   },
   "outputs": [],
   "source": [
    "data={\"distributor_id\":Prob_dist[\"distributor_id\"],\"salestarget\":Prob_dist[\"salestarget\"]}"
   ]
  },
  {
   "cell_type": "code",
   "execution_count": 20,
   "id": "be47f828",
   "metadata": {
    "execution": {
     "iopub.execute_input": "2023-12-16T07:32:24.928466Z",
     "iopub.status.busy": "2023-12-16T07:32:24.927511Z",
     "iopub.status.idle": "2023-12-16T07:32:24.934581Z",
     "shell.execute_reply": "2023-12-16T07:32:24.933493Z"
    },
    "papermill": {
     "duration": 0.020353,
     "end_time": "2023-12-16T07:32:24.936761",
     "exception": false,
     "start_time": "2023-12-16T07:32:24.916408",
     "status": "completed"
    },
    "tags": []
   },
   "outputs": [],
   "source": [
    "#sales target for every distributor\n",
    "\n",
    "dist_sale_target=pd.DataFrame(data)\n",
    "dist_sale_target\n",
    "dist_sale_target.sort_values(by=\"distributor_id\",inplace=True)"
   ]
  },
  {
   "cell_type": "code",
   "execution_count": 21,
   "id": "8925901d",
   "metadata": {
    "execution": {
     "iopub.execute_input": "2023-12-16T07:32:24.957653Z",
     "iopub.status.busy": "2023-12-16T07:32:24.956648Z",
     "iopub.status.idle": "2023-12-16T07:32:24.964219Z",
     "shell.execute_reply": "2023-12-16T07:32:24.963220Z"
    },
    "papermill": {
     "duration": 0.020227,
     "end_time": "2023-12-16T07:32:24.966449",
     "exception": false,
     "start_time": "2023-12-16T07:32:24.946222",
     "status": "completed"
    },
    "tags": []
   },
   "outputs": [],
   "source": [
    "#change data frame for csv\n",
    "dist_sale_target.to_csv(\"dist_sale_target.csv\")"
   ]
  },
  {
   "cell_type": "code",
   "execution_count": null,
   "id": "75a7509a",
   "metadata": {
    "papermill": {
     "duration": 0.009552,
     "end_time": "2023-12-16T07:32:24.985656",
     "exception": false,
     "start_time": "2023-12-16T07:32:24.976104",
     "status": "completed"
    },
    "tags": []
   },
   "outputs": [],
   "source": []
  }
 ],
 "metadata": {
  "kaggle": {
   "accelerator": "none",
   "dataSources": [
    {
     "datasetId": 4173664,
     "sourceId": 7212785,
     "sourceType": "datasetVersion"
    },
    {
     "datasetId": 4173668,
     "sourceId": 7212789,
     "sourceType": "datasetVersion"
    }
   ],
   "dockerImageVersionId": 30626,
   "isGpuEnabled": false,
   "isInternetEnabled": true,
   "language": "python",
   "sourceType": "notebook"
  },
  "kernelspec": {
   "display_name": "Python 3",
   "language": "python",
   "name": "python3"
  },
  "language_info": {
   "codemirror_mode": {
    "name": "ipython",
    "version": 3
   },
   "file_extension": ".py",
   "mimetype": "text/x-python",
   "name": "python",
   "nbconvert_exporter": "python",
   "pygments_lexer": "ipython3",
   "version": "3.10.12"
  },
  "papermill": {
   "default_parameters": {},
   "duration": 8.834814,
   "end_time": "2023-12-16T07:32:25.517131",
   "environment_variables": {},
   "exception": null,
   "input_path": "__notebook__.ipynb",
   "output_path": "__notebook__.ipynb",
   "parameters": {},
   "start_time": "2023-12-16T07:32:16.682317",
   "version": "2.4.0"
  }
 },
 "nbformat": 4,
 "nbformat_minor": 5
}
