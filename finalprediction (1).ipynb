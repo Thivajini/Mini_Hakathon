{
 "cells": [
  {
   "cell_type": "code",
   "execution_count": 1,
   "id": "c4146415",
   "metadata": {
    "_cell_guid": "b1076dfc-b9ad-4769-8c92-a6c4dae69d19",
    "_uuid": "8f2839f25d086af736a60e9eeb907d3b93b6e0e5",
    "execution": {
     "iopub.execute_input": "2023-12-02T19:08:28.032686Z",
     "iopub.status.busy": "2023-12-02T19:08:28.032211Z",
     "iopub.status.idle": "2023-12-02T19:08:32.933524Z",
     "shell.execute_reply": "2023-12-02T19:08:32.932231Z"
    },
    "papermill": {
     "duration": 4.922175,
     "end_time": "2023-12-02T19:08:32.936130",
     "exception": false,
     "start_time": "2023-12-02T19:08:28.013955",
     "status": "completed"
    },
    "tags": []
   },
   "outputs": [
    {
     "name": "stdout",
     "output_type": "stream",
     "text": [
      "/kaggle/input/test-dataset/test (2).csv\n",
      "/kaggle/input/train-dataset/train.csv\n"
     ]
    }
   ],
   "source": [
    "#import necessary libraries\n",
    "import pandas as pd\n",
    "import numpy as np\n",
    "import matplotlib.pyplot as plt\n",
    "import seaborn as sns\n",
    "import plotly.graph_objs as go\n",
    "import plotly.express as px\n",
    "import plotly.io as pio\n",
    "pio.templates.default = \"plotly_white\"\n",
    "from statsmodels.tsa.arima.model import ARIMA\n",
    "from statsmodels.graphics.tsaplots import plot_acf,plot_pacf\n",
    "from statsmodels.tsa.seasonal import seasonal_decompose\n",
    "from statsmodels.tsa.stattools import adfuller\n",
    "from statsmodels.tsa.stattools import adfuller\n",
    "\n",
    "import os\n",
    "for dirname, _, filenames in os.walk('/kaggle/input'):\n",
    "    for filename in filenames:\n",
    "        print(os.path.join(dirname, filename))\n"
   ]
  },
  {
   "cell_type": "code",
   "execution_count": 2,
   "id": "cf4bd8b2",
   "metadata": {
    "execution": {
     "iopub.execute_input": "2023-12-02T19:08:32.967803Z",
     "iopub.status.busy": "2023-12-02T19:08:32.967186Z",
     "iopub.status.idle": "2023-12-02T19:08:33.256500Z",
     "shell.execute_reply": "2023-12-02T19:08:33.255269Z"
    },
    "papermill": {
     "duration": 0.317377,
     "end_time": "2023-12-02T19:08:33.268431",
     "exception": false,
     "start_time": "2023-12-02T19:08:32.951054",
     "status": "completed"
    },
    "tags": []
   },
   "outputs": [
    {
     "data": {
      "text/html": [
       "<div>\n",
       "<style scoped>\n",
       "    .dataframe tbody tr th:only-of-type {\n",
       "        vertical-align: middle;\n",
       "    }\n",
       "\n",
       "    .dataframe tbody tr th {\n",
       "        vertical-align: top;\n",
       "    }\n",
       "\n",
       "    .dataframe thead th {\n",
       "        text-align: right;\n",
       "    }\n",
       "</style>\n",
       "<table border=\"1\" class=\"dataframe\">\n",
       "  <thead>\n",
       "    <tr style=\"text-align: right;\">\n",
       "      <th></th>\n",
       "      <th>week_start_date</th>\n",
       "      <th>expected_rainfall</th>\n",
       "      <th>freezer_status</th>\n",
       "      <th>outlet_region</th>\n",
       "      <th>outlet_code</th>\n",
       "      <th>sales_quantity</th>\n",
       "    </tr>\n",
       "  </thead>\n",
       "  <tbody>\n",
       "    <tr>\n",
       "      <th>0</th>\n",
       "      <td>5/22/2023</td>\n",
       "      <td>57mm</td>\n",
       "      <td>freezers available</td>\n",
       "      <td>outstation</td>\n",
       "      <td>outlet_code_3254</td>\n",
       "      <td>95</td>\n",
       "    </tr>\n",
       "    <tr>\n",
       "      <th>1</th>\n",
       "      <td>5/29/2023</td>\n",
       "      <td>8mm</td>\n",
       "      <td>freezers available</td>\n",
       "      <td>outstation</td>\n",
       "      <td>outlet_code_1859</td>\n",
       "      <td>107</td>\n",
       "    </tr>\n",
       "    <tr>\n",
       "      <th>2</th>\n",
       "      <td>5/8/2023</td>\n",
       "      <td>170.57mm</td>\n",
       "      <td>freezers available</td>\n",
       "      <td>outstation</td>\n",
       "      <td>outlet_code_4176</td>\n",
       "      <td>83</td>\n",
       "    </tr>\n",
       "    <tr>\n",
       "      <th>3</th>\n",
       "      <td>5/22/2023</td>\n",
       "      <td>37mm</td>\n",
       "      <td>freezers available</td>\n",
       "      <td>outstation</td>\n",
       "      <td>outlet_code_1459</td>\n",
       "      <td>106</td>\n",
       "    </tr>\n",
       "    <tr>\n",
       "      <th>4</th>\n",
       "      <td>3/27/2023</td>\n",
       "      <td>7mm</td>\n",
       "      <td>freezers available</td>\n",
       "      <td>outstation</td>\n",
       "      <td>outlet_code_38</td>\n",
       "      <td>43</td>\n",
       "    </tr>\n",
       "    <tr>\n",
       "      <th>5</th>\n",
       "      <td>4/10/2023</td>\n",
       "      <td>0mm</td>\n",
       "      <td>freezers available</td>\n",
       "      <td>outstation</td>\n",
       "      <td>outlet_code_2006</td>\n",
       "      <td>56</td>\n",
       "    </tr>\n",
       "    <tr>\n",
       "      <th>6</th>\n",
       "      <td>3/20/2023</td>\n",
       "      <td>143.31mm</td>\n",
       "      <td>freezers available</td>\n",
       "      <td>outstation</td>\n",
       "      <td>outlet_code_3795</td>\n",
       "      <td>56</td>\n",
       "    </tr>\n",
       "    <tr>\n",
       "      <th>7</th>\n",
       "      <td>3/20/2023</td>\n",
       "      <td>138.99mm</td>\n",
       "      <td>freezers available</td>\n",
       "      <td>outstation</td>\n",
       "      <td>outlet_code_2892</td>\n",
       "      <td>53</td>\n",
       "    </tr>\n",
       "    <tr>\n",
       "      <th>8</th>\n",
       "      <td>1/2/2023</td>\n",
       "      <td>14mm</td>\n",
       "      <td>freezers available</td>\n",
       "      <td>outstation</td>\n",
       "      <td>outlet_code_1738</td>\n",
       "      <td>59</td>\n",
       "    </tr>\n",
       "    <tr>\n",
       "      <th>9</th>\n",
       "      <td>4/3/2023</td>\n",
       "      <td>33mm</td>\n",
       "      <td>freezers available</td>\n",
       "      <td>outstation</td>\n",
       "      <td>outlet_code_2189</td>\n",
       "      <td>41</td>\n",
       "    </tr>\n",
       "  </tbody>\n",
       "</table>\n",
       "</div>"
      ],
      "text/plain": [
       "  week_start_date expected_rainfall         freezer_status outlet_region  \\\n",
       "0       5/22/2023              57mm    freezers available     outstation   \n",
       "1       5/29/2023               8mm    freezers available     outstation   \n",
       "2        5/8/2023          170.57mm    freezers available     outstation   \n",
       "3       5/22/2023              37mm    freezers available     outstation   \n",
       "4       3/27/2023               7mm    freezers available     outstation   \n",
       "5       4/10/2023               0mm    freezers available     outstation   \n",
       "6       3/20/2023          143.31mm    freezers available     outstation   \n",
       "7       3/20/2023          138.99mm    freezers available     outstation   \n",
       "8        1/2/2023              14mm    freezers available     outstation   \n",
       "9        4/3/2023              33mm    freezers available     outstation   \n",
       "\n",
       "        outlet_code  sales_quantity  \n",
       "0  outlet_code_3254              95  \n",
       "1  outlet_code_1859             107  \n",
       "2  outlet_code_4176              83  \n",
       "3  outlet_code_1459             106  \n",
       "4    outlet_code_38              43  \n",
       "5  outlet_code_2006              56  \n",
       "6  outlet_code_3795              56  \n",
       "7  outlet_code_2892              53  \n",
       "8  outlet_code_1738              59  \n",
       "9  outlet_code_2189              41  "
      ]
     },
     "execution_count": 2,
     "metadata": {},
     "output_type": "execute_result"
    }
   ],
   "source": [
    "# import the Data Set\n",
    "Sales_train = pd.read_csv(\"/kaggle/input/train-dataset/train.csv\")\n",
    "Sales_train.head(10)"
   ]
  },
  {
   "cell_type": "code",
   "execution_count": 3,
   "id": "027f4dcd",
   "metadata": {
    "execution": {
     "iopub.execute_input": "2023-12-02T19:08:33.302393Z",
     "iopub.status.busy": "2023-12-02T19:08:33.301437Z",
     "iopub.status.idle": "2023-12-02T19:08:33.308905Z",
     "shell.execute_reply": "2023-12-02T19:08:33.308089Z"
    },
    "papermill": {
     "duration": 0.02749,
     "end_time": "2023-12-02T19:08:33.311908",
     "exception": false,
     "start_time": "2023-12-02T19:08:33.284418",
     "status": "completed"
    },
    "tags": []
   },
   "outputs": [
    {
     "data": {
      "text/plain": [
       "(113400, 6)"
      ]
     },
     "execution_count": 3,
     "metadata": {},
     "output_type": "execute_result"
    }
   ],
   "source": [
    "# Find the Total Number of rows and Columns\n",
    "Sales_train.shape"
   ]
  },
  {
   "cell_type": "code",
   "execution_count": 4,
   "id": "2d4f25b4",
   "metadata": {
    "execution": {
     "iopub.execute_input": "2023-12-02T19:08:33.349488Z",
     "iopub.status.busy": "2023-12-02T19:08:33.349082Z",
     "iopub.status.idle": "2023-12-02T19:08:33.357699Z",
     "shell.execute_reply": "2023-12-02T19:08:33.356571Z"
    },
    "papermill": {
     "duration": 0.029933,
     "end_time": "2023-12-02T19:08:33.360028",
     "exception": false,
     "start_time": "2023-12-02T19:08:33.330095",
     "status": "completed"
    },
    "tags": []
   },
   "outputs": [
    {
     "data": {
      "text/plain": [
       "week_start_date      object\n",
       "expected_rainfall    object\n",
       "freezer_status       object\n",
       "outlet_region        object\n",
       "outlet_code          object\n",
       "sales_quantity        int64\n",
       "dtype: object"
      ]
     },
     "execution_count": 4,
     "metadata": {},
     "output_type": "execute_result"
    }
   ],
   "source": [
    "# Find the data type for each column\n",
    "Sales_train.dtypes"
   ]
  },
  {
   "cell_type": "code",
   "execution_count": 5,
   "id": "5dd43caf",
   "metadata": {
    "execution": {
     "iopub.execute_input": "2023-12-02T19:08:33.393159Z",
     "iopub.status.busy": "2023-12-02T19:08:33.392475Z",
     "iopub.status.idle": "2023-12-02T19:08:33.461482Z",
     "shell.execute_reply": "2023-12-02T19:08:33.460262Z"
    },
    "papermill": {
     "duration": 0.088729,
     "end_time": "2023-12-02T19:08:33.464131",
     "exception": false,
     "start_time": "2023-12-02T19:08:33.375402",
     "status": "completed"
    },
    "tags": []
   },
   "outputs": [
    {
     "data": {
      "text/plain": [
       "week_start_date      0\n",
       "expected_rainfall    0\n",
       "freezer_status       0\n",
       "outlet_region        0\n",
       "outlet_code          0\n",
       "sales_quantity       0\n",
       "dtype: int64"
      ]
     },
     "execution_count": 5,
     "metadata": {},
     "output_type": "execute_result"
    }
   ],
   "source": [
    "# Checking Missing Values \n",
    "Sales_train.isnull().sum()"
   ]
  },
  {
   "cell_type": "code",
   "execution_count": 6,
   "id": "69d94951",
   "metadata": {
    "execution": {
     "iopub.execute_input": "2023-12-02T19:08:33.497915Z",
     "iopub.status.busy": "2023-12-02T19:08:33.496956Z",
     "iopub.status.idle": "2023-12-02T19:08:33.543870Z",
     "shell.execute_reply": "2023-12-02T19:08:33.543094Z"
    },
    "papermill": {
     "duration": 0.067133,
     "end_time": "2023-12-02T19:08:33.546825",
     "exception": false,
     "start_time": "2023-12-02T19:08:33.479692",
     "status": "completed"
    },
    "tags": []
   },
   "outputs": [
    {
     "data": {
      "text/plain": [
       "week_start_date      datetime64[ns]\n",
       "expected_rainfall            object\n",
       "freezer_status               object\n",
       "outlet_region                object\n",
       "outlet_code                  object\n",
       "sales_quantity                int64\n",
       "dtype: object"
      ]
     },
     "execution_count": 6,
     "metadata": {},
     "output_type": "execute_result"
    }
   ],
   "source": [
    "# Covert the type of Week_Start_date column into date type\n",
    "Sales_train[\"week_start_date\"] = pd.to_datetime(Sales_train['week_start_date'])\n",
    "\n",
    "Sales_train.dtypes"
   ]
  },
  {
   "cell_type": "code",
   "execution_count": 7,
   "id": "725e2f66",
   "metadata": {
    "execution": {
     "iopub.execute_input": "2023-12-02T19:08:33.586339Z",
     "iopub.status.busy": "2023-12-02T19:08:33.585172Z",
     "iopub.status.idle": "2023-12-02T19:08:33.991979Z",
     "shell.execute_reply": "2023-12-02T19:08:33.990806Z"
    },
    "papermill": {
     "duration": 0.428242,
     "end_time": "2023-12-02T19:08:33.994548",
     "exception": false,
     "start_time": "2023-12-02T19:08:33.566306",
     "status": "completed"
    },
    "tags": []
   },
   "outputs": [
    {
     "data": {
      "image/png": "[encoded data removed]",
      "text/plain": [
       "<Figure size 800x600 with 1 Axes>"
      ]
     },
     "metadata": {},
     "output_type": "display_data"
    }
   ],
   "source": [
    "# Draw the Boxplot Sales_quantity vs Outlet_region\n",
    "plt.figure(figsize=(8,6))\n",
    "sns.boxplot(y=\"sales_quantity\",x=\"outlet_region\",data=Sales_train)\n",
    "plt.show()"
   ]
  },
  {
   "cell_type": "code",
   "execution_count": 8,
   "id": "574f407c",
   "metadata": {
    "execution": {
     "iopub.execute_input": "2023-12-02T19:08:34.031266Z",
     "iopub.status.busy": "2023-12-02T19:08:34.030554Z",
     "iopub.status.idle": "2023-12-02T19:08:34.064656Z",
     "shell.execute_reply": "2023-12-02T19:08:34.063631Z"
    },
    "papermill": {
     "duration": 0.05587,
     "end_time": "2023-12-02T19:08:34.067422",
     "exception": false,
     "start_time": "2023-12-02T19:08:34.011552",
     "status": "completed"
    },
    "tags": []
   },
   "outputs": [
    {
     "name": "stdout",
     "output_type": "stream",
     "text": [
      "30.0\n"
     ]
    },
    {
     "data": {
      "text/html": [
       "<div>\n",
       "<style scoped>\n",
       "    .dataframe tbody tr th:only-of-type {\n",
       "        vertical-align: middle;\n",
       "    }\n",
       "\n",
       "    .dataframe tbody tr th {\n",
       "        vertical-align: top;\n",
       "    }\n",
       "\n",
       "    .dataframe thead th {\n",
       "        text-align: right;\n",
       "    }\n",
       "</style>\n",
       "<table border=\"1\" class=\"dataframe\">\n",
       "  <thead>\n",
       "    <tr style=\"text-align: right;\">\n",
       "      <th></th>\n",
       "      <th>week_start_date</th>\n",
       "      <th>expected_rainfall</th>\n",
       "      <th>freezer_status</th>\n",
       "      <th>outlet_region</th>\n",
       "      <th>outlet_code</th>\n",
       "      <th>sales_quantity</th>\n",
       "    </tr>\n",
       "  </thead>\n",
       "  <tbody>\n",
       "    <tr>\n",
       "      <th>2</th>\n",
       "      <td>2023-05-08</td>\n",
       "      <td>170.57mm</td>\n",
       "      <td>freezers available</td>\n",
       "      <td>outstation</td>\n",
       "      <td>outlet_code_4176</td>\n",
       "      <td>83</td>\n",
       "    </tr>\n",
       "    <tr>\n",
       "      <th>4</th>\n",
       "      <td>2023-03-27</td>\n",
       "      <td>7mm</td>\n",
       "      <td>freezers available</td>\n",
       "      <td>outstation</td>\n",
       "      <td>outlet_code_38</td>\n",
       "      <td>43</td>\n",
       "    </tr>\n",
       "    <tr>\n",
       "      <th>5</th>\n",
       "      <td>2023-04-10</td>\n",
       "      <td>0mm</td>\n",
       "      <td>freezers available</td>\n",
       "      <td>outstation</td>\n",
       "      <td>outlet_code_2006</td>\n",
       "      <td>56</td>\n",
       "    </tr>\n",
       "    <tr>\n",
       "      <th>6</th>\n",
       "      <td>2023-03-20</td>\n",
       "      <td>143.31mm</td>\n",
       "      <td>freezers available</td>\n",
       "      <td>outstation</td>\n",
       "      <td>outlet_code_3795</td>\n",
       "      <td>56</td>\n",
       "    </tr>\n",
       "    <tr>\n",
       "      <th>7</th>\n",
       "      <td>2023-03-20</td>\n",
       "      <td>138.99mm</td>\n",
       "      <td>freezers available</td>\n",
       "      <td>outstation</td>\n",
       "      <td>outlet_code_2892</td>\n",
       "      <td>53</td>\n",
       "    </tr>\n",
       "  </tbody>\n",
       "</table>\n",
       "</div>"
      ],
      "text/plain": [
       "  week_start_date expected_rainfall         freezer_status outlet_region  \\\n",
       "2      2023-05-08          170.57mm    freezers available     outstation   \n",
       "4      2023-03-27               7mm    freezers available     outstation   \n",
       "5      2023-04-10               0mm    freezers available     outstation   \n",
       "6      2023-03-20          143.31mm    freezers available     outstation   \n",
       "7      2023-03-20          138.99mm    freezers available     outstation   \n",
       "\n",
       "        outlet_code  sales_quantity  \n",
       "2  outlet_code_4176              83  \n",
       "4    outlet_code_38              43  \n",
       "5  outlet_code_2006              56  \n",
       "6  outlet_code_3795              56  \n",
       "7  outlet_code_2892              53  "
      ]
     },
     "execution_count": 8,
     "metadata": {},
     "output_type": "execute_result"
    }
   ],
   "source": [
    "# Removing OutLiers\n",
    "Q1 = Sales_train['sales_quantity'].quantile(0.25)\n",
    "Q3 = Sales_train['sales_quantity'].quantile(0.75)\n",
    "IQR = Q3 - Q1\n",
    "print(IQR)\n",
    "\n",
    "#(Sales_train['sales_quantity'] < (Q1 - 1.5 * IQR)) |(Sales_train['sales_quantity'] > (Q3 + 1.5 * IQR))\n",
    "\n",
    "out_rows=((Sales_train['sales_quantity']< (Q1 - 1.5 * IQR)) |(Sales_train['sales_quantity']> (Q3 + 1.5 * IQR)))\n",
    "\n",
    "Sales_out=Sales_train[~out_rows]\n",
    "Sales_out.head()"
   ]
  },
  {
   "cell_type": "code",
   "execution_count": 9,
   "id": "da251145",
   "metadata": {
    "execution": {
     "iopub.execute_input": "2023-12-02T19:08:34.104264Z",
     "iopub.status.busy": "2023-12-02T19:08:34.103520Z",
     "iopub.status.idle": "2023-12-02T19:08:34.109349Z",
     "shell.execute_reply": "2023-12-02T19:08:34.108500Z"
    },
    "papermill": {
     "duration": 0.026868,
     "end_time": "2023-12-02T19:08:34.111507",
     "exception": false,
     "start_time": "2023-12-02T19:08:34.084639",
     "status": "completed"
    },
    "tags": []
   },
   "outputs": [
    {
     "data": {
      "text/plain": [
       "(107814, 6)"
      ]
     },
     "execution_count": 9,
     "metadata": {},
     "output_type": "execute_result"
    }
   ],
   "source": [
    "Sales_out.shape"
   ]
  },
  {
   "cell_type": "code",
   "execution_count": 10,
   "id": "b9f06568",
   "metadata": {
    "execution": {
     "iopub.execute_input": "2023-12-02T19:08:34.147999Z",
     "iopub.status.busy": "2023-12-02T19:08:34.147390Z",
     "iopub.status.idle": "2023-12-02T19:08:34.171462Z",
     "shell.execute_reply": "2023-12-02T19:08:34.170341Z"
    },
    "papermill": {
     "duration": 0.04532,
     "end_time": "2023-12-02T19:08:34.174152",
     "exception": false,
     "start_time": "2023-12-02T19:08:34.128832",
     "status": "completed"
    },
    "tags": []
   },
   "outputs": [
    {
     "name": "stderr",
     "output_type": "stream",
     "text": [
      "/tmp/ipykernel_19/3244993922.py:2: SettingWithCopyWarning: \n",
      "A value is trying to be set on a copy of a slice from a DataFrame.\n",
      "Try using .loc[row_indexer,col_indexer] = value instead\n",
      "\n",
      "See the caveats in the documentation: https://pandas.pydata.org/pandas-docs/stable/user_guide/indexing.html#returning-a-view-versus-a-copy\n",
      "  Sales_out['Week'] = Sales_out['week_start_date'].dt.isocalendar().week\n"
     ]
    }
   ],
   "source": [
    "#add a 'week' column to the dataset for further analysis\n",
    "Sales_out['Week'] = Sales_out['week_start_date'].dt.isocalendar().week"
   ]
  },
  {
   "cell_type": "code",
   "execution_count": 11,
   "id": "85a79f21",
   "metadata": {
    "execution": {
     "iopub.execute_input": "2023-12-02T19:08:34.210243Z",
     "iopub.status.busy": "2023-12-02T19:08:34.209820Z",
     "iopub.status.idle": "2023-12-02T19:08:34.224666Z",
     "shell.execute_reply": "2023-12-02T19:08:34.223475Z"
    },
    "papermill": {
     "duration": 0.036035,
     "end_time": "2023-12-02T19:08:34.227352",
     "exception": false,
     "start_time": "2023-12-02T19:08:34.191317",
     "status": "completed"
    },
    "tags": []
   },
   "outputs": [
    {
     "data": {
      "text/html": [
       "<div>\n",
       "<style scoped>\n",
       "    .dataframe tbody tr th:only-of-type {\n",
       "        vertical-align: middle;\n",
       "    }\n",
       "\n",
       "    .dataframe tbody tr th {\n",
       "        vertical-align: top;\n",
       "    }\n",
       "\n",
       "    .dataframe thead th {\n",
       "        text-align: right;\n",
       "    }\n",
       "</style>\n",
       "<table border=\"1\" class=\"dataframe\">\n",
       "  <thead>\n",
       "    <tr style=\"text-align: right;\">\n",
       "      <th></th>\n",
       "      <th>week_start_date</th>\n",
       "      <th>expected_rainfall</th>\n",
       "      <th>freezer_status</th>\n",
       "      <th>outlet_region</th>\n",
       "      <th>outlet_code</th>\n",
       "      <th>sales_quantity</th>\n",
       "      <th>Week</th>\n",
       "    </tr>\n",
       "  </thead>\n",
       "  <tbody>\n",
       "    <tr>\n",
       "      <th>2</th>\n",
       "      <td>2023-05-08</td>\n",
       "      <td>170.57mm</td>\n",
       "      <td>freezers available</td>\n",
       "      <td>outstation</td>\n",
       "      <td>outlet_code_4176</td>\n",
       "      <td>83</td>\n",
       "      <td>19</td>\n",
       "    </tr>\n",
       "    <tr>\n",
       "      <th>4</th>\n",
       "      <td>2023-03-27</td>\n",
       "      <td>7mm</td>\n",
       "      <td>freezers available</td>\n",
       "      <td>outstation</td>\n",
       "      <td>outlet_code_38</td>\n",
       "      <td>43</td>\n",
       "      <td>13</td>\n",
       "    </tr>\n",
       "    <tr>\n",
       "      <th>5</th>\n",
       "      <td>2023-04-10</td>\n",
       "      <td>0mm</td>\n",
       "      <td>freezers available</td>\n",
       "      <td>outstation</td>\n",
       "      <td>outlet_code_2006</td>\n",
       "      <td>56</td>\n",
       "      <td>15</td>\n",
       "    </tr>\n",
       "    <tr>\n",
       "      <th>6</th>\n",
       "      <td>2023-03-20</td>\n",
       "      <td>143.31mm</td>\n",
       "      <td>freezers available</td>\n",
       "      <td>outstation</td>\n",
       "      <td>outlet_code_3795</td>\n",
       "      <td>56</td>\n",
       "      <td>12</td>\n",
       "    </tr>\n",
       "    <tr>\n",
       "      <th>7</th>\n",
       "      <td>2023-03-20</td>\n",
       "      <td>138.99mm</td>\n",
       "      <td>freezers available</td>\n",
       "      <td>outstation</td>\n",
       "      <td>outlet_code_2892</td>\n",
       "      <td>53</td>\n",
       "      <td>12</td>\n",
       "    </tr>\n",
       "    <tr>\n",
       "      <th>8</th>\n",
       "      <td>2023-01-02</td>\n",
       "      <td>14mm</td>\n",
       "      <td>freezers available</td>\n",
       "      <td>outstation</td>\n",
       "      <td>outlet_code_1738</td>\n",
       "      <td>59</td>\n",
       "      <td>1</td>\n",
       "    </tr>\n",
       "  </tbody>\n",
       "</table>\n",
       "</div>"
      ],
      "text/plain": [
       "  week_start_date expected_rainfall         freezer_status outlet_region  \\\n",
       "2      2023-05-08          170.57mm    freezers available     outstation   \n",
       "4      2023-03-27               7mm    freezers available     outstation   \n",
       "5      2023-04-10               0mm    freezers available     outstation   \n",
       "6      2023-03-20          143.31mm    freezers available     outstation   \n",
       "7      2023-03-20          138.99mm    freezers available     outstation   \n",
       "8      2023-01-02              14mm    freezers available     outstation   \n",
       "\n",
       "        outlet_code  sales_quantity  Week  \n",
       "2  outlet_code_4176              83    19  \n",
       "4    outlet_code_38              43    13  \n",
       "5  outlet_code_2006              56    15  \n",
       "6  outlet_code_3795              56    12  \n",
       "7  outlet_code_2892              53    12  \n",
       "8  outlet_code_1738              59     1  "
      ]
     },
     "execution_count": 11,
     "metadata": {},
     "output_type": "execute_result"
    }
   ],
   "source": [
    "Sales_out.head(6)"
   ]
  },
  {
   "cell_type": "code",
   "execution_count": 12,
   "id": "c682ebc2",
   "metadata": {
    "execution": {
     "iopub.execute_input": "2023-12-02T19:08:34.263681Z",
     "iopub.status.busy": "2023-12-02T19:08:34.263313Z",
     "iopub.status.idle": "2023-12-02T19:08:34.307563Z",
     "shell.execute_reply": "2023-12-02T19:08:34.306395Z"
    },
    "papermill": {
     "duration": 0.065645,
     "end_time": "2023-12-02T19:08:34.310137",
     "exception": false,
     "start_time": "2023-12-02T19:08:34.244492",
     "status": "completed"
    },
    "tags": []
   },
   "outputs": [
    {
     "data": {
      "text/html": [
       "<div>\n",
       "<style scoped>\n",
       "    .dataframe tbody tr th:only-of-type {\n",
       "        vertical-align: middle;\n",
       "    }\n",
       "\n",
       "    .dataframe tbody tr th {\n",
       "        vertical-align: top;\n",
       "    }\n",
       "\n",
       "    .dataframe thead th {\n",
       "        text-align: right;\n",
       "    }\n",
       "</style>\n",
       "<table border=\"1\" class=\"dataframe\">\n",
       "  <thead>\n",
       "    <tr style=\"text-align: right;\">\n",
       "      <th></th>\n",
       "      <th>week_start_date</th>\n",
       "      <th>sales_quantity</th>\n",
       "      <th>Week</th>\n",
       "    </tr>\n",
       "  </thead>\n",
       "  <tbody>\n",
       "    <tr>\n",
       "      <th>count</th>\n",
       "      <td>107814</td>\n",
       "      <td>107814.000000</td>\n",
       "      <td>107814.0</td>\n",
       "    </tr>\n",
       "    <tr>\n",
       "      <th>mean</th>\n",
       "      <td>2023-03-30 11:22:08.087261440</td>\n",
       "      <td>29.291576</td>\n",
       "      <td>13.496244</td>\n",
       "    </tr>\n",
       "    <tr>\n",
       "      <th>min</th>\n",
       "      <td>2023-01-02 00:00:00</td>\n",
       "      <td>3.000000</td>\n",
       "      <td>1.0</td>\n",
       "    </tr>\n",
       "    <tr>\n",
       "      <th>25%</th>\n",
       "      <td>2023-02-13 00:00:00</td>\n",
       "      <td>13.000000</td>\n",
       "      <td>7.0</td>\n",
       "    </tr>\n",
       "    <tr>\n",
       "      <th>50%</th>\n",
       "      <td>2023-03-27 00:00:00</td>\n",
       "      <td>24.000000</td>\n",
       "      <td>13.0</td>\n",
       "    </tr>\n",
       "    <tr>\n",
       "      <th>75%</th>\n",
       "      <td>2023-05-15 00:00:00</td>\n",
       "      <td>41.000000</td>\n",
       "      <td>20.0</td>\n",
       "    </tr>\n",
       "    <tr>\n",
       "      <th>max</th>\n",
       "      <td>2023-07-03 00:00:00</td>\n",
       "      <td>89.000000</td>\n",
       "      <td>27.0</td>\n",
       "    </tr>\n",
       "    <tr>\n",
       "      <th>std</th>\n",
       "      <td>NaN</td>\n",
       "      <td>19.868500</td>\n",
       "      <td>7.626234</td>\n",
       "    </tr>\n",
       "  </tbody>\n",
       "</table>\n",
       "</div>"
      ],
      "text/plain": [
       "                     week_start_date  sales_quantity       Week\n",
       "count                         107814   107814.000000   107814.0\n",
       "mean   2023-03-30 11:22:08.087261440       29.291576  13.496244\n",
       "min              2023-01-02 00:00:00        3.000000        1.0\n",
       "25%              2023-02-13 00:00:00       13.000000        7.0\n",
       "50%              2023-03-27 00:00:00       24.000000       13.0\n",
       "75%              2023-05-15 00:00:00       41.000000       20.0\n",
       "max              2023-07-03 00:00:00       89.000000       27.0\n",
       "std                              NaN       19.868500   7.626234"
      ]
     },
     "execution_count": 12,
     "metadata": {},
     "output_type": "execute_result"
    }
   ],
   "source": [
    "Sales_out.describe()"
   ]
  },
  {
   "cell_type": "code",
   "execution_count": 13,
   "id": "224a16dd",
   "metadata": {
    "execution": {
     "iopub.execute_input": "2023-12-02T19:08:34.412406Z",
     "iopub.status.busy": "2023-12-02T19:08:34.411961Z",
     "iopub.status.idle": "2023-12-02T19:08:34.431474Z",
     "shell.execute_reply": "2023-12-02T19:08:34.430226Z"
    },
    "papermill": {
     "duration": 0.041478,
     "end_time": "2023-12-02T19:08:34.434215",
     "exception": false,
     "start_time": "2023-12-02T19:08:34.392737",
     "status": "completed"
    },
    "tags": []
   },
   "outputs": [
    {
     "data": {
      "text/plain": [
       "week_start_date\n",
       "2023-01-02    22.536190\n",
       "2023-01-09    22.789286\n",
       "2023-01-16    22.845952\n",
       "2023-01-23    22.201190\n",
       "2023-01-30    22.836190\n",
       "2023-02-06    23.308810\n",
       "2023-02-13    23.314762\n",
       "2023-02-20    23.292143\n",
       "2023-02-27    22.823571\n",
       "2023-03-06    23.466905\n",
       "2023-03-13    23.400000\n",
       "2023-03-20    25.381665\n",
       "2023-03-27    25.577381\n",
       "2023-04-03    27.338267\n",
       "2023-04-10    28.547728\n",
       "2023-04-17    28.325354\n",
       "2023-04-24    31.459815\n",
       "2023-05-01    32.984871\n",
       "2023-05-08    32.017627\n",
       "2023-05-15    34.477073\n",
       "2023-05-22    37.413793\n",
       "2023-05-29    39.626984\n",
       "2023-06-05    36.583170\n",
       "2023-06-12    41.927401\n",
       "2023-06-19    43.291813\n",
       "2023-06-26    43.793660\n",
       "2023-07-03    43.963921\n",
       "Name: sales_quantity, dtype: float64"
      ]
     },
     "execution_count": 13,
     "metadata": {},
     "output_type": "execute_result"
    }
   ],
   "source": [
    "# Find the average sales for each Date\n",
    "Avg = Sales_out.groupby('week_start_date')['sales_quantity'].mean()\n",
    "Avg"
   ]
  },
  {
   "cell_type": "code",
   "execution_count": 14,
   "id": "298c5457",
   "metadata": {
    "execution": {
     "iopub.execute_input": "2023-12-02T19:08:34.472463Z",
     "iopub.status.busy": "2023-12-02T19:08:34.472054Z",
     "iopub.status.idle": "2023-12-02T19:08:34.495643Z",
     "shell.execute_reply": "2023-12-02T19:08:34.494427Z"
    },
    "papermill": {
     "duration": 0.045864,
     "end_time": "2023-12-02T19:08:34.498566",
     "exception": false,
     "start_time": "2023-12-02T19:08:34.452702",
     "status": "completed"
    },
    "tags": []
   },
   "outputs": [
    {
     "name": "stderr",
     "output_type": "stream",
     "text": [
      "/tmp/ipykernel_19/2482711756.py:2: SettingWithCopyWarning: \n",
      "A value is trying to be set on a copy of a slice from a DataFrame.\n",
      "Try using .loc[row_indexer,col_indexer] = value instead\n",
      "\n",
      "See the caveats in the documentation: https://pandas.pydata.org/pandas-docs/stable/user_guide/indexing.html#returning-a-view-versus-a-copy\n",
      "  Sales_out['AverageSales'] = Sales_out['week_start_date'].map(Avg)\n"
     ]
    },
    {
     "data": {
      "text/html": [
       "<div>\n",
       "<style scoped>\n",
       "    .dataframe tbody tr th:only-of-type {\n",
       "        vertical-align: middle;\n",
       "    }\n",
       "\n",
       "    .dataframe tbody tr th {\n",
       "        vertical-align: top;\n",
       "    }\n",
       "\n",
       "    .dataframe thead th {\n",
       "        text-align: right;\n",
       "    }\n",
       "</style>\n",
       "<table border=\"1\" class=\"dataframe\">\n",
       "  <thead>\n",
       "    <tr style=\"text-align: right;\">\n",
       "      <th></th>\n",
       "      <th>week_start_date</th>\n",
       "      <th>expected_rainfall</th>\n",
       "      <th>freezer_status</th>\n",
       "      <th>outlet_region</th>\n",
       "      <th>outlet_code</th>\n",
       "      <th>sales_quantity</th>\n",
       "      <th>Week</th>\n",
       "      <th>AverageSales</th>\n",
       "    </tr>\n",
       "  </thead>\n",
       "  <tbody>\n",
       "    <tr>\n",
       "      <th>2</th>\n",
       "      <td>2023-05-08</td>\n",
       "      <td>170.57mm</td>\n",
       "      <td>freezers available</td>\n",
       "      <td>outstation</td>\n",
       "      <td>outlet_code_4176</td>\n",
       "      <td>83</td>\n",
       "      <td>19</td>\n",
       "      <td>32.017627</td>\n",
       "    </tr>\n",
       "    <tr>\n",
       "      <th>4</th>\n",
       "      <td>2023-03-27</td>\n",
       "      <td>7mm</td>\n",
       "      <td>freezers available</td>\n",
       "      <td>outstation</td>\n",
       "      <td>outlet_code_38</td>\n",
       "      <td>43</td>\n",
       "      <td>13</td>\n",
       "      <td>25.577381</td>\n",
       "    </tr>\n",
       "    <tr>\n",
       "      <th>5</th>\n",
       "      <td>2023-04-10</td>\n",
       "      <td>0mm</td>\n",
       "      <td>freezers available</td>\n",
       "      <td>outstation</td>\n",
       "      <td>outlet_code_2006</td>\n",
       "      <td>56</td>\n",
       "      <td>15</td>\n",
       "      <td>28.547728</td>\n",
       "    </tr>\n",
       "    <tr>\n",
       "      <th>6</th>\n",
       "      <td>2023-03-20</td>\n",
       "      <td>143.31mm</td>\n",
       "      <td>freezers available</td>\n",
       "      <td>outstation</td>\n",
       "      <td>outlet_code_3795</td>\n",
       "      <td>56</td>\n",
       "      <td>12</td>\n",
       "      <td>25.381665</td>\n",
       "    </tr>\n",
       "    <tr>\n",
       "      <th>7</th>\n",
       "      <td>2023-03-20</td>\n",
       "      <td>138.99mm</td>\n",
       "      <td>freezers available</td>\n",
       "      <td>outstation</td>\n",
       "      <td>outlet_code_2892</td>\n",
       "      <td>53</td>\n",
       "      <td>12</td>\n",
       "      <td>25.381665</td>\n",
       "    </tr>\n",
       "    <tr>\n",
       "      <th>...</th>\n",
       "      <td>...</td>\n",
       "      <td>...</td>\n",
       "      <td>...</td>\n",
       "      <td>...</td>\n",
       "      <td>...</td>\n",
       "      <td>...</td>\n",
       "      <td>...</td>\n",
       "      <td>...</td>\n",
       "    </tr>\n",
       "    <tr>\n",
       "      <th>113395</th>\n",
       "      <td>2023-04-24</td>\n",
       "      <td>61mm</td>\n",
       "      <td>freezers available</td>\n",
       "      <td>western</td>\n",
       "      <td>outlet_code_2946</td>\n",
       "      <td>27</td>\n",
       "      <td>17</td>\n",
       "      <td>31.459815</td>\n",
       "    </tr>\n",
       "    <tr>\n",
       "      <th>113396</th>\n",
       "      <td>2023-02-20</td>\n",
       "      <td>10mm</td>\n",
       "      <td>freezers available</td>\n",
       "      <td>western</td>\n",
       "      <td>outlet_code_3671</td>\n",
       "      <td>36</td>\n",
       "      <td>8</td>\n",
       "      <td>23.292143</td>\n",
       "    </tr>\n",
       "    <tr>\n",
       "      <th>113397</th>\n",
       "      <td>2023-06-05</td>\n",
       "      <td>98.28mm</td>\n",
       "      <td>freezers available</td>\n",
       "      <td>western</td>\n",
       "      <td>outlet_code_3671</td>\n",
       "      <td>76</td>\n",
       "      <td>23</td>\n",
       "      <td>36.583170</td>\n",
       "    </tr>\n",
       "    <tr>\n",
       "      <th>113398</th>\n",
       "      <td>2023-06-05</td>\n",
       "      <td>120.46mm</td>\n",
       "      <td>freezers available</td>\n",
       "      <td>western</td>\n",
       "      <td>outlet_code_2618</td>\n",
       "      <td>76</td>\n",
       "      <td>23</td>\n",
       "      <td>36.583170</td>\n",
       "    </tr>\n",
       "    <tr>\n",
       "      <th>113399</th>\n",
       "      <td>2023-05-01</td>\n",
       "      <td>48mm</td>\n",
       "      <td>freezers available</td>\n",
       "      <td>western</td>\n",
       "      <td>outlet_code_1163</td>\n",
       "      <td>30</td>\n",
       "      <td>18</td>\n",
       "      <td>32.984871</td>\n",
       "    </tr>\n",
       "  </tbody>\n",
       "</table>\n",
       "<p>107814 rows × 8 columns</p>\n",
       "</div>"
      ],
      "text/plain": [
       "       week_start_date expected_rainfall         freezer_status outlet_region  \\\n",
       "2           2023-05-08          170.57mm    freezers available     outstation   \n",
       "4           2023-03-27               7mm    freezers available     outstation   \n",
       "5           2023-04-10               0mm    freezers available     outstation   \n",
       "6           2023-03-20          143.31mm    freezers available     outstation   \n",
       "7           2023-03-20          138.99mm    freezers available     outstation   \n",
       "...                ...               ...                    ...           ...   \n",
       "113395      2023-04-24              61mm    freezers available        western   \n",
       "113396      2023-02-20              10mm    freezers available        western   \n",
       "113397      2023-06-05           98.28mm    freezers available        western   \n",
       "113398      2023-06-05          120.46mm    freezers available        western   \n",
       "113399      2023-05-01              48mm    freezers available        western   \n",
       "\n",
       "             outlet_code  sales_quantity  Week  AverageSales  \n",
       "2       outlet_code_4176              83    19     32.017627  \n",
       "4         outlet_code_38              43    13     25.577381  \n",
       "5       outlet_code_2006              56    15     28.547728  \n",
       "6       outlet_code_3795              56    12     25.381665  \n",
       "7       outlet_code_2892              53    12     25.381665  \n",
       "...                  ...             ...   ...           ...  \n",
       "113395  outlet_code_2946              27    17     31.459815  \n",
       "113396  outlet_code_3671              36     8     23.292143  \n",
       "113397  outlet_code_3671              76    23     36.583170  \n",
       "113398  outlet_code_2618              76    23     36.583170  \n",
       "113399  outlet_code_1163              30    18     32.984871  \n",
       "\n",
       "[107814 rows x 8 columns]"
      ]
     },
     "execution_count": 14,
     "metadata": {},
     "output_type": "execute_result"
    }
   ],
   "source": [
    "# Merge the Average Sales Column\n",
    "Sales_out['AverageSales'] = Sales_out['week_start_date'].map(Avg)\n",
    "Sales_out"
   ]
  },
  {
   "cell_type": "code",
   "execution_count": 15,
   "id": "c72efb7c",
   "metadata": {
    "execution": {
     "iopub.execute_input": "2023-12-02T19:08:34.536934Z",
     "iopub.status.busy": "2023-12-02T19:08:34.536514Z",
     "iopub.status.idle": "2023-12-02T19:08:34.591576Z",
     "shell.execute_reply": "2023-12-02T19:08:34.590485Z"
    },
    "papermill": {
     "duration": 0.07735,
     "end_time": "2023-12-02T19:08:34.594158",
     "exception": false,
     "start_time": "2023-12-02T19:08:34.516808",
     "status": "completed"
    },
    "tags": []
   },
   "outputs": [
    {
     "data": {
      "text/plain": [
       "week_start_date      0\n",
       "expected_rainfall    0\n",
       "freezer_status       0\n",
       "outlet_region        0\n",
       "outlet_code          0\n",
       "sales_quantity       0\n",
       "Week                 0\n",
       "AverageSales         0\n",
       "dtype: int64"
      ]
     },
     "execution_count": 15,
     "metadata": {},
     "output_type": "execute_result"
    }
   ],
   "source": [
    "Sales_out.isnull().sum()"
   ]
  },
  {
   "cell_type": "code",
   "execution_count": 16,
   "id": "99f5961e",
   "metadata": {
    "execution": {
     "iopub.execute_input": "2023-12-02T19:08:34.634074Z",
     "iopub.status.busy": "2023-12-02T19:08:34.633633Z",
     "iopub.status.idle": "2023-12-02T19:08:34.713474Z",
     "shell.execute_reply": "2023-12-02T19:08:34.712209Z"
    },
    "papermill": {
     "duration": 0.103051,
     "end_time": "2023-12-02T19:08:34.716118",
     "exception": false,
     "start_time": "2023-12-02T19:08:34.613067",
     "status": "completed"
    },
    "tags": []
   },
   "outputs": [],
   "source": [
    "Outstation_AvgSum = Sales_out[Sales_out['outlet_region'] == 'outstation']['AverageSales'].sum()\n",
    "Western_AvgSum = Sales_out[Sales_out['outlet_region'] == 'western']['AverageSales'].sum()\n",
    "Upcountry_AvgSum = Sales_out[Sales_out['outlet_region'] == 'upcountry']['AverageSales'].sum()\n",
    "\n",
    "Region = ['outstation','western','upcountry']\n",
    "Average =[Outstation_AvgSum,Western_AvgSum,Upcountry_AvgSum]"
   ]
  },
  {
   "cell_type": "code",
   "execution_count": 17,
   "id": "5c14a403",
   "metadata": {
    "execution": {
     "iopub.execute_input": "2023-12-02T19:08:34.755933Z",
     "iopub.status.busy": "2023-12-02T19:08:34.755518Z",
     "iopub.status.idle": "2023-12-02T19:08:34.980043Z",
     "shell.execute_reply": "2023-12-02T19:08:34.978863Z"
    },
    "papermill": {
     "duration": 0.247629,
     "end_time": "2023-12-02T19:08:34.982571",
     "exception": false,
     "start_time": "2023-12-02T19:08:34.734942",
     "status": "completed"
    },
    "tags": []
   },
   "outputs": [
    {
     "data": {
      "image/png": "[encoded data removed]",
      "text/plain": [
       "<Figure size 640x480 with 1 Axes>"
      ]
     },
     "metadata": {},
     "output_type": "display_data"
    }
   ],
   "source": [
    "# Draw the the barchart for each outlet_region vs weekly average sales\n",
    "plt.bar(Region,Average)\n",
    "plt.show()"
   ]
  },
  {
   "cell_type": "code",
   "execution_count": 18,
   "id": "cb47a5f6",
   "metadata": {
    "execution": {
     "iopub.execute_input": "2023-12-02T19:08:35.023183Z",
     "iopub.status.busy": "2023-12-02T19:08:35.022653Z",
     "iopub.status.idle": "2023-12-02T19:08:35.037403Z",
     "shell.execute_reply": "2023-12-02T19:08:35.036502Z"
    },
    "papermill": {
     "duration": 0.0378,
     "end_time": "2023-12-02T19:08:35.039751",
     "exception": false,
     "start_time": "2023-12-02T19:08:35.001951",
     "status": "completed"
    },
    "tags": []
   },
   "outputs": [
    {
     "data": {
      "text/plain": [
       "week_start_date\n",
       "2023-01-02     94652\n",
       "2023-01-09     95715\n",
       "2023-01-16     95953\n",
       "2023-01-23     93245\n",
       "2023-01-30     95912\n",
       "2023-02-06     97897\n",
       "2023-02-13     97922\n",
       "2023-02-20     97827\n",
       "2023-02-27     95859\n",
       "2023-03-06     98561\n",
       "2023-03-13     98280\n",
       "2023-03-20    105207\n",
       "2023-03-27    107425\n",
       "2023-04-03    114520\n",
       "2023-04-10    118730\n",
       "2023-04-17    115964\n",
       "2023-04-24    129174\n",
       "2023-05-01    135172\n",
       "2023-05-08    128967\n",
       "2023-05-15    137598\n",
       "2023-05-22    145390\n",
       "2023-05-29    149790\n",
       "2023-06-05    130419\n",
       "2023-06-12    148423\n",
       "2023-06-19    148058\n",
       "2023-06-26    143687\n",
       "2023-07-03    137695\n",
       "Name: sales_quantity, dtype: int64"
      ]
     },
     "execution_count": 18,
     "metadata": {},
     "output_type": "execute_result"
    }
   ],
   "source": [
    "TotalSales = Sales_out.groupby('week_start_date')['sales_quantity'].sum()\n",
    "TotalSales"
   ]
  },
  {
   "cell_type": "code",
   "execution_count": 19,
   "id": "1e2684a3",
   "metadata": {
    "execution": {
     "iopub.execute_input": "2023-12-02T19:08:35.083809Z",
     "iopub.status.busy": "2023-12-02T19:08:35.083050Z",
     "iopub.status.idle": "2023-12-02T19:08:35.108625Z",
     "shell.execute_reply": "2023-12-02T19:08:35.107693Z"
    },
    "papermill": {
     "duration": 0.048307,
     "end_time": "2023-12-02T19:08:35.110765",
     "exception": false,
     "start_time": "2023-12-02T19:08:35.062458",
     "status": "completed"
    },
    "tags": []
   },
   "outputs": [
    {
     "name": "stderr",
     "output_type": "stream",
     "text": [
      "/tmp/ipykernel_19/545124655.py:1: SettingWithCopyWarning: \n",
      "A value is trying to be set on a copy of a slice from a DataFrame.\n",
      "Try using .loc[row_indexer,col_indexer] = value instead\n",
      "\n",
      "See the caveats in the documentation: https://pandas.pydata.org/pandas-docs/stable/user_guide/indexing.html#returning-a-view-versus-a-copy\n",
      "  Sales_out['TotalSales'] = Sales_out['week_start_date'].map(TotalSales)\n"
     ]
    },
    {
     "data": {
      "text/html": [
       "<div>\n",
       "<style scoped>\n",
       "    .dataframe tbody tr th:only-of-type {\n",
       "        vertical-align: middle;\n",
       "    }\n",
       "\n",
       "    .dataframe tbody tr th {\n",
       "        vertical-align: top;\n",
       "    }\n",
       "\n",
       "    .dataframe thead th {\n",
       "        text-align: right;\n",
       "    }\n",
       "</style>\n",
       "<table border=\"1\" class=\"dataframe\">\n",
       "  <thead>\n",
       "    <tr style=\"text-align: right;\">\n",
       "      <th></th>\n",
       "      <th>week_start_date</th>\n",
       "      <th>expected_rainfall</th>\n",
       "      <th>freezer_status</th>\n",
       "      <th>outlet_region</th>\n",
       "      <th>outlet_code</th>\n",
       "      <th>sales_quantity</th>\n",
       "      <th>Week</th>\n",
       "      <th>AverageSales</th>\n",
       "      <th>TotalSales</th>\n",
       "    </tr>\n",
       "  </thead>\n",
       "  <tbody>\n",
       "    <tr>\n",
       "      <th>2</th>\n",
       "      <td>2023-05-08</td>\n",
       "      <td>170.57mm</td>\n",
       "      <td>freezers available</td>\n",
       "      <td>outstation</td>\n",
       "      <td>outlet_code_4176</td>\n",
       "      <td>83</td>\n",
       "      <td>19</td>\n",
       "      <td>32.017627</td>\n",
       "      <td>128967</td>\n",
       "    </tr>\n",
       "    <tr>\n",
       "      <th>4</th>\n",
       "      <td>2023-03-27</td>\n",
       "      <td>7mm</td>\n",
       "      <td>freezers available</td>\n",
       "      <td>outstation</td>\n",
       "      <td>outlet_code_38</td>\n",
       "      <td>43</td>\n",
       "      <td>13</td>\n",
       "      <td>25.577381</td>\n",
       "      <td>107425</td>\n",
       "    </tr>\n",
       "    <tr>\n",
       "      <th>5</th>\n",
       "      <td>2023-04-10</td>\n",
       "      <td>0mm</td>\n",
       "      <td>freezers available</td>\n",
       "      <td>outstation</td>\n",
       "      <td>outlet_code_2006</td>\n",
       "      <td>56</td>\n",
       "      <td>15</td>\n",
       "      <td>28.547728</td>\n",
       "      <td>118730</td>\n",
       "    </tr>\n",
       "    <tr>\n",
       "      <th>6</th>\n",
       "      <td>2023-03-20</td>\n",
       "      <td>143.31mm</td>\n",
       "      <td>freezers available</td>\n",
       "      <td>outstation</td>\n",
       "      <td>outlet_code_3795</td>\n",
       "      <td>56</td>\n",
       "      <td>12</td>\n",
       "      <td>25.381665</td>\n",
       "      <td>105207</td>\n",
       "    </tr>\n",
       "    <tr>\n",
       "      <th>7</th>\n",
       "      <td>2023-03-20</td>\n",
       "      <td>138.99mm</td>\n",
       "      <td>freezers available</td>\n",
       "      <td>outstation</td>\n",
       "      <td>outlet_code_2892</td>\n",
       "      <td>53</td>\n",
       "      <td>12</td>\n",
       "      <td>25.381665</td>\n",
       "      <td>105207</td>\n",
       "    </tr>\n",
       "    <tr>\n",
       "      <th>...</th>\n",
       "      <td>...</td>\n",
       "      <td>...</td>\n",
       "      <td>...</td>\n",
       "      <td>...</td>\n",
       "      <td>...</td>\n",
       "      <td>...</td>\n",
       "      <td>...</td>\n",
       "      <td>...</td>\n",
       "      <td>...</td>\n",
       "    </tr>\n",
       "    <tr>\n",
       "      <th>113395</th>\n",
       "      <td>2023-04-24</td>\n",
       "      <td>61mm</td>\n",
       "      <td>freezers available</td>\n",
       "      <td>western</td>\n",
       "      <td>outlet_code_2946</td>\n",
       "      <td>27</td>\n",
       "      <td>17</td>\n",
       "      <td>31.459815</td>\n",
       "      <td>129174</td>\n",
       "    </tr>\n",
       "    <tr>\n",
       "      <th>113396</th>\n",
       "      <td>2023-02-20</td>\n",
       "      <td>10mm</td>\n",
       "      <td>freezers available</td>\n",
       "      <td>western</td>\n",
       "      <td>outlet_code_3671</td>\n",
       "      <td>36</td>\n",
       "      <td>8</td>\n",
       "      <td>23.292143</td>\n",
       "      <td>97827</td>\n",
       "    </tr>\n",
       "    <tr>\n",
       "      <th>113397</th>\n",
       "      <td>2023-06-05</td>\n",
       "      <td>98.28mm</td>\n",
       "      <td>freezers available</td>\n",
       "      <td>western</td>\n",
       "      <td>outlet_code_3671</td>\n",
       "      <td>76</td>\n",
       "      <td>23</td>\n",
       "      <td>36.583170</td>\n",
       "      <td>130419</td>\n",
       "    </tr>\n",
       "    <tr>\n",
       "      <th>113398</th>\n",
       "      <td>2023-06-05</td>\n",
       "      <td>120.46mm</td>\n",
       "      <td>freezers available</td>\n",
       "      <td>western</td>\n",
       "      <td>outlet_code_2618</td>\n",
       "      <td>76</td>\n",
       "      <td>23</td>\n",
       "      <td>36.583170</td>\n",
       "      <td>130419</td>\n",
       "    </tr>\n",
       "    <tr>\n",
       "      <th>113399</th>\n",
       "      <td>2023-05-01</td>\n",
       "      <td>48mm</td>\n",
       "      <td>freezers available</td>\n",
       "      <td>western</td>\n",
       "      <td>outlet_code_1163</td>\n",
       "      <td>30</td>\n",
       "      <td>18</td>\n",
       "      <td>32.984871</td>\n",
       "      <td>135172</td>\n",
       "    </tr>\n",
       "  </tbody>\n",
       "</table>\n",
       "<p>107814 rows × 9 columns</p>\n",
       "</div>"
      ],
      "text/plain": [
       "       week_start_date expected_rainfall         freezer_status outlet_region  \\\n",
       "2           2023-05-08          170.57mm    freezers available     outstation   \n",
       "4           2023-03-27               7mm    freezers available     outstation   \n",
       "5           2023-04-10               0mm    freezers available     outstation   \n",
       "6           2023-03-20          143.31mm    freezers available     outstation   \n",
       "7           2023-03-20          138.99mm    freezers available     outstation   \n",
       "...                ...               ...                    ...           ...   \n",
       "113395      2023-04-24              61mm    freezers available        western   \n",
       "113396      2023-02-20              10mm    freezers available        western   \n",
       "113397      2023-06-05           98.28mm    freezers available        western   \n",
       "113398      2023-06-05          120.46mm    freezers available        western   \n",
       "113399      2023-05-01              48mm    freezers available        western   \n",
       "\n",
       "             outlet_code  sales_quantity  Week  AverageSales  TotalSales  \n",
       "2       outlet_code_4176              83    19     32.017627      128967  \n",
       "4         outlet_code_38              43    13     25.577381      107425  \n",
       "5       outlet_code_2006              56    15     28.547728      118730  \n",
       "6       outlet_code_3795              56    12     25.381665      105207  \n",
       "7       outlet_code_2892              53    12     25.381665      105207  \n",
       "...                  ...             ...   ...           ...         ...  \n",
       "113395  outlet_code_2946              27    17     31.459815      129174  \n",
       "113396  outlet_code_3671              36     8     23.292143       97827  \n",
       "113397  outlet_code_3671              76    23     36.583170      130419  \n",
       "113398  outlet_code_2618              76    23     36.583170      130419  \n",
       "113399  outlet_code_1163              30    18     32.984871      135172  \n",
       "\n",
       "[107814 rows x 9 columns]"
      ]
     },
     "execution_count": 19,
     "metadata": {},
     "output_type": "execute_result"
    }
   ],
   "source": [
    "Sales_out['TotalSales'] = Sales_out['week_start_date'].map(TotalSales)\n",
    "Sales_out"
   ]
  },
  {
   "cell_type": "code",
   "execution_count": 20,
   "id": "7afdd577",
   "metadata": {
    "execution": {
     "iopub.execute_input": "2023-12-02T19:08:35.152090Z",
     "iopub.status.busy": "2023-12-02T19:08:35.151296Z",
     "iopub.status.idle": "2023-12-02T19:08:35.541608Z",
     "shell.execute_reply": "2023-12-02T19:08:35.540664Z"
    },
    "papermill": {
     "duration": 0.413814,
     "end_time": "2023-12-02T19:08:35.544152",
     "exception": false,
     "start_time": "2023-12-02T19:08:35.130338",
     "status": "completed"
    },
    "tags": []
   },
   "outputs": [
    {
     "name": "stderr",
     "output_type": "stream",
     "text": [
      "/tmp/ipykernel_19/2680309944.py:2: SettingWithCopyWarning: \n",
      "A value is trying to be set on a copy of a slice from a DataFrame.\n",
      "Try using .loc[row_indexer,col_indexer] = value instead\n",
      "\n",
      "See the caveats in the documentation: https://pandas.pydata.org/pandas-docs/stable/user_guide/indexing.html#returning-a-view-versus-a-copy\n",
      "  Sales_out['expected_rainfall'] = Sales_out['expected_rainfall'].str.extract(r'(\\d+)').astype(float)\n"
     ]
    }
   ],
   "source": [
    "# Change type for expected rainfall to float\n",
    "Sales_out['expected_rainfall'] = Sales_out['expected_rainfall'].str.extract(r'(\\d+)').astype(float)"
   ]
  },
  {
   "cell_type": "code",
   "execution_count": 21,
   "id": "95f90c33",
   "metadata": {
    "execution": {
     "iopub.execute_input": "2023-12-02T19:08:35.586037Z",
     "iopub.status.busy": "2023-12-02T19:08:35.584936Z",
     "iopub.status.idle": "2023-12-02T19:08:35.604662Z",
     "shell.execute_reply": "2023-12-02T19:08:35.603595Z"
    },
    "papermill": {
     "duration": 0.043447,
     "end_time": "2023-12-02T19:08:35.607317",
     "exception": false,
     "start_time": "2023-12-02T19:08:35.563870",
     "status": "completed"
    },
    "tags": []
   },
   "outputs": [
    {
     "data": {
      "text/html": [
       "<div>\n",
       "<style scoped>\n",
       "    .dataframe tbody tr th:only-of-type {\n",
       "        vertical-align: middle;\n",
       "    }\n",
       "\n",
       "    .dataframe tbody tr th {\n",
       "        vertical-align: top;\n",
       "    }\n",
       "\n",
       "    .dataframe thead th {\n",
       "        text-align: right;\n",
       "    }\n",
       "</style>\n",
       "<table border=\"1\" class=\"dataframe\">\n",
       "  <thead>\n",
       "    <tr style=\"text-align: right;\">\n",
       "      <th></th>\n",
       "      <th>week_start_date</th>\n",
       "      <th>expected_rainfall</th>\n",
       "      <th>freezer_status</th>\n",
       "      <th>outlet_region</th>\n",
       "      <th>outlet_code</th>\n",
       "      <th>sales_quantity</th>\n",
       "      <th>Week</th>\n",
       "      <th>AverageSales</th>\n",
       "      <th>TotalSales</th>\n",
       "    </tr>\n",
       "  </thead>\n",
       "  <tbody>\n",
       "    <tr>\n",
       "      <th>2</th>\n",
       "      <td>2023-05-08</td>\n",
       "      <td>170.0</td>\n",
       "      <td>freezers available</td>\n",
       "      <td>outstation</td>\n",
       "      <td>outlet_code_4176</td>\n",
       "      <td>83</td>\n",
       "      <td>19</td>\n",
       "      <td>32.017627</td>\n",
       "      <td>128967</td>\n",
       "    </tr>\n",
       "    <tr>\n",
       "      <th>4</th>\n",
       "      <td>2023-03-27</td>\n",
       "      <td>7.0</td>\n",
       "      <td>freezers available</td>\n",
       "      <td>outstation</td>\n",
       "      <td>outlet_code_38</td>\n",
       "      <td>43</td>\n",
       "      <td>13</td>\n",
       "      <td>25.577381</td>\n",
       "      <td>107425</td>\n",
       "    </tr>\n",
       "    <tr>\n",
       "      <th>5</th>\n",
       "      <td>2023-04-10</td>\n",
       "      <td>0.0</td>\n",
       "      <td>freezers available</td>\n",
       "      <td>outstation</td>\n",
       "      <td>outlet_code_2006</td>\n",
       "      <td>56</td>\n",
       "      <td>15</td>\n",
       "      <td>28.547728</td>\n",
       "      <td>118730</td>\n",
       "    </tr>\n",
       "    <tr>\n",
       "      <th>6</th>\n",
       "      <td>2023-03-20</td>\n",
       "      <td>143.0</td>\n",
       "      <td>freezers available</td>\n",
       "      <td>outstation</td>\n",
       "      <td>outlet_code_3795</td>\n",
       "      <td>56</td>\n",
       "      <td>12</td>\n",
       "      <td>25.381665</td>\n",
       "      <td>105207</td>\n",
       "    </tr>\n",
       "    <tr>\n",
       "      <th>7</th>\n",
       "      <td>2023-03-20</td>\n",
       "      <td>138.0</td>\n",
       "      <td>freezers available</td>\n",
       "      <td>outstation</td>\n",
       "      <td>outlet_code_2892</td>\n",
       "      <td>53</td>\n",
       "      <td>12</td>\n",
       "      <td>25.381665</td>\n",
       "      <td>105207</td>\n",
       "    </tr>\n",
       "  </tbody>\n",
       "</table>\n",
       "</div>"
      ],
      "text/plain": [
       "  week_start_date  expected_rainfall         freezer_status outlet_region  \\\n",
       "2      2023-05-08              170.0    freezers available     outstation   \n",
       "4      2023-03-27                7.0    freezers available     outstation   \n",
       "5      2023-04-10                0.0    freezers available     outstation   \n",
       "6      2023-03-20              143.0    freezers available     outstation   \n",
       "7      2023-03-20              138.0    freezers available     outstation   \n",
       "\n",
       "        outlet_code  sales_quantity  Week  AverageSales  TotalSales  \n",
       "2  outlet_code_4176              83    19     32.017627      128967  \n",
       "4    outlet_code_38              43    13     25.577381      107425  \n",
       "5  outlet_code_2006              56    15     28.547728      118730  \n",
       "6  outlet_code_3795              56    12     25.381665      105207  \n",
       "7  outlet_code_2892              53    12     25.381665      105207  "
      ]
     },
     "execution_count": 21,
     "metadata": {},
     "output_type": "execute_result"
    }
   ],
   "source": [
    "Sales_out.head()"
   ]
  },
  {
   "cell_type": "code",
   "execution_count": 22,
   "id": "90a9f1ed",
   "metadata": {
    "execution": {
     "iopub.execute_input": "2023-12-02T19:08:35.649214Z",
     "iopub.status.busy": "2023-12-02T19:08:35.648818Z",
     "iopub.status.idle": "2023-12-02T19:08:35.661503Z",
     "shell.execute_reply": "2023-12-02T19:08:35.660270Z"
    },
    "papermill": {
     "duration": 0.036881,
     "end_time": "2023-12-02T19:08:35.664201",
     "exception": false,
     "start_time": "2023-12-02T19:08:35.627320",
     "status": "completed"
    },
    "tags": []
   },
   "outputs": [
    {
     "data": {
      "text/plain": [
       "-0.10097649991353731"
      ]
     },
     "execution_count": 22,
     "metadata": {},
     "output_type": "execute_result"
    }
   ],
   "source": [
    "# Correlation between expected_rainfall vs TotalSales\n",
    "correlation = Sales_out['expected_rainfall'].corr(Sales_out['TotalSales'])\n",
    "correlation"
   ]
  },
  {
   "cell_type": "code",
   "execution_count": 23,
   "id": "a1650cb0",
   "metadata": {
    "execution": {
     "iopub.execute_input": "2023-12-02T19:08:35.707218Z",
     "iopub.status.busy": "2023-12-02T19:08:35.706788Z",
     "iopub.status.idle": "2023-12-02T19:08:36.174026Z",
     "shell.execute_reply": "2023-12-02T19:08:36.172759Z"
    },
    "papermill": {
     "duration": 0.49238,
     "end_time": "2023-12-02T19:08:36.176788",
     "exception": false,
     "start_time": "2023-12-02T19:08:35.684408",
     "status": "completed"
    },
    "tags": []
   },
   "outputs": [
    {
     "data": {
      "image/png": "[encoded data removed]",
      "text/plain": [
       "<Figure size 640x480 with 1 Axes>"
      ]
     },
     "metadata": {},
     "output_type": "display_data"
    }
   ],
   "source": [
    "# scatter plot between expected_rainfall vs TotalSales\n",
    "plt.scatter(Sales_out['expected_rainfall'],Sales_out['TotalSales'],color='blue', marker='o',linewidths=0.2)\n",
    "plt.show()"
   ]
  },
  {
   "cell_type": "code",
   "execution_count": 24,
   "id": "f1a878af",
   "metadata": {
    "execution": {
     "iopub.execute_input": "2023-12-02T19:08:36.219411Z",
     "iopub.status.busy": "2023-12-02T19:08:36.218976Z",
     "iopub.status.idle": "2023-12-02T19:08:36.660075Z",
     "shell.execute_reply": "2023-12-02T19:08:36.659197Z"
    },
    "papermill": {
     "duration": 0.465293,
     "end_time": "2023-12-02T19:08:36.662498",
     "exception": false,
     "start_time": "2023-12-02T19:08:36.197205",
     "status": "completed"
    },
    "tags": []
   },
   "outputs": [
    {
     "name": "stderr",
     "output_type": "stream",
     "text": [
      "/tmp/ipykernel_19/871430281.py:7: FutureWarning: \n",
      "\n",
      "The `ci` parameter is deprecated. Use `errorbar=None` for the same effect.\n",
      "\n",
      "  sns.lineplot(data=weekly_sales, x='Week', y='sales_quantity', hue='outlet_region', ci=None)\n"
     ]
    },
    {
     "data": {
      "image/png": "[encoded data removed]",
      "text/plain": [
       "<Figure size 1200x600 with 1 Axes>"
      ]
     },
     "metadata": {},
     "output_type": "display_data"
    }
   ],
   "source": [
    "# Group by 'Outlet Region', 'Year', and 'Week' to get weekly sales\n",
    "weekly_sales = Sales_out.groupby(['outlet_region','Week'])['sales_quantity'].sum().reset_index()\n",
    "\n",
    "\n",
    "# Plotting weekly sales trends for each outlet region\n",
    "plt.figure(figsize=(12, 6))\n",
    "sns.lineplot(data=weekly_sales, x='Week', y='sales_quantity', hue='outlet_region', ci=None)\n",
    "plt.title('Weekly Sales Trends across Outlet Regions')\n",
    "plt.xlabel('Week')\n",
    "plt.ylabel('Total Sales')\n",
    "plt.legend(title='Outlet Region', loc='upper right')\n",
    "plt.grid(True)\n",
    "plt.show()"
   ]
  },
  {
   "cell_type": "code",
   "execution_count": 25,
   "id": "be2b46bb",
   "metadata": {
    "execution": {
     "iopub.execute_input": "2023-12-02T19:08:36.710191Z",
     "iopub.status.busy": "2023-12-02T19:08:36.709392Z",
     "iopub.status.idle": "2023-12-02T19:08:36.731954Z",
     "shell.execute_reply": "2023-12-02T19:08:36.730647Z"
    },
    "papermill": {
     "duration": 0.048987,
     "end_time": "2023-12-02T19:08:36.734472",
     "exception": false,
     "start_time": "2023-12-02T19:08:36.685485",
     "status": "completed"
    },
    "tags": []
   },
   "outputs": [
    {
     "data": {
      "text/html": [
       "<div>\n",
       "<style scoped>\n",
       "    .dataframe tbody tr th:only-of-type {\n",
       "        vertical-align: middle;\n",
       "    }\n",
       "\n",
       "    .dataframe tbody tr th {\n",
       "        vertical-align: top;\n",
       "    }\n",
       "\n",
       "    .dataframe thead th {\n",
       "        text-align: right;\n",
       "    }\n",
       "</style>\n",
       "<table border=\"1\" class=\"dataframe\">\n",
       "  <thead>\n",
       "    <tr style=\"text-align: right;\">\n",
       "      <th></th>\n",
       "      <th>week_start_date</th>\n",
       "      <th>expected_rainfall</th>\n",
       "      <th>freezer_status</th>\n",
       "      <th>outlet_region</th>\n",
       "      <th>outlet_code</th>\n",
       "      <th>sales_quantity</th>\n",
       "      <th>Week</th>\n",
       "      <th>AverageSales</th>\n",
       "      <th>TotalSales</th>\n",
       "    </tr>\n",
       "  </thead>\n",
       "  <tbody>\n",
       "    <tr>\n",
       "      <th>2</th>\n",
       "      <td>2023-05-08</td>\n",
       "      <td>170.0</td>\n",
       "      <td>freezers available</td>\n",
       "      <td>outstation</td>\n",
       "      <td>outlet_code_4176</td>\n",
       "      <td>83</td>\n",
       "      <td>19</td>\n",
       "      <td>32.017627</td>\n",
       "      <td>128967</td>\n",
       "    </tr>\n",
       "    <tr>\n",
       "      <th>4</th>\n",
       "      <td>2023-03-27</td>\n",
       "      <td>7.0</td>\n",
       "      <td>freezers available</td>\n",
       "      <td>outstation</td>\n",
       "      <td>outlet_code_38</td>\n",
       "      <td>43</td>\n",
       "      <td>13</td>\n",
       "      <td>25.577381</td>\n",
       "      <td>107425</td>\n",
       "    </tr>\n",
       "    <tr>\n",
       "      <th>5</th>\n",
       "      <td>2023-04-10</td>\n",
       "      <td>0.0</td>\n",
       "      <td>freezers available</td>\n",
       "      <td>outstation</td>\n",
       "      <td>outlet_code_2006</td>\n",
       "      <td>56</td>\n",
       "      <td>15</td>\n",
       "      <td>28.547728</td>\n",
       "      <td>118730</td>\n",
       "    </tr>\n",
       "    <tr>\n",
       "      <th>6</th>\n",
       "      <td>2023-03-20</td>\n",
       "      <td>143.0</td>\n",
       "      <td>freezers available</td>\n",
       "      <td>outstation</td>\n",
       "      <td>outlet_code_3795</td>\n",
       "      <td>56</td>\n",
       "      <td>12</td>\n",
       "      <td>25.381665</td>\n",
       "      <td>105207</td>\n",
       "    </tr>\n",
       "    <tr>\n",
       "      <th>7</th>\n",
       "      <td>2023-03-20</td>\n",
       "      <td>138.0</td>\n",
       "      <td>freezers available</td>\n",
       "      <td>outstation</td>\n",
       "      <td>outlet_code_2892</td>\n",
       "      <td>53</td>\n",
       "      <td>12</td>\n",
       "      <td>25.381665</td>\n",
       "      <td>105207</td>\n",
       "    </tr>\n",
       "    <tr>\n",
       "      <th>...</th>\n",
       "      <td>...</td>\n",
       "      <td>...</td>\n",
       "      <td>...</td>\n",
       "      <td>...</td>\n",
       "      <td>...</td>\n",
       "      <td>...</td>\n",
       "      <td>...</td>\n",
       "      <td>...</td>\n",
       "      <td>...</td>\n",
       "    </tr>\n",
       "    <tr>\n",
       "      <th>113395</th>\n",
       "      <td>2023-04-24</td>\n",
       "      <td>61.0</td>\n",
       "      <td>freezers available</td>\n",
       "      <td>western</td>\n",
       "      <td>outlet_code_2946</td>\n",
       "      <td>27</td>\n",
       "      <td>17</td>\n",
       "      <td>31.459815</td>\n",
       "      <td>129174</td>\n",
       "    </tr>\n",
       "    <tr>\n",
       "      <th>113396</th>\n",
       "      <td>2023-02-20</td>\n",
       "      <td>10.0</td>\n",
       "      <td>freezers available</td>\n",
       "      <td>western</td>\n",
       "      <td>outlet_code_3671</td>\n",
       "      <td>36</td>\n",
       "      <td>8</td>\n",
       "      <td>23.292143</td>\n",
       "      <td>97827</td>\n",
       "    </tr>\n",
       "    <tr>\n",
       "      <th>113397</th>\n",
       "      <td>2023-06-05</td>\n",
       "      <td>98.0</td>\n",
       "      <td>freezers available</td>\n",
       "      <td>western</td>\n",
       "      <td>outlet_code_3671</td>\n",
       "      <td>76</td>\n",
       "      <td>23</td>\n",
       "      <td>36.583170</td>\n",
       "      <td>130419</td>\n",
       "    </tr>\n",
       "    <tr>\n",
       "      <th>113398</th>\n",
       "      <td>2023-06-05</td>\n",
       "      <td>120.0</td>\n",
       "      <td>freezers available</td>\n",
       "      <td>western</td>\n",
       "      <td>outlet_code_2618</td>\n",
       "      <td>76</td>\n",
       "      <td>23</td>\n",
       "      <td>36.583170</td>\n",
       "      <td>130419</td>\n",
       "    </tr>\n",
       "    <tr>\n",
       "      <th>113399</th>\n",
       "      <td>2023-05-01</td>\n",
       "      <td>48.0</td>\n",
       "      <td>freezers available</td>\n",
       "      <td>western</td>\n",
       "      <td>outlet_code_1163</td>\n",
       "      <td>30</td>\n",
       "      <td>18</td>\n",
       "      <td>32.984871</td>\n",
       "      <td>135172</td>\n",
       "    </tr>\n",
       "  </tbody>\n",
       "</table>\n",
       "<p>107814 rows × 9 columns</p>\n",
       "</div>"
      ],
      "text/plain": [
       "       week_start_date  expected_rainfall         freezer_status  \\\n",
       "2           2023-05-08              170.0    freezers available    \n",
       "4           2023-03-27                7.0    freezers available    \n",
       "5           2023-04-10                0.0    freezers available    \n",
       "6           2023-03-20              143.0    freezers available    \n",
       "7           2023-03-20              138.0    freezers available    \n",
       "...                ...                ...                    ...   \n",
       "113395      2023-04-24               61.0    freezers available    \n",
       "113396      2023-02-20               10.0    freezers available    \n",
       "113397      2023-06-05               98.0    freezers available    \n",
       "113398      2023-06-05              120.0    freezers available    \n",
       "113399      2023-05-01               48.0    freezers available    \n",
       "\n",
       "       outlet_region       outlet_code  sales_quantity  Week  AverageSales  \\\n",
       "2         outstation  outlet_code_4176              83    19     32.017627   \n",
       "4         outstation    outlet_code_38              43    13     25.577381   \n",
       "5         outstation  outlet_code_2006              56    15     28.547728   \n",
       "6         outstation  outlet_code_3795              56    12     25.381665   \n",
       "7         outstation  outlet_code_2892              53    12     25.381665   \n",
       "...              ...               ...             ...   ...           ...   \n",
       "113395       western  outlet_code_2946              27    17     31.459815   \n",
       "113396       western  outlet_code_3671              36     8     23.292143   \n",
       "113397       western  outlet_code_3671              76    23     36.583170   \n",
       "113398       western  outlet_code_2618              76    23     36.583170   \n",
       "113399       western  outlet_code_1163              30    18     32.984871   \n",
       "\n",
       "        TotalSales  \n",
       "2           128967  \n",
       "4           107425  \n",
       "5           118730  \n",
       "6           105207  \n",
       "7           105207  \n",
       "...            ...  \n",
       "113395      129174  \n",
       "113396       97827  \n",
       "113397      130419  \n",
       "113398      130419  \n",
       "113399      135172  \n",
       "\n",
       "[107814 rows x 9 columns]"
      ]
     },
     "execution_count": 25,
     "metadata": {},
     "output_type": "execute_result"
    }
   ],
   "source": [
    "Sales_out"
   ]
  },
  {
   "cell_type": "code",
   "execution_count": 26,
   "id": "06e59051",
   "metadata": {
    "execution": {
     "iopub.execute_input": "2023-12-02T19:08:36.781175Z",
     "iopub.status.busy": "2023-12-02T19:08:36.780742Z",
     "iopub.status.idle": "2023-12-02T19:08:36.846490Z",
     "shell.execute_reply": "2023-12-02T19:08:36.845172Z"
    },
    "papermill": {
     "duration": 0.092436,
     "end_time": "2023-12-02T19:08:36.849583",
     "exception": false,
     "start_time": "2023-12-02T19:08:36.757147",
     "status": "completed"
    },
    "tags": []
   },
   "outputs": [],
   "source": [
    "# Extract the sales_quantity data groupby week_start_date with outlet_code \n",
    "TotalSales_Out = Sales_out.groupby(['week_start_date','outlet_code'])['sales_quantity'].sum().reset_index()"
   ]
  },
  {
   "cell_type": "code",
   "execution_count": 27,
   "id": "e9689fa7",
   "metadata": {
    "execution": {
     "iopub.execute_input": "2023-12-02T19:08:36.896749Z",
     "iopub.status.busy": "2023-12-02T19:08:36.895973Z",
     "iopub.status.idle": "2023-12-02T19:08:36.909978Z",
     "shell.execute_reply": "2023-12-02T19:08:36.909109Z"
    },
    "papermill": {
     "duration": 0.040009,
     "end_time": "2023-12-02T19:08:36.912234",
     "exception": false,
     "start_time": "2023-12-02T19:08:36.872225",
     "status": "completed"
    },
    "tags": []
   },
   "outputs": [
    {
     "data": {
      "text/html": [
       "<div>\n",
       "<style scoped>\n",
       "    .dataframe tbody tr th:only-of-type {\n",
       "        vertical-align: middle;\n",
       "    }\n",
       "\n",
       "    .dataframe tbody tr th {\n",
       "        vertical-align: top;\n",
       "    }\n",
       "\n",
       "    .dataframe thead th {\n",
       "        text-align: right;\n",
       "    }\n",
       "</style>\n",
       "<table border=\"1\" class=\"dataframe\">\n",
       "  <thead>\n",
       "    <tr style=\"text-align: right;\">\n",
       "      <th></th>\n",
       "      <th>week_start_date</th>\n",
       "      <th>outlet_code</th>\n",
       "      <th>sales_quantity</th>\n",
       "    </tr>\n",
       "  </thead>\n",
       "  <tbody>\n",
       "    <tr>\n",
       "      <th>0</th>\n",
       "      <td>2023-01-02</td>\n",
       "      <td>outlet_code_1</td>\n",
       "      <td>14</td>\n",
       "    </tr>\n",
       "    <tr>\n",
       "      <th>1</th>\n",
       "      <td>2023-01-02</td>\n",
       "      <td>outlet_code_10</td>\n",
       "      <td>70</td>\n",
       "    </tr>\n",
       "    <tr>\n",
       "      <th>2</th>\n",
       "      <td>2023-01-02</td>\n",
       "      <td>outlet_code_100</td>\n",
       "      <td>30</td>\n",
       "    </tr>\n",
       "    <tr>\n",
       "      <th>3</th>\n",
       "      <td>2023-01-02</td>\n",
       "      <td>outlet_code_1000</td>\n",
       "      <td>6</td>\n",
       "    </tr>\n",
       "    <tr>\n",
       "      <th>4</th>\n",
       "      <td>2023-01-02</td>\n",
       "      <td>outlet_code_1001</td>\n",
       "      <td>9</td>\n",
       "    </tr>\n",
       "    <tr>\n",
       "      <th>...</th>\n",
       "      <td>...</td>\n",
       "      <td>...</td>\n",
       "      <td>...</td>\n",
       "    </tr>\n",
       "    <tr>\n",
       "      <th>107809</th>\n",
       "      <td>2023-07-03</td>\n",
       "      <td>outlet_code_992</td>\n",
       "      <td>39</td>\n",
       "    </tr>\n",
       "    <tr>\n",
       "      <th>107810</th>\n",
       "      <td>2023-07-03</td>\n",
       "      <td>outlet_code_993</td>\n",
       "      <td>41</td>\n",
       "    </tr>\n",
       "    <tr>\n",
       "      <th>107811</th>\n",
       "      <td>2023-07-03</td>\n",
       "      <td>outlet_code_994</td>\n",
       "      <td>45</td>\n",
       "    </tr>\n",
       "    <tr>\n",
       "      <th>107812</th>\n",
       "      <td>2023-07-03</td>\n",
       "      <td>outlet_code_996</td>\n",
       "      <td>53</td>\n",
       "    </tr>\n",
       "    <tr>\n",
       "      <th>107813</th>\n",
       "      <td>2023-07-03</td>\n",
       "      <td>outlet_code_999</td>\n",
       "      <td>10</td>\n",
       "    </tr>\n",
       "  </tbody>\n",
       "</table>\n",
       "<p>107814 rows × 3 columns</p>\n",
       "</div>"
      ],
      "text/plain": [
       "       week_start_date       outlet_code  sales_quantity\n",
       "0           2023-01-02     outlet_code_1              14\n",
       "1           2023-01-02    outlet_code_10              70\n",
       "2           2023-01-02   outlet_code_100              30\n",
       "3           2023-01-02  outlet_code_1000               6\n",
       "4           2023-01-02  outlet_code_1001               9\n",
       "...                ...               ...             ...\n",
       "107809      2023-07-03   outlet_code_992              39\n",
       "107810      2023-07-03   outlet_code_993              41\n",
       "107811      2023-07-03   outlet_code_994              45\n",
       "107812      2023-07-03   outlet_code_996              53\n",
       "107813      2023-07-03   outlet_code_999              10\n",
       "\n",
       "[107814 rows x 3 columns]"
      ]
     },
     "execution_count": 27,
     "metadata": {},
     "output_type": "execute_result"
    }
   ],
   "source": [
    "TotalSales_Out"
   ]
  },
  {
   "cell_type": "code",
   "execution_count": 28,
   "id": "c147d567",
   "metadata": {
    "execution": {
     "iopub.execute_input": "2023-12-02T19:08:36.959272Z",
     "iopub.status.busy": "2023-12-02T19:08:36.958837Z",
     "iopub.status.idle": "2023-12-02T19:08:37.006752Z",
     "shell.execute_reply": "2023-12-02T19:08:37.005458Z"
    },
    "papermill": {
     "duration": 0.074523,
     "end_time": "2023-12-02T19:08:37.009322",
     "exception": false,
     "start_time": "2023-12-02T19:08:36.934799",
     "status": "completed"
    },
    "tags": []
   },
   "outputs": [
    {
     "data": {
      "text/html": [
       "<div>\n",
       "<style scoped>\n",
       "    .dataframe tbody tr th:only-of-type {\n",
       "        vertical-align: middle;\n",
       "    }\n",
       "\n",
       "    .dataframe tbody tr th {\n",
       "        vertical-align: top;\n",
       "    }\n",
       "\n",
       "    .dataframe thead th {\n",
       "        text-align: right;\n",
       "    }\n",
       "</style>\n",
       "<table border=\"1\" class=\"dataframe\">\n",
       "  <thead>\n",
       "    <tr style=\"text-align: right;\">\n",
       "      <th></th>\n",
       "      <th>week_start_date</th>\n",
       "      <th>outlet_code</th>\n",
       "      <th>sales_quantity</th>\n",
       "    </tr>\n",
       "  </thead>\n",
       "  <tbody>\n",
       "    <tr>\n",
       "      <th>0</th>\n",
       "      <td>2023-01-02</td>\n",
       "      <td>outlet_code_1</td>\n",
       "      <td>14</td>\n",
       "    </tr>\n",
       "    <tr>\n",
       "      <th>1</th>\n",
       "      <td>2023-01-02</td>\n",
       "      <td>outlet_code_10</td>\n",
       "      <td>70</td>\n",
       "    </tr>\n",
       "    <tr>\n",
       "      <th>2</th>\n",
       "      <td>2023-01-02</td>\n",
       "      <td>outlet_code_100</td>\n",
       "      <td>30</td>\n",
       "    </tr>\n",
       "    <tr>\n",
       "      <th>3</th>\n",
       "      <td>2023-01-02</td>\n",
       "      <td>outlet_code_1000</td>\n",
       "      <td>6</td>\n",
       "    </tr>\n",
       "    <tr>\n",
       "      <th>4</th>\n",
       "      <td>2023-01-02</td>\n",
       "      <td>outlet_code_1001</td>\n",
       "      <td>9</td>\n",
       "    </tr>\n",
       "    <tr>\n",
       "      <th>...</th>\n",
       "      <td>...</td>\n",
       "      <td>...</td>\n",
       "      <td>...</td>\n",
       "    </tr>\n",
       "    <tr>\n",
       "      <th>107809</th>\n",
       "      <td>2023-07-03</td>\n",
       "      <td>outlet_code_992</td>\n",
       "      <td>39</td>\n",
       "    </tr>\n",
       "    <tr>\n",
       "      <th>107810</th>\n",
       "      <td>2023-07-03</td>\n",
       "      <td>outlet_code_993</td>\n",
       "      <td>41</td>\n",
       "    </tr>\n",
       "    <tr>\n",
       "      <th>107811</th>\n",
       "      <td>2023-07-03</td>\n",
       "      <td>outlet_code_994</td>\n",
       "      <td>45</td>\n",
       "    </tr>\n",
       "    <tr>\n",
       "      <th>107812</th>\n",
       "      <td>2023-07-03</td>\n",
       "      <td>outlet_code_996</td>\n",
       "      <td>53</td>\n",
       "    </tr>\n",
       "    <tr>\n",
       "      <th>107813</th>\n",
       "      <td>2023-07-03</td>\n",
       "      <td>outlet_code_999</td>\n",
       "      <td>10</td>\n",
       "    </tr>\n",
       "  </tbody>\n",
       "</table>\n",
       "<p>107814 rows × 3 columns</p>\n",
       "</div>"
      ],
      "text/plain": [
       "       week_start_date       outlet_code  sales_quantity\n",
       "0           2023-01-02     outlet_code_1              14\n",
       "1           2023-01-02    outlet_code_10              70\n",
       "2           2023-01-02   outlet_code_100              30\n",
       "3           2023-01-02  outlet_code_1000               6\n",
       "4           2023-01-02  outlet_code_1001               9\n",
       "...                ...               ...             ...\n",
       "107809      2023-07-03   outlet_code_992              39\n",
       "107810      2023-07-03   outlet_code_993              41\n",
       "107811      2023-07-03   outlet_code_994              45\n",
       "107812      2023-07-03   outlet_code_996              53\n",
       "107813      2023-07-03   outlet_code_999              10\n",
       "\n",
       "[107814 rows x 3 columns]"
      ]
     },
     "execution_count": 28,
     "metadata": {},
     "output_type": "execute_result"
    }
   ],
   "source": [
    "# Covert the data set to timeseries data set\n",
    "Sales_timeOut_series = TotalSales_Out.set_index(['week_start_date','outlet_code'])['sales_quantity'].reset_index()\n",
    "Sales_timeOut_series"
   ]
  },
  {
   "cell_type": "code",
   "execution_count": 29,
   "id": "51c65378",
   "metadata": {
    "execution": {
     "iopub.execute_input": "2023-12-02T19:08:37.061159Z",
     "iopub.status.busy": "2023-12-02T19:08:37.059124Z",
     "iopub.status.idle": "2023-12-02T19:09:10.118927Z",
     "shell.execute_reply": "2023-12-02T19:09:10.116993Z"
    },
    "papermill": {
     "duration": 33.132799,
     "end_time": "2023-12-02T19:09:10.166842",
     "exception": false,
     "start_time": "2023-12-02T19:08:37.034043",
     "status": "completed"
    },
    "tags": []
   },
   "outputs": [
    {
     "name": "stdout",
     "output_type": "stream",
     "text": [
      "Test Statistic: -12.518952876905693\n",
      "P-value: 2.5738754298714466e-23\n"
     ]
    }
   ],
   "source": [
    "# Check the series stationary or not\n",
    "result = adfuller(TotalSales_Out['sales_quantity'])\n",
    "\n",
    "# Extract and print test statistic and p-value\n",
    "test_statistic, p_value, _, _, _, _ = result\n",
    "print(f'Test Statistic: {test_statistic}')\n",
    "print(f'P-value: {p_value}')"
   ]
  },
  {
   "cell_type": "code",
   "execution_count": 30,
   "id": "bd742609",
   "metadata": {
    "execution": {
     "iopub.execute_input": "2023-12-02T19:09:10.241597Z",
     "iopub.status.busy": "2023-12-02T19:09:10.241191Z",
     "iopub.status.idle": "2023-12-02T19:09:10.259872Z",
     "shell.execute_reply": "2023-12-02T19:09:10.258723Z"
    },
    "papermill": {
     "duration": 0.046843,
     "end_time": "2023-12-02T19:09:10.262314",
     "exception": false,
     "start_time": "2023-12-02T19:09:10.215471",
     "status": "completed"
    },
    "tags": []
   },
   "outputs": [
    {
     "data": {
      "text/html": [
       "<div>\n",
       "<style scoped>\n",
       "    .dataframe tbody tr th:only-of-type {\n",
       "        vertical-align: middle;\n",
       "    }\n",
       "\n",
       "    .dataframe tbody tr th {\n",
       "        vertical-align: top;\n",
       "    }\n",
       "\n",
       "    .dataframe thead th {\n",
       "        text-align: right;\n",
       "    }\n",
       "</style>\n",
       "<table border=\"1\" class=\"dataframe\">\n",
       "  <thead>\n",
       "    <tr style=\"text-align: right;\">\n",
       "      <th></th>\n",
       "      <th>index</th>\n",
       "      <th>sales_quantity</th>\n",
       "    </tr>\n",
       "  </thead>\n",
       "  <tbody>\n",
       "    <tr>\n",
       "      <th>0</th>\n",
       "      <td>1</td>\n",
       "      <td>56.0</td>\n",
       "    </tr>\n",
       "    <tr>\n",
       "      <th>1</th>\n",
       "      <td>2</td>\n",
       "      <td>-40.0</td>\n",
       "    </tr>\n",
       "    <tr>\n",
       "      <th>2</th>\n",
       "      <td>3</td>\n",
       "      <td>-24.0</td>\n",
       "    </tr>\n",
       "    <tr>\n",
       "      <th>3</th>\n",
       "      <td>4</td>\n",
       "      <td>3.0</td>\n",
       "    </tr>\n",
       "    <tr>\n",
       "      <th>4</th>\n",
       "      <td>5</td>\n",
       "      <td>20.0</td>\n",
       "    </tr>\n",
       "    <tr>\n",
       "      <th>...</th>\n",
       "      <td>...</td>\n",
       "      <td>...</td>\n",
       "    </tr>\n",
       "    <tr>\n",
       "      <th>107808</th>\n",
       "      <td>107809</td>\n",
       "      <td>33.0</td>\n",
       "    </tr>\n",
       "    <tr>\n",
       "      <th>107809</th>\n",
       "      <td>107810</td>\n",
       "      <td>2.0</td>\n",
       "    </tr>\n",
       "    <tr>\n",
       "      <th>107810</th>\n",
       "      <td>107811</td>\n",
       "      <td>4.0</td>\n",
       "    </tr>\n",
       "    <tr>\n",
       "      <th>107811</th>\n",
       "      <td>107812</td>\n",
       "      <td>8.0</td>\n",
       "    </tr>\n",
       "    <tr>\n",
       "      <th>107812</th>\n",
       "      <td>107813</td>\n",
       "      <td>-43.0</td>\n",
       "    </tr>\n",
       "  </tbody>\n",
       "</table>\n",
       "<p>107813 rows × 2 columns</p>\n",
       "</div>"
      ],
      "text/plain": [
       "         index  sales_quantity\n",
       "0            1            56.0\n",
       "1            2           -40.0\n",
       "2            3           -24.0\n",
       "3            4             3.0\n",
       "4            5            20.0\n",
       "...        ...             ...\n",
       "107808  107809            33.0\n",
       "107809  107810             2.0\n",
       "107810  107811             4.0\n",
       "107811  107812             8.0\n",
       "107812  107813           -43.0\n",
       "\n",
       "[107813 rows x 2 columns]"
      ]
     },
     "execution_count": 30,
     "metadata": {},
     "output_type": "execute_result"
    }
   ],
   "source": [
    "# Make it series is stationary\n",
    "Sales_differentSeries_1 = Sales_timeOut_series.sales_quantity.diff().dropna().reset_index()\n",
    "Sales_differentSeries_1"
   ]
  },
  {
   "cell_type": "code",
   "execution_count": 31,
   "id": "d430dfa9",
   "metadata": {
    "execution": {
     "iopub.execute_input": "2023-12-02T19:09:10.310957Z",
     "iopub.status.busy": "2023-12-02T19:09:10.310160Z",
     "iopub.status.idle": "2023-12-02T19:09:13.230302Z",
     "shell.execute_reply": "2023-12-02T19:09:13.229083Z"
    },
    "papermill": {
     "duration": 2.947333,
     "end_time": "2023-12-02T19:09:13.232824",
     "exception": false,
     "start_time": "2023-12-02T19:09:10.285491",
     "status": "completed"
    },
    "tags": []
   },
   "outputs": [
    {
     "data": {
      "image/png": "[encoded data removed]",
      "text/plain": [
       "<Figure size 1200x400 with 2 Axes>"
      ]
     },
     "metadata": {},
     "output_type": "display_data"
    }
   ],
   "source": [
    "# Plot ACF and PACF\n",
    "fig, (ax1, ax2) = plt.subplots(1, 2, figsize=(12, 4))\n",
    "\n",
    "# ACF plot\n",
    "plot_acf(Sales_differentSeries_1['sales_quantity'], lags=20, ax=ax1)\n",
    "ax1.set_title('Autocorrelation Function (ACF)')\n",
    "\n",
    "# PACF plot\n",
    "plot_pacf(Sales_differentSeries_1['sales_quantity'], lags=20, ax=ax2)\n",
    "ax2.set_title('Partial Autocorrelation Function (PACF)')\n",
    "\n",
    "plt.show()"
   ]
  },
  {
   "cell_type": "code",
   "execution_count": 32,
   "id": "420d41b9",
   "metadata": {
    "execution": {
     "iopub.execute_input": "2023-12-02T19:09:13.283196Z",
     "iopub.status.busy": "2023-12-02T19:09:13.282380Z",
     "iopub.status.idle": "2023-12-02T19:09:22.153570Z",
     "shell.execute_reply": "2023-12-02T19:09:22.152088Z"
    },
    "papermill": {
     "duration": 8.902193,
     "end_time": "2023-12-02T19:09:22.158948",
     "exception": false,
     "start_time": "2023-12-02T19:09:13.256755",
     "status": "completed"
    },
    "tags": []
   },
   "outputs": [
    {
     "name": "stdout",
     "output_type": "stream",
     "text": [
      "                               SARIMAX Results                                \n",
      "==============================================================================\n",
      "Dep. Variable:         sales_quantity   No. Observations:               107814\n",
      "Model:                 ARIMA(0, 1, 1)   Log Likelihood             -467660.909\n",
      "Date:                Sat, 02 Dec 2023   AIC                         935325.819\n",
      "Time:                        19:09:19   BIC                         935344.995\n",
      "Sample:                             0   HQIC                        935331.619\n",
      "                             - 107814                                         \n",
      "Covariance Type:                  opg                                         \n",
      "==============================================================================\n",
      "                 coef    std err          z      P>|z|      [0.025      0.975]\n",
      "------------------------------------------------------------------------------\n",
      "ma.L1         -0.9985      0.000  -6558.307      0.000      -0.999      -0.998\n",
      "sigma2       342.8880      1.497    229.063      0.000     339.954     345.822\n",
      "===================================================================================\n",
      "Ljung-Box (L1) (Q):                5091.85   Jarque-Bera (JB):              8670.95\n",
      "Prob(Q):                              0.00   Prob(JB):                         0.00\n",
      "Heteroskedasticity (H):               2.23   Skew:                             0.69\n",
      "Prob(H) (two-sided):                  0.00   Kurtosis:                         2.95\n",
      "===================================================================================\n",
      "\n",
      "Warnings:\n",
      "[1] Covariance matrix calculated using the outer product of gradients (complex-step).\n"
     ]
    }
   ],
   "source": [
    "# Fitting the Model\n",
    "p, d, q = 0, 1, 1\n",
    "model = ARIMA(Sales_timeOut_series.sales_quantity, order=(p, d, q))\n",
    "results_Out = model.fit()\n",
    "print(results_Out.summary())"
   ]
  },
  {
   "cell_type": "code",
   "execution_count": 33,
   "id": "7d91ba09",
   "metadata": {
    "execution": {
     "iopub.execute_input": "2023-12-02T19:09:22.241128Z",
     "iopub.status.busy": "2023-12-02T19:09:22.240708Z",
     "iopub.status.idle": "2023-12-02T19:09:22.270920Z",
     "shell.execute_reply": "2023-12-02T19:09:22.270061Z"
    },
    "papermill": {
     "duration": 0.062001,
     "end_time": "2023-12-02T19:09:22.273160",
     "exception": false,
     "start_time": "2023-12-02T19:09:22.211159",
     "status": "completed"
    },
    "tags": []
   },
   "outputs": [
    {
     "data": {
      "text/html": [
       "<div>\n",
       "<style scoped>\n",
       "    .dataframe tbody tr th:only-of-type {\n",
       "        vertical-align: middle;\n",
       "    }\n",
       "\n",
       "    .dataframe tbody tr th {\n",
       "        vertical-align: top;\n",
       "    }\n",
       "\n",
       "    .dataframe thead th {\n",
       "        text-align: right;\n",
       "    }\n",
       "</style>\n",
       "<table border=\"1\" class=\"dataframe\">\n",
       "  <thead>\n",
       "    <tr style=\"text-align: right;\">\n",
       "      <th></th>\n",
       "      <th>week_start_date</th>\n",
       "      <th>expected_rainfall</th>\n",
       "      <th>freezer_status</th>\n",
       "      <th>outlet_region</th>\n",
       "      <th>outlet_code</th>\n",
       "      <th>sales_quantity</th>\n",
       "    </tr>\n",
       "  </thead>\n",
       "  <tbody>\n",
       "    <tr>\n",
       "      <th>0</th>\n",
       "      <td>7/10/2023</td>\n",
       "      <td>144.6mm</td>\n",
       "      <td>freezers available</td>\n",
       "      <td>outstation</td>\n",
       "      <td>outlet_code_1</td>\n",
       "      <td>NaN</td>\n",
       "    </tr>\n",
       "    <tr>\n",
       "      <th>1</th>\n",
       "      <td>7/10/2023</td>\n",
       "      <td>114.6mm</td>\n",
       "      <td>freezers available</td>\n",
       "      <td>western</td>\n",
       "      <td>outlet_code_10</td>\n",
       "      <td>NaN</td>\n",
       "    </tr>\n",
       "    <tr>\n",
       "      <th>2</th>\n",
       "      <td>7/10/2023</td>\n",
       "      <td>135.48mm</td>\n",
       "      <td>freezers available</td>\n",
       "      <td>western</td>\n",
       "      <td>outlet_code_100</td>\n",
       "      <td>NaN</td>\n",
       "    </tr>\n",
       "    <tr>\n",
       "      <th>3</th>\n",
       "      <td>7/10/2023</td>\n",
       "      <td>135.53mm</td>\n",
       "      <td>no freezers available</td>\n",
       "      <td>outstation</td>\n",
       "      <td>outlet_code_1000</td>\n",
       "      <td>NaN</td>\n",
       "    </tr>\n",
       "    <tr>\n",
       "      <th>4</th>\n",
       "      <td>7/10/2023</td>\n",
       "      <td>167.37mm</td>\n",
       "      <td>no freezers available</td>\n",
       "      <td>outstation</td>\n",
       "      <td>outlet_code_1001</td>\n",
       "      <td>NaN</td>\n",
       "    </tr>\n",
       "  </tbody>\n",
       "</table>\n",
       "</div>"
      ],
      "text/plain": [
       "  week_start_date expected_rainfall           freezer_status outlet_region  \\\n",
       "0       7/10/2023           144.6mm      freezers available     outstation   \n",
       "1       7/10/2023           114.6mm      freezers available        western   \n",
       "2       7/10/2023          135.48mm      freezers available        western   \n",
       "3       7/10/2023          135.53mm   no freezers available     outstation   \n",
       "4       7/10/2023          167.37mm   no freezers available     outstation   \n",
       "\n",
       "        outlet_code  sales_quantity  \n",
       "0     outlet_code_1             NaN  \n",
       "1    outlet_code_10             NaN  \n",
       "2   outlet_code_100             NaN  \n",
       "3  outlet_code_1000             NaN  \n",
       "4  outlet_code_1001             NaN  "
      ]
     },
     "execution_count": 33,
     "metadata": {},
     "output_type": "execute_result"
    }
   ],
   "source": [
    "# Import the Test Data Set\n",
    "test  = pd.read_csv('/kaggle/input/test-dataset/test (2).csv')\n",
    "test.head()"
   ]
  },
  {
   "cell_type": "code",
   "execution_count": 34,
   "id": "b5f98b2c",
   "metadata": {
    "execution": {
     "iopub.execute_input": "2023-12-02T19:09:22.324366Z",
     "iopub.status.busy": "2023-12-02T19:09:22.323257Z",
     "iopub.status.idle": "2023-12-02T19:09:22.344214Z",
     "shell.execute_reply": "2023-12-02T19:09:22.343064Z"
    },
    "papermill": {
     "duration": 0.049339,
     "end_time": "2023-12-02T19:09:22.346904",
     "exception": false,
     "start_time": "2023-12-02T19:09:22.297565",
     "status": "completed"
    },
    "tags": []
   },
   "outputs": [],
   "source": [
    "# Changing the type of expected_rainfall and week_start_date\n",
    "test['expected_rainfall'] = test['expected_rainfall'].str.extract(r'(\\d+)').astype(float)\n",
    "test[\"week_start_date\"] = pd.to_datetime(test['week_start_date'])"
   ]
  },
  {
   "cell_type": "code",
   "execution_count": 35,
   "id": "c0f28939",
   "metadata": {
    "execution": {
     "iopub.execute_input": "2023-12-02T19:09:22.397661Z",
     "iopub.status.busy": "2023-12-02T19:09:22.397263Z",
     "iopub.status.idle": "2023-12-02T19:09:22.411772Z",
     "shell.execute_reply": "2023-12-02T19:09:22.410589Z"
    },
    "papermill": {
     "duration": 0.042701,
     "end_time": "2023-12-02T19:09:22.414426",
     "exception": false,
     "start_time": "2023-12-02T19:09:22.371725",
     "status": "completed"
    },
    "tags": []
   },
   "outputs": [
    {
     "data": {
      "text/html": [
       "<div>\n",
       "<style scoped>\n",
       "    .dataframe tbody tr th:only-of-type {\n",
       "        vertical-align: middle;\n",
       "    }\n",
       "\n",
       "    .dataframe tbody tr th {\n",
       "        vertical-align: top;\n",
       "    }\n",
       "\n",
       "    .dataframe thead th {\n",
       "        text-align: right;\n",
       "    }\n",
       "</style>\n",
       "<table border=\"1\" class=\"dataframe\">\n",
       "  <thead>\n",
       "    <tr style=\"text-align: right;\">\n",
       "      <th></th>\n",
       "      <th>week_start_date</th>\n",
       "      <th>expected_rainfall</th>\n",
       "      <th>freezer_status</th>\n",
       "      <th>outlet_region</th>\n",
       "      <th>outlet_code</th>\n",
       "      <th>sales_quantity</th>\n",
       "    </tr>\n",
       "  </thead>\n",
       "  <tbody>\n",
       "    <tr>\n",
       "      <th>0</th>\n",
       "      <td>2023-07-10</td>\n",
       "      <td>144.0</td>\n",
       "      <td>freezers available</td>\n",
       "      <td>outstation</td>\n",
       "      <td>outlet_code_1</td>\n",
       "      <td>NaN</td>\n",
       "    </tr>\n",
       "    <tr>\n",
       "      <th>1</th>\n",
       "      <td>2023-07-10</td>\n",
       "      <td>114.0</td>\n",
       "      <td>freezers available</td>\n",
       "      <td>western</td>\n",
       "      <td>outlet_code_10</td>\n",
       "      <td>NaN</td>\n",
       "    </tr>\n",
       "    <tr>\n",
       "      <th>2</th>\n",
       "      <td>2023-07-10</td>\n",
       "      <td>135.0</td>\n",
       "      <td>freezers available</td>\n",
       "      <td>western</td>\n",
       "      <td>outlet_code_100</td>\n",
       "      <td>NaN</td>\n",
       "    </tr>\n",
       "    <tr>\n",
       "      <th>3</th>\n",
       "      <td>2023-07-10</td>\n",
       "      <td>135.0</td>\n",
       "      <td>no freezers available</td>\n",
       "      <td>outstation</td>\n",
       "      <td>outlet_code_1000</td>\n",
       "      <td>NaN</td>\n",
       "    </tr>\n",
       "    <tr>\n",
       "      <th>4</th>\n",
       "      <td>2023-07-10</td>\n",
       "      <td>167.0</td>\n",
       "      <td>no freezers available</td>\n",
       "      <td>outstation</td>\n",
       "      <td>outlet_code_1001</td>\n",
       "      <td>NaN</td>\n",
       "    </tr>\n",
       "  </tbody>\n",
       "</table>\n",
       "</div>"
      ],
      "text/plain": [
       "  week_start_date  expected_rainfall           freezer_status outlet_region  \\\n",
       "0      2023-07-10              144.0      freezers available     outstation   \n",
       "1      2023-07-10              114.0      freezers available        western   \n",
       "2      2023-07-10              135.0      freezers available        western   \n",
       "3      2023-07-10              135.0   no freezers available     outstation   \n",
       "4      2023-07-10              167.0   no freezers available     outstation   \n",
       "\n",
       "        outlet_code  sales_quantity  \n",
       "0     outlet_code_1             NaN  \n",
       "1    outlet_code_10             NaN  \n",
       "2   outlet_code_100             NaN  \n",
       "3  outlet_code_1000             NaN  \n",
       "4  outlet_code_1001             NaN  "
      ]
     },
     "execution_count": 35,
     "metadata": {},
     "output_type": "execute_result"
    }
   ],
   "source": [
    "test.head()"
   ]
  },
  {
   "cell_type": "code",
   "execution_count": 36,
   "id": "0c6721b8",
   "metadata": {
    "execution": {
     "iopub.execute_input": "2023-12-02T19:09:22.466760Z",
     "iopub.status.busy": "2023-12-02T19:09:22.466363Z",
     "iopub.status.idle": "2023-12-02T19:09:22.476291Z",
     "shell.execute_reply": "2023-12-02T19:09:22.475187Z"
    },
    "papermill": {
     "duration": 0.038894,
     "end_time": "2023-12-02T19:09:22.478789",
     "exception": false,
     "start_time": "2023-12-02T19:09:22.439895",
     "status": "completed"
    },
    "tags": []
   },
   "outputs": [
    {
     "data": {
      "text/plain": [
       "0       0.0\n",
       "1       0.0\n",
       "2       0.0\n",
       "3       0.0\n",
       "4       0.0\n",
       "       ... \n",
       "4195    0.0\n",
       "4196    0.0\n",
       "4197    0.0\n",
       "4198    0.0\n",
       "4199    0.0\n",
       "Name: sales_quantity, Length: 4200, dtype: float64"
      ]
     },
     "execution_count": 36,
     "metadata": {},
     "output_type": "execute_result"
    }
   ],
   "source": [
    "test['sales_quantity'].fillna(0.0)"
   ]
  },
  {
   "cell_type": "code",
   "execution_count": 37,
   "id": "aca75f9d",
   "metadata": {
    "execution": {
     "iopub.execute_input": "2023-12-02T19:09:22.529540Z",
     "iopub.status.busy": "2023-12-02T19:09:22.529131Z",
     "iopub.status.idle": "2023-12-02T19:09:22.542380Z",
     "shell.execute_reply": "2023-12-02T19:09:22.541329Z"
    },
    "papermill": {
     "duration": 0.041772,
     "end_time": "2023-12-02T19:09:22.545006",
     "exception": false,
     "start_time": "2023-12-02T19:09:22.503234",
     "status": "completed"
    },
    "tags": []
   },
   "outputs": [],
   "source": [
    "TestSales_Out = test.groupby(['week_start_date','outlet_code'])['sales_quantity'].sum().reset_index()"
   ]
  },
  {
   "cell_type": "code",
   "execution_count": 38,
   "id": "3bcc5ebf",
   "metadata": {
    "execution": {
     "iopub.execute_input": "2023-12-02T19:09:22.596224Z",
     "iopub.status.busy": "2023-12-02T19:09:22.595773Z",
     "iopub.status.idle": "2023-12-02T19:09:22.612096Z",
     "shell.execute_reply": "2023-12-02T19:09:22.610860Z"
    },
    "papermill": {
     "duration": 0.044791,
     "end_time": "2023-12-02T19:09:22.614479",
     "exception": false,
     "start_time": "2023-12-02T19:09:22.569688",
     "status": "completed"
    },
    "tags": []
   },
   "outputs": [
    {
     "data": {
      "text/html": [
       "<div>\n",
       "<style scoped>\n",
       "    .dataframe tbody tr th:only-of-type {\n",
       "        vertical-align: middle;\n",
       "    }\n",
       "\n",
       "    .dataframe tbody tr th {\n",
       "        vertical-align: top;\n",
       "    }\n",
       "\n",
       "    .dataframe thead th {\n",
       "        text-align: right;\n",
       "    }\n",
       "</style>\n",
       "<table border=\"1\" class=\"dataframe\">\n",
       "  <thead>\n",
       "    <tr style=\"text-align: right;\">\n",
       "      <th></th>\n",
       "      <th>week_start_date</th>\n",
       "      <th>outlet_code</th>\n",
       "      <th>sales_quantity</th>\n",
       "    </tr>\n",
       "  </thead>\n",
       "  <tbody>\n",
       "    <tr>\n",
       "      <th>0</th>\n",
       "      <td>2023-07-10</td>\n",
       "      <td>outlet_code_1</td>\n",
       "      <td>0.0</td>\n",
       "    </tr>\n",
       "    <tr>\n",
       "      <th>1</th>\n",
       "      <td>2023-07-10</td>\n",
       "      <td>outlet_code_10</td>\n",
       "      <td>0.0</td>\n",
       "    </tr>\n",
       "    <tr>\n",
       "      <th>2</th>\n",
       "      <td>2023-07-10</td>\n",
       "      <td>outlet_code_100</td>\n",
       "      <td>0.0</td>\n",
       "    </tr>\n",
       "    <tr>\n",
       "      <th>3</th>\n",
       "      <td>2023-07-10</td>\n",
       "      <td>outlet_code_1000</td>\n",
       "      <td>0.0</td>\n",
       "    </tr>\n",
       "    <tr>\n",
       "      <th>4</th>\n",
       "      <td>2023-07-10</td>\n",
       "      <td>outlet_code_1001</td>\n",
       "      <td>0.0</td>\n",
       "    </tr>\n",
       "    <tr>\n",
       "      <th>...</th>\n",
       "      <td>...</td>\n",
       "      <td>...</td>\n",
       "      <td>...</td>\n",
       "    </tr>\n",
       "    <tr>\n",
       "      <th>4195</th>\n",
       "      <td>2023-07-10</td>\n",
       "      <td>outlet_code_995</td>\n",
       "      <td>0.0</td>\n",
       "    </tr>\n",
       "    <tr>\n",
       "      <th>4196</th>\n",
       "      <td>2023-07-10</td>\n",
       "      <td>outlet_code_996</td>\n",
       "      <td>0.0</td>\n",
       "    </tr>\n",
       "    <tr>\n",
       "      <th>4197</th>\n",
       "      <td>2023-07-10</td>\n",
       "      <td>outlet_code_997</td>\n",
       "      <td>0.0</td>\n",
       "    </tr>\n",
       "    <tr>\n",
       "      <th>4198</th>\n",
       "      <td>2023-07-10</td>\n",
       "      <td>outlet_code_998</td>\n",
       "      <td>0.0</td>\n",
       "    </tr>\n",
       "    <tr>\n",
       "      <th>4199</th>\n",
       "      <td>2023-07-10</td>\n",
       "      <td>outlet_code_999</td>\n",
       "      <td>0.0</td>\n",
       "    </tr>\n",
       "  </tbody>\n",
       "</table>\n",
       "<p>4200 rows × 3 columns</p>\n",
       "</div>"
      ],
      "text/plain": [
       "     week_start_date       outlet_code  sales_quantity\n",
       "0         2023-07-10     outlet_code_1             0.0\n",
       "1         2023-07-10    outlet_code_10             0.0\n",
       "2         2023-07-10   outlet_code_100             0.0\n",
       "3         2023-07-10  outlet_code_1000             0.0\n",
       "4         2023-07-10  outlet_code_1001             0.0\n",
       "...              ...               ...             ...\n",
       "4195      2023-07-10   outlet_code_995             0.0\n",
       "4196      2023-07-10   outlet_code_996             0.0\n",
       "4197      2023-07-10   outlet_code_997             0.0\n",
       "4198      2023-07-10   outlet_code_998             0.0\n",
       "4199      2023-07-10   outlet_code_999             0.0\n",
       "\n",
       "[4200 rows x 3 columns]"
      ]
     },
     "execution_count": 38,
     "metadata": {},
     "output_type": "execute_result"
    }
   ],
   "source": [
    "TestSales_Out"
   ]
  },
  {
   "cell_type": "code",
   "execution_count": 39,
   "id": "087a11d2",
   "metadata": {
    "execution": {
     "iopub.execute_input": "2023-12-02T19:09:22.666175Z",
     "iopub.status.busy": "2023-12-02T19:09:22.665755Z",
     "iopub.status.idle": "2023-12-02T19:09:22.675070Z",
     "shell.execute_reply": "2023-12-02T19:09:22.673876Z"
    },
    "papermill": {
     "duration": 0.037974,
     "end_time": "2023-12-02T19:09:22.677419",
     "exception": false,
     "start_time": "2023-12-02T19:09:22.639445",
     "status": "completed"
    },
    "tags": []
   },
   "outputs": [],
   "source": [
    "# Predict the future Sales\n",
    "future_steps = len(TestSales_Out)\n",
    "predictions = results_Out.predict(0, len(TestSales_Out.sales_quantity)-1)\n",
    "predictions = predictions.astype(int)\n",
    "\n",
    "#future plot\n",
    "# Create a DataFrame with the original data and predictions\n",
    "forecast_2 = pd.DataFrame({'outlet_code':TestSales_Out.outlet_code, 'predicted_sales': predictions})"
   ]
  },
  {
   "cell_type": "code",
   "execution_count": 40,
   "id": "626c3270",
   "metadata": {
    "execution": {
     "iopub.execute_input": "2023-12-02T19:09:22.729171Z",
     "iopub.status.busy": "2023-12-02T19:09:22.728742Z",
     "iopub.status.idle": "2023-12-02T19:09:22.742250Z",
     "shell.execute_reply": "2023-12-02T19:09:22.740840Z"
    },
    "papermill": {
     "duration": 0.042391,
     "end_time": "2023-12-02T19:09:22.744690",
     "exception": false,
     "start_time": "2023-12-02T19:09:22.702299",
     "status": "completed"
    },
    "tags": []
   },
   "outputs": [
    {
     "data": {
      "text/html": [
       "<div>\n",
       "<style scoped>\n",
       "    .dataframe tbody tr th:only-of-type {\n",
       "        vertical-align: middle;\n",
       "    }\n",
       "\n",
       "    .dataframe tbody tr th {\n",
       "        vertical-align: top;\n",
       "    }\n",
       "\n",
       "    .dataframe thead th {\n",
       "        text-align: right;\n",
       "    }\n",
       "</style>\n",
       "<table border=\"1\" class=\"dataframe\">\n",
       "  <thead>\n",
       "    <tr style=\"text-align: right;\">\n",
       "      <th></th>\n",
       "      <th>outlet_code</th>\n",
       "      <th>predicted_sales</th>\n",
       "    </tr>\n",
       "  </thead>\n",
       "  <tbody>\n",
       "    <tr>\n",
       "      <th>0</th>\n",
       "      <td>outlet_code_1</td>\n",
       "      <td>0</td>\n",
       "    </tr>\n",
       "    <tr>\n",
       "      <th>1</th>\n",
       "      <td>outlet_code_10</td>\n",
       "      <td>13</td>\n",
       "    </tr>\n",
       "    <tr>\n",
       "      <th>2</th>\n",
       "      <td>outlet_code_100</td>\n",
       "      <td>41</td>\n",
       "    </tr>\n",
       "    <tr>\n",
       "      <th>3</th>\n",
       "      <td>outlet_code_1000</td>\n",
       "      <td>37</td>\n",
       "    </tr>\n",
       "    <tr>\n",
       "      <th>4</th>\n",
       "      <td>outlet_code_1001</td>\n",
       "      <td>29</td>\n",
       "    </tr>\n",
       "    <tr>\n",
       "      <th>...</th>\n",
       "      <td>...</td>\n",
       "      <td>...</td>\n",
       "    </tr>\n",
       "    <tr>\n",
       "      <th>4195</th>\n",
       "      <td>outlet_code_995</td>\n",
       "      <td>22</td>\n",
       "    </tr>\n",
       "    <tr>\n",
       "      <th>4196</th>\n",
       "      <td>outlet_code_996</td>\n",
       "      <td>22</td>\n",
       "    </tr>\n",
       "    <tr>\n",
       "      <th>4197</th>\n",
       "      <td>outlet_code_997</td>\n",
       "      <td>22</td>\n",
       "    </tr>\n",
       "    <tr>\n",
       "      <th>4198</th>\n",
       "      <td>outlet_code_998</td>\n",
       "      <td>22</td>\n",
       "    </tr>\n",
       "    <tr>\n",
       "      <th>4199</th>\n",
       "      <td>outlet_code_999</td>\n",
       "      <td>22</td>\n",
       "    </tr>\n",
       "  </tbody>\n",
       "</table>\n",
       "<p>4200 rows × 2 columns</p>\n",
       "</div>"
      ],
      "text/plain": [
       "           outlet_code  predicted_sales\n",
       "0        outlet_code_1                0\n",
       "1       outlet_code_10               13\n",
       "2      outlet_code_100               41\n",
       "3     outlet_code_1000               37\n",
       "4     outlet_code_1001               29\n",
       "...                ...              ...\n",
       "4195   outlet_code_995               22\n",
       "4196   outlet_code_996               22\n",
       "4197   outlet_code_997               22\n",
       "4198   outlet_code_998               22\n",
       "4199   outlet_code_999               22\n",
       "\n",
       "[4200 rows x 2 columns]"
      ]
     },
     "execution_count": 40,
     "metadata": {},
     "output_type": "execute_result"
    }
   ],
   "source": [
    "forecast_2"
   ]
  },
  {
   "cell_type": "code",
   "execution_count": 41,
   "id": "fe2a4c9c",
   "metadata": {
    "execution": {
     "iopub.execute_input": "2023-12-02T19:09:22.798615Z",
     "iopub.status.busy": "2023-12-02T19:09:22.797574Z",
     "iopub.status.idle": "2023-12-02T19:09:22.820570Z",
     "shell.execute_reply": "2023-12-02T19:09:22.819459Z"
    },
    "papermill": {
     "duration": 0.053109,
     "end_time": "2023-12-02T19:09:22.823620",
     "exception": false,
     "start_time": "2023-12-02T19:09:22.770511",
     "status": "completed"
    },
    "tags": []
   },
   "outputs": [],
   "source": [
    "ActualSales = Sales_timeOut_series.groupby('outlet_code')['sales_quantity'].sum().reset_index()"
   ]
  },
  {
   "cell_type": "code",
   "execution_count": 42,
   "id": "bc1902c1",
   "metadata": {
    "execution": {
     "iopub.execute_input": "2023-12-02T19:09:22.876641Z",
     "iopub.status.busy": "2023-12-02T19:09:22.876235Z",
     "iopub.status.idle": "2023-12-02T19:09:22.888906Z",
     "shell.execute_reply": "2023-12-02T19:09:22.887828Z"
    },
    "papermill": {
     "duration": 0.042308,
     "end_time": "2023-12-02T19:09:22.891288",
     "exception": false,
     "start_time": "2023-12-02T19:09:22.848980",
     "status": "completed"
    },
    "tags": []
   },
   "outputs": [
    {
     "data": {
      "text/html": [
       "<div>\n",
       "<style scoped>\n",
       "    .dataframe tbody tr th:only-of-type {\n",
       "        vertical-align: middle;\n",
       "    }\n",
       "\n",
       "    .dataframe tbody tr th {\n",
       "        vertical-align: top;\n",
       "    }\n",
       "\n",
       "    .dataframe thead th {\n",
       "        text-align: right;\n",
       "    }\n",
       "</style>\n",
       "<table border=\"1\" class=\"dataframe\">\n",
       "  <thead>\n",
       "    <tr style=\"text-align: right;\">\n",
       "      <th></th>\n",
       "      <th>outlet_code</th>\n",
       "      <th>sales_quantity</th>\n",
       "    </tr>\n",
       "  </thead>\n",
       "  <tbody>\n",
       "    <tr>\n",
       "      <th>0</th>\n",
       "      <td>outlet_code_1</td>\n",
       "      <td>884</td>\n",
       "    </tr>\n",
       "    <tr>\n",
       "      <th>1</th>\n",
       "      <td>outlet_code_10</td>\n",
       "      <td>974</td>\n",
       "    </tr>\n",
       "    <tr>\n",
       "      <th>2</th>\n",
       "      <td>outlet_code_100</td>\n",
       "      <td>1199</td>\n",
       "    </tr>\n",
       "    <tr>\n",
       "      <th>3</th>\n",
       "      <td>outlet_code_1000</td>\n",
       "      <td>244</td>\n",
       "    </tr>\n",
       "    <tr>\n",
       "      <th>4</th>\n",
       "      <td>outlet_code_1001</td>\n",
       "      <td>252</td>\n",
       "    </tr>\n",
       "    <tr>\n",
       "      <th>...</th>\n",
       "      <td>...</td>\n",
       "      <td>...</td>\n",
       "    </tr>\n",
       "    <tr>\n",
       "      <th>4195</th>\n",
       "      <td>outlet_code_995</td>\n",
       "      <td>1016</td>\n",
       "    </tr>\n",
       "    <tr>\n",
       "      <th>4196</th>\n",
       "      <td>outlet_code_996</td>\n",
       "      <td>1043</td>\n",
       "    </tr>\n",
       "    <tr>\n",
       "      <th>4197</th>\n",
       "      <td>outlet_code_997</td>\n",
       "      <td>1236</td>\n",
       "    </tr>\n",
       "    <tr>\n",
       "      <th>4198</th>\n",
       "      <td>outlet_code_998</td>\n",
       "      <td>936</td>\n",
       "    </tr>\n",
       "    <tr>\n",
       "      <th>4199</th>\n",
       "      <td>outlet_code_999</td>\n",
       "      <td>247</td>\n",
       "    </tr>\n",
       "  </tbody>\n",
       "</table>\n",
       "<p>4200 rows × 2 columns</p>\n",
       "</div>"
      ],
      "text/plain": [
       "           outlet_code  sales_quantity\n",
       "0        outlet_code_1             884\n",
       "1       outlet_code_10             974\n",
       "2      outlet_code_100            1199\n",
       "3     outlet_code_1000             244\n",
       "4     outlet_code_1001             252\n",
       "...                ...             ...\n",
       "4195   outlet_code_995            1016\n",
       "4196   outlet_code_996            1043\n",
       "4197   outlet_code_997            1236\n",
       "4198   outlet_code_998             936\n",
       "4199   outlet_code_999             247\n",
       "\n",
       "[4200 rows x 2 columns]"
      ]
     },
     "execution_count": 42,
     "metadata": {},
     "output_type": "execute_result"
    }
   ],
   "source": [
    "ActualSales"
   ]
  },
  {
   "cell_type": "code",
   "execution_count": 43,
   "id": "613ee88b",
   "metadata": {
    "execution": {
     "iopub.execute_input": "2023-12-02T19:09:22.944680Z",
     "iopub.status.busy": "2023-12-02T19:09:22.944272Z",
     "iopub.status.idle": "2023-12-02T19:09:22.950396Z",
     "shell.execute_reply": "2023-12-02T19:09:22.949291Z"
    },
    "papermill": {
     "duration": 0.035658,
     "end_time": "2023-12-02T19:09:22.952610",
     "exception": false,
     "start_time": "2023-12-02T19:09:22.916952",
     "status": "completed"
    },
    "tags": []
   },
   "outputs": [],
   "source": [
    "# Calculate Difference between ActualSales and Predictions for each outlet_code\n",
    "Diff= np.abs(ActualSales['sales_quantity']- forecast_2['predicted_sales'])"
   ]
  },
  {
   "cell_type": "code",
   "execution_count": 44,
   "id": "824d733d",
   "metadata": {
    "execution": {
     "iopub.execute_input": "2023-12-02T19:09:23.006573Z",
     "iopub.status.busy": "2023-12-02T19:09:23.005400Z",
     "iopub.status.idle": "2023-12-02T19:09:23.012986Z",
     "shell.execute_reply": "2023-12-02T19:09:23.011775Z"
    },
    "papermill": {
     "duration": 0.037635,
     "end_time": "2023-12-02T19:09:23.015630",
     "exception": false,
     "start_time": "2023-12-02T19:09:22.977995",
     "status": "completed"
    },
    "tags": []
   },
   "outputs": [],
   "source": [
    "# Calculate MAPE\n",
    "MAPE = Diff.sum() / ActualSales['sales_quantity'].sum()"
   ]
  },
  {
   "cell_type": "code",
   "execution_count": 45,
   "id": "c2dd791b",
   "metadata": {
    "execution": {
     "iopub.execute_input": "2023-12-02T19:09:23.069891Z",
     "iopub.status.busy": "2023-12-02T19:09:23.069515Z",
     "iopub.status.idle": "2023-12-02T19:09:23.075483Z",
     "shell.execute_reply": "2023-12-02T19:09:23.074509Z"
    },
    "papermill": {
     "duration": 0.035639,
     "end_time": "2023-12-02T19:09:23.077813",
     "exception": false,
     "start_time": "2023-12-02T19:09:23.042174",
     "status": "completed"
    },
    "tags": []
   },
   "outputs": [
    {
     "data": {
      "text/plain": [
       "0.9707809459152221"
      ]
     },
     "execution_count": 45,
     "metadata": {},
     "output_type": "execute_result"
    }
   ],
   "source": [
    "MAPE"
   ]
  },
  {
   "cell_type": "code",
   "execution_count": 46,
   "id": "9a0a1250",
   "metadata": {
    "execution": {
     "iopub.execute_input": "2023-12-02T19:09:23.131409Z",
     "iopub.status.busy": "2023-12-02T19:09:23.130734Z",
     "iopub.status.idle": "2023-12-02T19:09:23.143438Z",
     "shell.execute_reply": "2023-12-02T19:09:23.141609Z"
    },
    "papermill": {
     "duration": 0.042755,
     "end_time": "2023-12-02T19:09:23.146152",
     "exception": false,
     "start_time": "2023-12-02T19:09:23.103397",
     "status": "completed"
    },
    "tags": []
   },
   "outputs": [
    {
     "data": {
      "text/html": [
       "<div>\n",
       "<style scoped>\n",
       "    .dataframe tbody tr th:only-of-type {\n",
       "        vertical-align: middle;\n",
       "    }\n",
       "\n",
       "    .dataframe tbody tr th {\n",
       "        vertical-align: top;\n",
       "    }\n",
       "\n",
       "    .dataframe thead th {\n",
       "        text-align: right;\n",
       "    }\n",
       "</style>\n",
       "<table border=\"1\" class=\"dataframe\">\n",
       "  <thead>\n",
       "    <tr style=\"text-align: right;\">\n",
       "      <th></th>\n",
       "      <th>predicted_sales</th>\n",
       "    </tr>\n",
       "    <tr>\n",
       "      <th>outlet_code</th>\n",
       "      <th></th>\n",
       "    </tr>\n",
       "  </thead>\n",
       "  <tbody>\n",
       "    <tr>\n",
       "      <th>outlet_code_1</th>\n",
       "      <td>0</td>\n",
       "    </tr>\n",
       "    <tr>\n",
       "      <th>outlet_code_10</th>\n",
       "      <td>13</td>\n",
       "    </tr>\n",
       "    <tr>\n",
       "      <th>outlet_code_100</th>\n",
       "      <td>41</td>\n",
       "    </tr>\n",
       "    <tr>\n",
       "      <th>outlet_code_1000</th>\n",
       "      <td>37</td>\n",
       "    </tr>\n",
       "    <tr>\n",
       "      <th>outlet_code_1001</th>\n",
       "      <td>29</td>\n",
       "    </tr>\n",
       "    <tr>\n",
       "      <th>...</th>\n",
       "      <td>...</td>\n",
       "    </tr>\n",
       "    <tr>\n",
       "      <th>outlet_code_995</th>\n",
       "      <td>22</td>\n",
       "    </tr>\n",
       "    <tr>\n",
       "      <th>outlet_code_996</th>\n",
       "      <td>22</td>\n",
       "    </tr>\n",
       "    <tr>\n",
       "      <th>outlet_code_997</th>\n",
       "      <td>22</td>\n",
       "    </tr>\n",
       "    <tr>\n",
       "      <th>outlet_code_998</th>\n",
       "      <td>22</td>\n",
       "    </tr>\n",
       "    <tr>\n",
       "      <th>outlet_code_999</th>\n",
       "      <td>22</td>\n",
       "    </tr>\n",
       "  </tbody>\n",
       "</table>\n",
       "<p>4200 rows × 1 columns</p>\n",
       "</div>"
      ],
      "text/plain": [
       "                  predicted_sales\n",
       "outlet_code                      \n",
       "outlet_code_1                   0\n",
       "outlet_code_10                 13\n",
       "outlet_code_100                41\n",
       "outlet_code_1000               37\n",
       "outlet_code_1001               29\n",
       "...                           ...\n",
       "outlet_code_995                22\n",
       "outlet_code_996                22\n",
       "outlet_code_997                22\n",
       "outlet_code_998                22\n",
       "outlet_code_999                22\n",
       "\n",
       "[4200 rows x 1 columns]"
      ]
     },
     "execution_count": 46,
     "metadata": {},
     "output_type": "execute_result"
    }
   ],
   "source": [
    "forecast_2.set_index('outlet_code')"
   ]
  },
  {
   "cell_type": "code",
   "execution_count": 47,
   "id": "7af6445b",
   "metadata": {
    "execution": {
     "iopub.execute_input": "2023-12-02T19:09:23.217570Z",
     "iopub.status.busy": "2023-12-02T19:09:23.216358Z",
     "iopub.status.idle": "2023-12-02T19:09:23.241722Z",
     "shell.execute_reply": "2023-12-02T19:09:23.240496Z"
    },
    "papermill": {
     "duration": 0.062581,
     "end_time": "2023-12-02T19:09:23.244476",
     "exception": false,
     "start_time": "2023-12-02T19:09:23.181895",
     "status": "completed"
    },
    "tags": []
   },
   "outputs": [],
   "source": [
    "forecast_2.to_csv(\"FinalForecast.csv\")"
   ]
  }
 ],
 "metadata": {
  "kaggle": {
   "accelerator": "none",
   "dataSources": [
    {
     "datasetId": 4096769,
     "sourceId": 7106085,
     "sourceType": "datasetVersion"
    },
    {
     "datasetId": 4096780,
     "sourceId": 7106099,
     "sourceType": "datasetVersion"
    }
   ],
   "dockerImageVersionId": 30587,
   "isGpuEnabled": false,
   "isInternetEnabled": true,
   "language": "python",
   "sourceType": "notebook"
  },
  "kernelspec": {
   "display_name": "Python 3",
   "language": "python",
   "name": "python3"
  },
  "language_info": {
   "codemirror_mode": {
    "name": "ipython",
    "version": 3
   },
   "file_extension": ".py",
   "mimetype": "text/x-python",
   "name": "python",
   "nbconvert_exporter": "python",
   "pygments_lexer": "ipython3",
   "version": "3.10.12"
  },
  "papermill": {
   "default_parameters": {},
   "duration": 59.561766,
   "end_time": "2023-12-02T19:09:23.992864",
   "environment_variables": {},
   "exception": null,
   "input_path": "__notebook__.ipynb",
   "output_path": "__notebook__.ipynb",
   "parameters": {},
   "start_time": "2023-12-02T19:08:24.431098",
   "version": "2.4.0"
  }
 },
 "nbformat": 4,
 "nbformat_minor": 5
}
