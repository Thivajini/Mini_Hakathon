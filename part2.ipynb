{
 "cells": [
  {
   "cell_type": "code",
   "execution_count": 1,
   "id": "00a76da9",
   "metadata": {
    "_cell_guid": "b1076dfc-b9ad-4769-8c92-a6c4dae69d19",
    "_uuid": "8f2839f25d086af736a60e9eeb907d3b93b6e0e5",
    "execution": {
     "iopub.execute_input": "2023-12-16T07:10:16.113375Z",
     "iopub.status.busy": "2023-12-16T07:10:16.112717Z",
     "iopub.status.idle": "2023-12-16T07:10:16.575591Z",
     "shell.execute_reply": "2023-12-16T07:10:16.574196Z"
    },
    "papermill": {
     "duration": 0.478926,
     "end_time": "2023-12-16T07:10:16.579894",
     "exception": false,
     "start_time": "2023-12-16T07:10:16.100968",
     "status": "completed"
    },
    "tags": []
   },
   "outputs": [],
   "source": [
    "import pandas as pd\n",
    "import numpy as np"
   ]
  },
  {
   "cell_type": "code",
   "execution_count": 2,
   "id": "62f9a07f",
   "metadata": {
    "execution": {
     "iopub.execute_input": "2023-12-16T07:10:16.598897Z",
     "iopub.status.busy": "2023-12-16T07:10:16.598356Z",
     "iopub.status.idle": "2023-12-16T07:10:17.637956Z",
     "shell.execute_reply": "2023-12-16T07:10:17.636896Z"
    },
    "papermill": {
     "duration": 1.052133,
     "end_time": "2023-12-16T07:10:17.640808",
     "exception": false,
     "start_time": "2023-12-16T07:10:16.588675",
     "status": "completed"
    },
    "tags": []
   },
   "outputs": [],
   "source": [
    "Outletdata = pd.read_csv('/kaggle/input/part2data-set/Outlet Info.csv')\n",
    "Salesdata = pd.read_csv('/kaggle/input/part2data-set/Sales.csv')"
   ]
  },
  {
   "cell_type": "code",
   "execution_count": 3,
   "id": "aa2e0e6d",
   "metadata": {
    "execution": {
     "iopub.execute_input": "2023-12-16T07:10:17.661671Z",
     "iopub.status.busy": "2023-12-16T07:10:17.661187Z",
     "iopub.status.idle": "2023-12-16T07:10:17.928505Z",
     "shell.execute_reply": "2023-12-16T07:10:17.926996Z"
    },
    "papermill": {
     "duration": 0.281831,
     "end_time": "2023-12-16T07:10:17.931815",
     "exception": false,
     "start_time": "2023-12-16T07:10:17.649984",
     "status": "completed"
    },
    "tags": []
   },
   "outputs": [],
   "source": [
    "Outlet_Sales = pd.merge(Outletdata, Salesdata, on='outlet_id', how='inner')"
   ]
  },
  {
   "cell_type": "code",
   "execution_count": 4,
   "id": "1903609a",
   "metadata": {
    "execution": {
     "iopub.execute_input": "2023-12-16T07:10:17.951167Z",
     "iopub.status.busy": "2023-12-16T07:10:17.950755Z",
     "iopub.status.idle": "2023-12-16T07:10:17.963951Z",
     "shell.execute_reply": "2023-12-16T07:10:17.962446Z"
    },
    "papermill": {
     "duration": 0.026391,
     "end_time": "2023-12-16T07:10:17.967153",
     "exception": false,
     "start_time": "2023-12-16T07:10:17.940762",
     "status": "completed"
    },
    "tags": []
   },
   "outputs": [
    {
     "name": "stdout",
     "output_type": "stream",
     "text": [
      "       outlet_id      region  outlet_size  population_density  \\\n",
      "0  outlet_code_1  outstation         1334                 276   \n",
      "1  outlet_code_1  outstation         1334                 276   \n",
      "2  outlet_code_1  outstation         1334                 276   \n",
      "3  outlet_code_1  outstation         1334                 276   \n",
      "4  outlet_code_1  outstation         1334                 276   \n",
      "\n",
      "   number_of_skus_sold  average_household_income  transaction_time  \\\n",
      "0                   16                     81704  2023-01-06 10:51   \n",
      "1                   16                     81704  2023-01-12 15:14   \n",
      "2                   16                     81704  2023-01-16 16:25   \n",
      "3                   16                     81704   2023-01-24 8:55   \n",
      "4                   16                     81704   2023-02-04 9:53   \n",
      "\n",
      "  expected_rainfall        freezer_status           sku_name  sales_quantity  \n",
      "0              60mm   freezers available   Fruit Chewy Bites               4  \n",
      "1               6mm   freezers available   Fruit Chewy Bites               5  \n",
      "2              82mm   freezers available   Fruit Chewy Bites               5  \n",
      "3          172.53mm   freezers available   Fruit Chewy Bites               7  \n",
      "4              59mm   freezers available   Fruit Chewy Bites               5  \n"
     ]
    }
   ],
   "source": [
    "print(Outlet_Sales .head())"
   ]
  },
  {
   "cell_type": "code",
   "execution_count": 5,
   "id": "a95d5e75",
   "metadata": {
    "execution": {
     "iopub.execute_input": "2023-12-16T07:10:17.987035Z",
     "iopub.status.busy": "2023-12-16T07:10:17.986102Z",
     "iopub.status.idle": "2023-12-16T07:10:18.661967Z",
     "shell.execute_reply": "2023-12-16T07:10:18.660404Z"
    },
    "papermill": {
     "duration": 0.689159,
     "end_time": "2023-12-16T07:10:18.664967",
     "exception": false,
     "start_time": "2023-12-16T07:10:17.975808",
     "status": "completed"
    },
    "tags": []
   },
   "outputs": [],
   "source": [
    "Outlet_Sales.drop_duplicates(inplace=True)"
   ]
  },
  {
   "cell_type": "code",
   "execution_count": 6,
   "id": "8d737c16",
   "metadata": {
    "execution": {
     "iopub.execute_input": "2023-12-16T07:10:18.685312Z",
     "iopub.status.busy": "2023-12-16T07:10:18.684064Z",
     "iopub.status.idle": "2023-12-16T07:10:18.960548Z",
     "shell.execute_reply": "2023-12-16T07:10:18.959186Z"
    },
    "papermill": {
     "duration": 0.28936,
     "end_time": "2023-12-16T07:10:18.963136",
     "exception": false,
     "start_time": "2023-12-16T07:10:18.673776",
     "status": "completed"
    },
    "tags": []
   },
   "outputs": [
    {
     "data": {
      "text/plain": [
       "outlet_id                   0\n",
       "region                      0\n",
       "outlet_size                 0\n",
       "population_density          0\n",
       "number_of_skus_sold         0\n",
       "average_household_income    0\n",
       "transaction_time            0\n",
       "expected_rainfall           0\n",
       "freezer_status              0\n",
       "sku_name                    0\n",
       "sales_quantity              0\n",
       "dtype: int64"
      ]
     },
     "execution_count": 6,
     "metadata": {},
     "output_type": "execute_result"
    }
   ],
   "source": [
    "Outlet_Sales.isna().sum()"
   ]
  },
  {
   "cell_type": "code",
   "execution_count": 7,
   "id": "cf74a110",
   "metadata": {
    "execution": {
     "iopub.execute_input": "2023-12-16T07:10:18.982627Z",
     "iopub.status.busy": "2023-12-16T07:10:18.982100Z",
     "iopub.status.idle": "2023-12-16T07:10:18.992989Z",
     "shell.execute_reply": "2023-12-16T07:10:18.991668Z"
    },
    "papermill": {
     "duration": 0.023882,
     "end_time": "2023-12-16T07:10:18.995747",
     "exception": false,
     "start_time": "2023-12-16T07:10:18.971865",
     "status": "completed"
    },
    "tags": []
   },
   "outputs": [
    {
     "data": {
      "text/plain": [
       "outlet_id                   object\n",
       "region                      object\n",
       "outlet_size                  int64\n",
       "population_density           int64\n",
       "number_of_skus_sold          int64\n",
       "average_household_income     int64\n",
       "transaction_time            object\n",
       "expected_rainfall           object\n",
       "freezer_status              object\n",
       "sku_name                    object\n",
       "sales_quantity               int64\n",
       "dtype: object"
      ]
     },
     "execution_count": 7,
     "metadata": {},
     "output_type": "execute_result"
    }
   ],
   "source": [
    "Outlet_Sales.dtypes"
   ]
  },
  {
   "cell_type": "code",
   "execution_count": 8,
   "id": "9537fa02",
   "metadata": {
    "execution": {
     "iopub.execute_input": "2023-12-16T07:10:19.016405Z",
     "iopub.status.busy": "2023-12-16T07:10:19.015439Z",
     "iopub.status.idle": "2023-12-16T07:10:20.448497Z",
     "shell.execute_reply": "2023-12-16T07:10:20.447087Z"
    },
    "papermill": {
     "duration": 1.447925,
     "end_time": "2023-12-16T07:10:20.452863",
     "exception": false,
     "start_time": "2023-12-16T07:10:19.004938",
     "status": "completed"
    },
    "tags": []
   },
   "outputs": [],
   "source": [
    "Outlet_Sales['expected_rainfall'] = Outlet_Sales['expected_rainfall'].str.extract(r'(\\d+)').astype(float)"
   ]
  },
  {
   "cell_type": "code",
   "execution_count": 9,
   "id": "ed8a5521",
   "metadata": {
    "execution": {
     "iopub.execute_input": "2023-12-16T07:10:20.480943Z",
     "iopub.status.busy": "2023-12-16T07:10:20.479560Z",
     "iopub.status.idle": "2023-12-16T07:10:21.213298Z",
     "shell.execute_reply": "2023-12-16T07:10:21.212113Z"
    },
    "papermill": {
     "duration": 0.750096,
     "end_time": "2023-12-16T07:10:21.216382",
     "exception": false,
     "start_time": "2023-12-16T07:10:20.466286",
     "status": "completed"
    },
    "tags": []
   },
   "outputs": [],
   "source": [
    "Outlet_Sales['transaction_time'] = pd.to_datetime(Outlet_Sales['transaction_time'])\n",
    "Outlet_Sales['Date'] = Outlet_Sales['transaction_time'].dt.date\n",
    "Outlet_Sales['Time'] = Outlet_Sales['transaction_time'].dt.time"
   ]
  },
  {
   "cell_type": "code",
   "execution_count": 10,
   "id": "1492a18c",
   "metadata": {
    "execution": {
     "iopub.execute_input": "2023-12-16T07:10:21.236954Z",
     "iopub.status.busy": "2023-12-16T07:10:21.236540Z",
     "iopub.status.idle": "2023-12-16T07:10:21.245847Z",
     "shell.execute_reply": "2023-12-16T07:10:21.244508Z"
    },
    "papermill": {
     "duration": 0.022638,
     "end_time": "2023-12-16T07:10:21.248459",
     "exception": false,
     "start_time": "2023-12-16T07:10:21.225821",
     "status": "completed"
    },
    "tags": []
   },
   "outputs": [
    {
     "data": {
      "text/plain": [
       "outlet_id                           object\n",
       "region                              object\n",
       "outlet_size                          int64\n",
       "population_density                   int64\n",
       "number_of_skus_sold                  int64\n",
       "average_household_income             int64\n",
       "transaction_time            datetime64[ns]\n",
       "expected_rainfall                  float64\n",
       "freezer_status                      object\n",
       "sku_name                            object\n",
       "sales_quantity                       int64\n",
       "Date                                object\n",
       "Time                                object\n",
       "dtype: object"
      ]
     },
     "execution_count": 10,
     "metadata": {},
     "output_type": "execute_result"
    }
   ],
   "source": [
    "Outlet_Sales.dtypes"
   ]
  },
  {
   "cell_type": "code",
   "execution_count": 11,
   "id": "bfef0cde",
   "metadata": {
    "execution": {
     "iopub.execute_input": "2023-12-16T07:10:21.268645Z",
     "iopub.status.busy": "2023-12-16T07:10:21.268218Z",
     "iopub.status.idle": "2023-12-16T07:10:21.291022Z",
     "shell.execute_reply": "2023-12-16T07:10:21.289556Z"
    },
    "papermill": {
     "duration": 0.036076,
     "end_time": "2023-12-16T07:10:21.293661",
     "exception": false,
     "start_time": "2023-12-16T07:10:21.257585",
     "status": "completed"
    },
    "tags": []
   },
   "outputs": [
    {
     "data": {
      "text/html": [
       "<div>\n",
       "<style scoped>\n",
       "    .dataframe tbody tr th:only-of-type {\n",
       "        vertical-align: middle;\n",
       "    }\n",
       "\n",
       "    .dataframe tbody tr th {\n",
       "        vertical-align: top;\n",
       "    }\n",
       "\n",
       "    .dataframe thead th {\n",
       "        text-align: right;\n",
       "    }\n",
       "</style>\n",
       "<table border=\"1\" class=\"dataframe\">\n",
       "  <thead>\n",
       "    <tr style=\"text-align: right;\">\n",
       "      <th></th>\n",
       "      <th>outlet_id</th>\n",
       "      <th>region</th>\n",
       "      <th>outlet_size</th>\n",
       "      <th>population_density</th>\n",
       "      <th>number_of_skus_sold</th>\n",
       "      <th>average_household_income</th>\n",
       "      <th>transaction_time</th>\n",
       "      <th>expected_rainfall</th>\n",
       "      <th>freezer_status</th>\n",
       "      <th>sku_name</th>\n",
       "      <th>sales_quantity</th>\n",
       "      <th>Date</th>\n",
       "      <th>Time</th>\n",
       "    </tr>\n",
       "  </thead>\n",
       "  <tbody>\n",
       "    <tr>\n",
       "      <th>0</th>\n",
       "      <td>outlet_code_1</td>\n",
       "      <td>outstation</td>\n",
       "      <td>1334</td>\n",
       "      <td>276</td>\n",
       "      <td>16</td>\n",
       "      <td>81704</td>\n",
       "      <td>2023-01-06 10:51:00</td>\n",
       "      <td>60.0</td>\n",
       "      <td>freezers available</td>\n",
       "      <td>Fruit Chewy Bites</td>\n",
       "      <td>4</td>\n",
       "      <td>2023-01-06</td>\n",
       "      <td>10:51:00</td>\n",
       "    </tr>\n",
       "    <tr>\n",
       "      <th>1</th>\n",
       "      <td>outlet_code_1</td>\n",
       "      <td>outstation</td>\n",
       "      <td>1334</td>\n",
       "      <td>276</td>\n",
       "      <td>16</td>\n",
       "      <td>81704</td>\n",
       "      <td>2023-01-12 15:14:00</td>\n",
       "      <td>6.0</td>\n",
       "      <td>freezers available</td>\n",
       "      <td>Fruit Chewy Bites</td>\n",
       "      <td>5</td>\n",
       "      <td>2023-01-12</td>\n",
       "      <td>15:14:00</td>\n",
       "    </tr>\n",
       "    <tr>\n",
       "      <th>2</th>\n",
       "      <td>outlet_code_1</td>\n",
       "      <td>outstation</td>\n",
       "      <td>1334</td>\n",
       "      <td>276</td>\n",
       "      <td>16</td>\n",
       "      <td>81704</td>\n",
       "      <td>2023-01-16 16:25:00</td>\n",
       "      <td>82.0</td>\n",
       "      <td>freezers available</td>\n",
       "      <td>Fruit Chewy Bites</td>\n",
       "      <td>5</td>\n",
       "      <td>2023-01-16</td>\n",
       "      <td>16:25:00</td>\n",
       "    </tr>\n",
       "    <tr>\n",
       "      <th>3</th>\n",
       "      <td>outlet_code_1</td>\n",
       "      <td>outstation</td>\n",
       "      <td>1334</td>\n",
       "      <td>276</td>\n",
       "      <td>16</td>\n",
       "      <td>81704</td>\n",
       "      <td>2023-01-24 08:55:00</td>\n",
       "      <td>172.0</td>\n",
       "      <td>freezers available</td>\n",
       "      <td>Fruit Chewy Bites</td>\n",
       "      <td>7</td>\n",
       "      <td>2023-01-24</td>\n",
       "      <td>08:55:00</td>\n",
       "    </tr>\n",
       "    <tr>\n",
       "      <th>4</th>\n",
       "      <td>outlet_code_1</td>\n",
       "      <td>outstation</td>\n",
       "      <td>1334</td>\n",
       "      <td>276</td>\n",
       "      <td>16</td>\n",
       "      <td>81704</td>\n",
       "      <td>2023-02-04 09:53:00</td>\n",
       "      <td>59.0</td>\n",
       "      <td>freezers available</td>\n",
       "      <td>Fruit Chewy Bites</td>\n",
       "      <td>5</td>\n",
       "      <td>2023-02-04</td>\n",
       "      <td>09:53:00</td>\n",
       "    </tr>\n",
       "  </tbody>\n",
       "</table>\n",
       "</div>"
      ],
      "text/plain": [
       "       outlet_id      region  outlet_size  population_density  \\\n",
       "0  outlet_code_1  outstation         1334                 276   \n",
       "1  outlet_code_1  outstation         1334                 276   \n",
       "2  outlet_code_1  outstation         1334                 276   \n",
       "3  outlet_code_1  outstation         1334                 276   \n",
       "4  outlet_code_1  outstation         1334                 276   \n",
       "\n",
       "   number_of_skus_sold  average_household_income    transaction_time  \\\n",
       "0                   16                     81704 2023-01-06 10:51:00   \n",
       "1                   16                     81704 2023-01-12 15:14:00   \n",
       "2                   16                     81704 2023-01-16 16:25:00   \n",
       "3                   16                     81704 2023-01-24 08:55:00   \n",
       "4                   16                     81704 2023-02-04 09:53:00   \n",
       "\n",
       "   expected_rainfall        freezer_status           sku_name  sales_quantity  \\\n",
       "0               60.0   freezers available   Fruit Chewy Bites               4   \n",
       "1                6.0   freezers available   Fruit Chewy Bites               5   \n",
       "2               82.0   freezers available   Fruit Chewy Bites               5   \n",
       "3              172.0   freezers available   Fruit Chewy Bites               7   \n",
       "4               59.0   freezers available   Fruit Chewy Bites               5   \n",
       "\n",
       "         Date      Time  \n",
       "0  2023-01-06  10:51:00  \n",
       "1  2023-01-12  15:14:00  \n",
       "2  2023-01-16  16:25:00  \n",
       "3  2023-01-24  08:55:00  \n",
       "4  2023-02-04  09:53:00  "
      ]
     },
     "execution_count": 11,
     "metadata": {},
     "output_type": "execute_result"
    }
   ],
   "source": [
    "Outlet_Sales.head()"
   ]
  },
  {
   "cell_type": "code",
   "execution_count": null,
   "id": "3e143781",
   "metadata": {
    "execution": {
     "iopub.execute_input": "2023-12-16T06:59:32.036672Z",
     "iopub.status.busy": "2023-12-16T06:59:32.036168Z",
     "iopub.status.idle": "2023-12-16T06:59:32.137629Z",
     "shell.execute_reply": "2023-12-16T06:59:32.134455Z",
     "shell.execute_reply.started": "2023-12-16T06:59:32.036600Z"
    },
    "papermill": {
     "duration": 0.00912,
     "end_time": "2023-12-16T07:10:21.312219",
     "exception": false,
     "start_time": "2023-12-16T07:10:21.303099",
     "status": "completed"
    },
    "tags": []
   },
   "outputs": [],
   "source": []
  },
  {
   "cell_type": "code",
   "execution_count": 12,
   "id": "d948fc79",
   "metadata": {
    "execution": {
     "iopub.execute_input": "2023-12-16T07:10:21.332891Z",
     "iopub.status.busy": "2023-12-16T07:10:21.332484Z",
     "iopub.status.idle": "2023-12-16T07:10:21.385051Z",
     "shell.execute_reply": "2023-12-16T07:10:21.383852Z"
    },
    "papermill": {
     "duration": 0.066274,
     "end_time": "2023-12-16T07:10:21.387804",
     "exception": false,
     "start_time": "2023-12-16T07:10:21.321530",
     "status": "completed"
    },
    "tags": []
   },
   "outputs": [
    {
     "data": {
      "text/plain": [
       "[-0.05084327812155448,\n",
       " 0.25275939302514605,\n",
       " 0.3950627409237477,\n",
       " 0.178284490859029]"
      ]
     },
     "execution_count": 12,
     "metadata": {},
     "output_type": "execute_result"
    }
   ],
   "source": [
    "\n",
    "\n",
    "expected_rainfall_correlation = Outlet_Sales['expected_rainfall'].corr(Outlet_Sales['sales_quantity'])\n",
    "population_density_correlation = Outlet_Sales['population_density'].corr(Outlet_Sales['sales_quantity'])\n",
    "outlet_size_correlation = Outlet_Sales['outlet_size'].corr(Outlet_Sales['sales_quantity'])\n",
    "average_household_income_correlation = Outlet_Sales['average_household_income'].corr(Outlet_Sales['sales_quantity'])\n",
    "correlation=[expected_rainfall_correlation,population_density_correlation,outlet_size_correlation,average_household_income_correlation]\n",
    "correlation"
   ]
  },
  {
   "cell_type": "code",
   "execution_count": 13,
   "id": "70ccac3b",
   "metadata": {
    "execution": {
     "iopub.execute_input": "2023-12-16T07:10:21.408841Z",
     "iopub.status.busy": "2023-12-16T07:10:21.408321Z",
     "iopub.status.idle": "2023-12-16T07:10:21.432070Z",
     "shell.execute_reply": "2023-12-16T07:10:21.430569Z"
    },
    "papermill": {
     "duration": 0.037626,
     "end_time": "2023-12-16T07:10:21.434945",
     "exception": false,
     "start_time": "2023-12-16T07:10:21.397319",
     "status": "completed"
    },
    "tags": []
   },
   "outputs": [],
   "source": [
    "Outlet_Sales2=Outlet_Sales.sample(1000)"
   ]
  },
  {
   "cell_type": "code",
   "execution_count": 14,
   "id": "b1348d38",
   "metadata": {
    "execution": {
     "iopub.execute_input": "2023-12-16T07:10:21.457007Z",
     "iopub.status.busy": "2023-12-16T07:10:21.456528Z",
     "iopub.status.idle": "2023-12-16T07:10:21.973805Z",
     "shell.execute_reply": "2023-12-16T07:10:21.972675Z"
    },
    "papermill": {
     "duration": 0.532291,
     "end_time": "2023-12-16T07:10:21.976741",
     "exception": false,
     "start_time": "2023-12-16T07:10:21.444450",
     "status": "completed"
    },
    "tags": []
   },
   "outputs": [
    {
     "data": {
      "image/png": "[encoded data removed]",
      "text/plain": [
       "<Figure size 640x480 with 1 Axes>"
      ]
     },
     "metadata": {},
     "output_type": "display_data"
    }
   ],
   "source": [
    "import matplotlib.pyplot as plt\n",
    "\n",
    "plt.scatter(Outlet_Sales2[\"population_density\"], Outlet_Sales2[\"sales_quantity\"], label='population_density')\n",
    "plt.scatter(Outlet_Sales2[\"outlet_size\"], Outlet_Sales2[\"sales_quantity\"], label='outlet_size')\n",
    "plt.scatter(Outlet_Sales2[\"average_household_income\"], Outlet_Sales2[\"sales_quantity\"], label='outlet_size')\n",
    "\n",
    "plt.xlabel('X-axis')\n",
    "plt.ylabel('Y-axis')\n",
    "plt.title('Scatter Plot for  population_density and outlet_size   against sales_quantity')\n",
    "plt.legend()\n",
    "plt.grid(True)\n",
    "plt.show()"
   ]
  },
  {
   "cell_type": "code",
   "execution_count": 15,
   "id": "425aa552",
   "metadata": {
    "execution": {
     "iopub.execute_input": "2023-12-16T07:10:22.001548Z",
     "iopub.status.busy": "2023-12-16T07:10:21.999984Z",
     "iopub.status.idle": "2023-12-16T07:10:49.529883Z",
     "shell.execute_reply": "2023-12-16T07:10:49.528436Z"
    },
    "papermill": {
     "duration": 27.544847,
     "end_time": "2023-12-16T07:10:49.532647",
     "exception": false,
     "start_time": "2023-12-16T07:10:21.987800",
     "status": "completed"
    },
    "tags": []
   },
   "outputs": [
    {
     "name": "stderr",
     "output_type": "stream",
     "text": [
      "/opt/conda/lib/python3.10/site-packages/sklearn/cluster/_kmeans.py:870: FutureWarning: The default value of `n_init` will change from 10 to 'auto' in 1.4. Set the value of `n_init` explicitly to suppress the warning\n",
      "  warnings.warn(\n",
      "/opt/conda/lib/python3.10/site-packages/sklearn/cluster/_kmeans.py:870: FutureWarning: The default value of `n_init` will change from 10 to 'auto' in 1.4. Set the value of `n_init` explicitly to suppress the warning\n",
      "  warnings.warn(\n",
      "/opt/conda/lib/python3.10/site-packages/sklearn/cluster/_kmeans.py:870: FutureWarning: The default value of `n_init` will change from 10 to 'auto' in 1.4. Set the value of `n_init` explicitly to suppress the warning\n",
      "  warnings.warn(\n",
      "/opt/conda/lib/python3.10/site-packages/sklearn/cluster/_kmeans.py:870: FutureWarning: The default value of `n_init` will change from 10 to 'auto' in 1.4. Set the value of `n_init` explicitly to suppress the warning\n",
      "  warnings.warn(\n",
      "/opt/conda/lib/python3.10/site-packages/sklearn/cluster/_kmeans.py:870: FutureWarning: The default value of `n_init` will change from 10 to 'auto' in 1.4. Set the value of `n_init` explicitly to suppress the warning\n",
      "  warnings.warn(\n",
      "/opt/conda/lib/python3.10/site-packages/sklearn/cluster/_kmeans.py:870: FutureWarning: The default value of `n_init` will change from 10 to 'auto' in 1.4. Set the value of `n_init` explicitly to suppress the warning\n",
      "  warnings.warn(\n",
      "/opt/conda/lib/python3.10/site-packages/sklearn/cluster/_kmeans.py:870: FutureWarning: The default value of `n_init` will change from 10 to 'auto' in 1.4. Set the value of `n_init` explicitly to suppress the warning\n",
      "  warnings.warn(\n",
      "/opt/conda/lib/python3.10/site-packages/sklearn/cluster/_kmeans.py:870: FutureWarning: The default value of `n_init` will change from 10 to 'auto' in 1.4. Set the value of `n_init` explicitly to suppress the warning\n",
      "  warnings.warn(\n",
      "/opt/conda/lib/python3.10/site-packages/sklearn/cluster/_kmeans.py:870: FutureWarning: The default value of `n_init` will change from 10 to 'auto' in 1.4. Set the value of `n_init` explicitly to suppress the warning\n",
      "  warnings.warn(\n"
     ]
    },
    {
     "data": {
      "text/plain": [
       "[<matplotlib.lines.Line2D at 0x7bb2d0622860>]"
      ]
     },
     "execution_count": 15,
     "metadata": {},
     "output_type": "execute_result"
    },
    {
     "data": {
      "image/png": "[encoded data removed]",
      "text/plain": [
       "<Figure size 640x480 with 1 Axes>"
      ]
     },
     "metadata": {},
     "output_type": "display_data"
    }
   ],
   "source": [
    "Outlet_Sales2=Outlet_Sales[[\"sales_quantity\",\"population_density\",\"outlet_size\",\"average_household_income\"]]\n",
    "Outlet_Sales2\n",
    "\n",
    "from sklearn.cluster import KMeans\n",
    "import matplotlib.pyplot as plt\n",
    "kk=range(1,10)\n",
    "sse=[]\n",
    "for k in kk:\n",
    "    km=KMeans(n_clusters=k)\n",
    "    km.fit(Outlet_Sales2)\n",
    "    sse.append(km.inertia_)\n",
    "sse\n",
    "\n",
    "plt.xlabel(\"k\")\n",
    "plt.ylabel(\"sse\")\n",
    "plt. plot(kk,sse)\n"
   ]
  },
  {
   "cell_type": "code",
   "execution_count": 16,
   "id": "b93dcc34",
   "metadata": {
    "execution": {
     "iopub.execute_input": "2023-12-16T07:10:49.559370Z",
     "iopub.status.busy": "2023-12-16T07:10:49.558780Z",
     "iopub.status.idle": "2023-12-16T07:10:51.774300Z",
     "shell.execute_reply": "2023-12-16T07:10:51.772878Z"
    },
    "papermill": {
     "duration": 2.232327,
     "end_time": "2023-12-16T07:10:51.777345",
     "exception": false,
     "start_time": "2023-12-16T07:10:49.545018",
     "status": "completed"
    },
    "tags": []
   },
   "outputs": [
    {
     "name": "stderr",
     "output_type": "stream",
     "text": [
      "/opt/conda/lib/python3.10/site-packages/sklearn/cluster/_kmeans.py:870: FutureWarning: The default value of `n_init` will change from 10 to 'auto' in 1.4. Set the value of `n_init` explicitly to suppress the warning\n",
      "  warnings.warn(\n"
     ]
    }
   ],
   "source": [
    "from sklearn.cluster import KMeans\n",
    "num_clusters = 3  # Assuming three clusters\n",
    "kmeans = KMeans(n_clusters=num_clusters, random_state=42)\n",
    "y_predict=kmeans.fit_predict(Outlet_Sales[[\"sales_quantity\",\"expected_rainfall\",\"population_density\",\"outlet_size\",\"average_household_income\"]])\n",
    "\n",
    "\n",
    "Outlet_Sales['Cluster'] = kmeans.labels_\n",
    "#cluster_data = data[data['Cluster'] == chosen_cluster]"
   ]
  },
  {
   "cell_type": "code",
   "execution_count": 17,
   "id": "5c0d973d",
   "metadata": {
    "execution": {
     "iopub.execute_input": "2023-12-16T07:10:51.803334Z",
     "iopub.status.busy": "2023-12-16T07:10:51.802913Z",
     "iopub.status.idle": "2023-12-16T07:10:51.817594Z",
     "shell.execute_reply": "2023-12-16T07:10:51.816201Z"
    },
    "papermill": {
     "duration": 0.030873,
     "end_time": "2023-12-16T07:10:51.820368",
     "exception": false,
     "start_time": "2023-12-16T07:10:51.789495",
     "status": "completed"
    },
    "tags": []
   },
   "outputs": [
    {
     "data": {
      "text/plain": [
       "array([0, 1, 2], dtype=int32)"
      ]
     },
     "execution_count": 17,
     "metadata": {},
     "output_type": "execute_result"
    }
   ],
   "source": [
    "np.unique(y_predict)\n"
   ]
  },
  {
   "cell_type": "code",
   "execution_count": 18,
   "id": "aa7ebef1",
   "metadata": {
    "execution": {
     "iopub.execute_input": "2023-12-16T07:10:51.846996Z",
     "iopub.status.busy": "2023-12-16T07:10:51.846612Z",
     "iopub.status.idle": "2023-12-16T07:10:51.867854Z",
     "shell.execute_reply": "2023-12-16T07:10:51.866407Z"
    },
    "papermill": {
     "duration": 0.038149,
     "end_time": "2023-12-16T07:10:51.870941",
     "exception": false,
     "start_time": "2023-12-16T07:10:51.832792",
     "status": "completed"
    },
    "tags": []
   },
   "outputs": [
    {
     "data": {
      "text/html": [
       "<div>\n",
       "<style scoped>\n",
       "    .dataframe tbody tr th:only-of-type {\n",
       "        vertical-align: middle;\n",
       "    }\n",
       "\n",
       "    .dataframe tbody tr th {\n",
       "        vertical-align: top;\n",
       "    }\n",
       "\n",
       "    .dataframe thead th {\n",
       "        text-align: right;\n",
       "    }\n",
       "</style>\n",
       "<table border=\"1\" class=\"dataframe\">\n",
       "  <thead>\n",
       "    <tr style=\"text-align: right;\">\n",
       "      <th></th>\n",
       "      <th>outlet_id</th>\n",
       "      <th>region</th>\n",
       "      <th>outlet_size</th>\n",
       "      <th>population_density</th>\n",
       "      <th>number_of_skus_sold</th>\n",
       "      <th>average_household_income</th>\n",
       "      <th>transaction_time</th>\n",
       "      <th>expected_rainfall</th>\n",
       "      <th>freezer_status</th>\n",
       "      <th>sku_name</th>\n",
       "      <th>sales_quantity</th>\n",
       "      <th>Date</th>\n",
       "      <th>Time</th>\n",
       "      <th>Cluster</th>\n",
       "    </tr>\n",
       "  </thead>\n",
       "  <tbody>\n",
       "    <tr>\n",
       "      <th>0</th>\n",
       "      <td>outlet_code_1</td>\n",
       "      <td>outstation</td>\n",
       "      <td>1334</td>\n",
       "      <td>276</td>\n",
       "      <td>16</td>\n",
       "      <td>81704</td>\n",
       "      <td>2023-01-06 10:51:00</td>\n",
       "      <td>60.0</td>\n",
       "      <td>freezers available</td>\n",
       "      <td>Fruit Chewy Bites</td>\n",
       "      <td>4</td>\n",
       "      <td>2023-01-06</td>\n",
       "      <td>10:51:00</td>\n",
       "      <td>0</td>\n",
       "    </tr>\n",
       "    <tr>\n",
       "      <th>1</th>\n",
       "      <td>outlet_code_1</td>\n",
       "      <td>outstation</td>\n",
       "      <td>1334</td>\n",
       "      <td>276</td>\n",
       "      <td>16</td>\n",
       "      <td>81704</td>\n",
       "      <td>2023-01-12 15:14:00</td>\n",
       "      <td>6.0</td>\n",
       "      <td>freezers available</td>\n",
       "      <td>Fruit Chewy Bites</td>\n",
       "      <td>5</td>\n",
       "      <td>2023-01-12</td>\n",
       "      <td>15:14:00</td>\n",
       "      <td>0</td>\n",
       "    </tr>\n",
       "    <tr>\n",
       "      <th>2</th>\n",
       "      <td>outlet_code_1</td>\n",
       "      <td>outstation</td>\n",
       "      <td>1334</td>\n",
       "      <td>276</td>\n",
       "      <td>16</td>\n",
       "      <td>81704</td>\n",
       "      <td>2023-01-16 16:25:00</td>\n",
       "      <td>82.0</td>\n",
       "      <td>freezers available</td>\n",
       "      <td>Fruit Chewy Bites</td>\n",
       "      <td>5</td>\n",
       "      <td>2023-01-16</td>\n",
       "      <td>16:25:00</td>\n",
       "      <td>0</td>\n",
       "    </tr>\n",
       "    <tr>\n",
       "      <th>3</th>\n",
       "      <td>outlet_code_1</td>\n",
       "      <td>outstation</td>\n",
       "      <td>1334</td>\n",
       "      <td>276</td>\n",
       "      <td>16</td>\n",
       "      <td>81704</td>\n",
       "      <td>2023-01-24 08:55:00</td>\n",
       "      <td>172.0</td>\n",
       "      <td>freezers available</td>\n",
       "      <td>Fruit Chewy Bites</td>\n",
       "      <td>7</td>\n",
       "      <td>2023-01-24</td>\n",
       "      <td>08:55:00</td>\n",
       "      <td>0</td>\n",
       "    </tr>\n",
       "    <tr>\n",
       "      <th>4</th>\n",
       "      <td>outlet_code_1</td>\n",
       "      <td>outstation</td>\n",
       "      <td>1334</td>\n",
       "      <td>276</td>\n",
       "      <td>16</td>\n",
       "      <td>81704</td>\n",
       "      <td>2023-02-04 09:53:00</td>\n",
       "      <td>59.0</td>\n",
       "      <td>freezers available</td>\n",
       "      <td>Fruit Chewy Bites</td>\n",
       "      <td>5</td>\n",
       "      <td>2023-02-04</td>\n",
       "      <td>09:53:00</td>\n",
       "      <td>0</td>\n",
       "    </tr>\n",
       "  </tbody>\n",
       "</table>\n",
       "</div>"
      ],
      "text/plain": [
       "       outlet_id      region  outlet_size  population_density  \\\n",
       "0  outlet_code_1  outstation         1334                 276   \n",
       "1  outlet_code_1  outstation         1334                 276   \n",
       "2  outlet_code_1  outstation         1334                 276   \n",
       "3  outlet_code_1  outstation         1334                 276   \n",
       "4  outlet_code_1  outstation         1334                 276   \n",
       "\n",
       "   number_of_skus_sold  average_household_income    transaction_time  \\\n",
       "0                   16                     81704 2023-01-06 10:51:00   \n",
       "1                   16                     81704 2023-01-12 15:14:00   \n",
       "2                   16                     81704 2023-01-16 16:25:00   \n",
       "3                   16                     81704 2023-01-24 08:55:00   \n",
       "4                   16                     81704 2023-02-04 09:53:00   \n",
       "\n",
       "   expected_rainfall        freezer_status           sku_name  sales_quantity  \\\n",
       "0               60.0   freezers available   Fruit Chewy Bites               4   \n",
       "1                6.0   freezers available   Fruit Chewy Bites               5   \n",
       "2               82.0   freezers available   Fruit Chewy Bites               5   \n",
       "3              172.0   freezers available   Fruit Chewy Bites               7   \n",
       "4               59.0   freezers available   Fruit Chewy Bites               5   \n",
       "\n",
       "         Date      Time  Cluster  \n",
       "0  2023-01-06  10:51:00        0  \n",
       "1  2023-01-12  15:14:00        0  \n",
       "2  2023-01-16  16:25:00        0  \n",
       "3  2023-01-24  08:55:00        0  \n",
       "4  2023-02-04  09:53:00        0  "
      ]
     },
     "execution_count": 18,
     "metadata": {},
     "output_type": "execute_result"
    }
   ],
   "source": [
    "Outlet_Sales.head()"
   ]
  },
  {
   "cell_type": "code",
   "execution_count": 19,
   "id": "31c56219",
   "metadata": {
    "execution": {
     "iopub.execute_input": "2023-12-16T07:10:51.899507Z",
     "iopub.status.busy": "2023-12-16T07:10:51.899089Z",
     "iopub.status.idle": "2023-12-16T07:10:51.909474Z",
     "shell.execute_reply": "2023-12-16T07:10:51.908137Z"
    },
    "papermill": {
     "duration": 0.028129,
     "end_time": "2023-12-16T07:10:51.912341",
     "exception": false,
     "start_time": "2023-12-16T07:10:51.884212",
     "status": "completed"
    },
    "tags": []
   },
   "outputs": [
    {
     "data": {
      "text/plain": [
       "array([0, 1, 2], dtype=int32)"
      ]
     },
     "execution_count": 19,
     "metadata": {},
     "output_type": "execute_result"
    }
   ],
   "source": [
    "Outlet_Sales[\"Cluster\"].unique()"
   ]
  },
  {
   "cell_type": "code",
   "execution_count": 20,
   "id": "5bcd52bb",
   "metadata": {
    "execution": {
     "iopub.execute_input": "2023-12-16T07:10:51.940106Z",
     "iopub.status.busy": "2023-12-16T07:10:51.939602Z",
     "iopub.status.idle": "2023-12-16T07:10:52.023600Z",
     "shell.execute_reply": "2023-12-16T07:10:52.022216Z"
    },
    "papermill": {
     "duration": 0.100635,
     "end_time": "2023-12-16T07:10:52.026106",
     "exception": false,
     "start_time": "2023-12-16T07:10:51.925471",
     "status": "completed"
    },
    "tags": []
   },
   "outputs": [
    {
     "data": {
      "text/plain": [
       "Cluster  outlet_id       \n",
       "0        outlet_code_1        572\n",
       "         outlet_code_100      905\n",
       "         outlet_code_1000     174\n",
       "         outlet_code_1003     586\n",
       "         outlet_code_1006     487\n",
       "                             ... \n",
       "2        outlet_code_97      1508\n",
       "         outlet_code_974      680\n",
       "         outlet_code_975      761\n",
       "         outlet_code_99       253\n",
       "         outlet_code_995      743\n",
       "Name: sales_quantity, Length: 4200, dtype: int64"
      ]
     },
     "execution_count": 20,
     "metadata": {},
     "output_type": "execute_result"
    }
   ],
   "source": [
    "outletgroups=Outlet_Sales.groupby([\"Cluster\",\"outlet_id\"]) [\"sales_quantity\"].sum()\n",
    "outletgroups"
   ]
  },
  {
   "cell_type": "code",
   "execution_count": 21,
   "id": "94da0e99",
   "metadata": {
    "execution": {
     "iopub.execute_input": "2023-12-16T07:10:52.053869Z",
     "iopub.status.busy": "2023-12-16T07:10:52.053467Z",
     "iopub.status.idle": "2023-12-16T07:10:52.144443Z",
     "shell.execute_reply": "2023-12-16T07:10:52.142921Z"
    },
    "papermill": {
     "duration": 0.108586,
     "end_time": "2023-12-16T07:10:52.147618",
     "exception": false,
     "start_time": "2023-12-16T07:10:52.039032",
     "status": "completed"
    },
    "tags": []
   },
   "outputs": [],
   "source": [
    "Cluster1=Outlet_Sales[Outlet_Sales[\"Cluster\"]==0].describe()"
   ]
  },
  {
   "cell_type": "code",
   "execution_count": 22,
   "id": "c9ddc637",
   "metadata": {
    "execution": {
     "iopub.execute_input": "2023-12-16T07:10:52.176334Z",
     "iopub.status.busy": "2023-12-16T07:10:52.175873Z",
     "iopub.status.idle": "2023-12-16T07:10:52.263819Z",
     "shell.execute_reply": "2023-12-16T07:10:52.262410Z"
    },
    "papermill": {
     "duration": 0.106401,
     "end_time": "2023-12-16T07:10:52.267051",
     "exception": false,
     "start_time": "2023-12-16T07:10:52.160650",
     "status": "completed"
    },
    "tags": []
   },
   "outputs": [
    {
     "data": {
      "text/html": [
       "<div>\n",
       "<style scoped>\n",
       "    .dataframe tbody tr th:only-of-type {\n",
       "        vertical-align: middle;\n",
       "    }\n",
       "\n",
       "    .dataframe tbody tr th {\n",
       "        vertical-align: top;\n",
       "    }\n",
       "\n",
       "    .dataframe thead th {\n",
       "        text-align: right;\n",
       "    }\n",
       "</style>\n",
       "<table border=\"1\" class=\"dataframe\">\n",
       "  <thead>\n",
       "    <tr style=\"text-align: right;\">\n",
       "      <th></th>\n",
       "      <th>outlet_size</th>\n",
       "      <th>population_density</th>\n",
       "      <th>number_of_skus_sold</th>\n",
       "      <th>average_household_income</th>\n",
       "      <th>transaction_time</th>\n",
       "      <th>expected_rainfall</th>\n",
       "      <th>sales_quantity</th>\n",
       "      <th>Cluster</th>\n",
       "    </tr>\n",
       "  </thead>\n",
       "  <tbody>\n",
       "    <tr>\n",
       "      <th>count</th>\n",
       "      <td>140010.000000</td>\n",
       "      <td>140010.000000</td>\n",
       "      <td>140010.000000</td>\n",
       "      <td>140010.000000</td>\n",
       "      <td>140010</td>\n",
       "      <td>140010.000000</td>\n",
       "      <td>140010.000000</td>\n",
       "      <td>140010.0</td>\n",
       "    </tr>\n",
       "    <tr>\n",
       "      <th>mean</th>\n",
       "      <td>1132.756960</td>\n",
       "      <td>300.511906</td>\n",
       "      <td>15.568688</td>\n",
       "      <td>54587.473938</td>\n",
       "      <td>2023-03-17 19:07:21.740304128</td>\n",
       "      <td>71.282858</td>\n",
       "      <td>5.394550</td>\n",
       "      <td>1.0</td>\n",
       "    </tr>\n",
       "    <tr>\n",
       "      <th>min</th>\n",
       "      <td>200.000000</td>\n",
       "      <td>100.000000</td>\n",
       "      <td>10.000000</td>\n",
       "      <td>30022.000000</td>\n",
       "      <td>2023-01-02 08:00:00</td>\n",
       "      <td>0.000000</td>\n",
       "      <td>1.000000</td>\n",
       "      <td>1.0</td>\n",
       "    </tr>\n",
       "    <tr>\n",
       "      <th>25%</th>\n",
       "      <td>740.000000</td>\n",
       "      <td>215.000000</td>\n",
       "      <td>12.000000</td>\n",
       "      <td>48524.000000</td>\n",
       "      <td>2023-02-08 10:45:15</td>\n",
       "      <td>31.000000</td>\n",
       "      <td>2.000000</td>\n",
       "      <td>1.0</td>\n",
       "    </tr>\n",
       "    <tr>\n",
       "      <th>50%</th>\n",
       "      <td>983.000000</td>\n",
       "      <td>307.000000</td>\n",
       "      <td>13.000000</td>\n",
       "      <td>55415.000000</td>\n",
       "      <td>2023-03-17 12:49:30</td>\n",
       "      <td>61.000000</td>\n",
       "      <td>4.000000</td>\n",
       "      <td>1.0</td>\n",
       "    </tr>\n",
       "    <tr>\n",
       "      <th>75%</th>\n",
       "      <td>1373.000000</td>\n",
       "      <td>399.000000</td>\n",
       "      <td>18.000000</td>\n",
       "      <td>63050.000000</td>\n",
       "      <td>2023-04-24 15:03:00</td>\n",
       "      <td>92.000000</td>\n",
       "      <td>7.000000</td>\n",
       "      <td>1.0</td>\n",
       "    </tr>\n",
       "    <tr>\n",
       "      <th>max</th>\n",
       "      <td>3986.000000</td>\n",
       "      <td>649.000000</td>\n",
       "      <td>35.000000</td>\n",
       "      <td>72383.000000</td>\n",
       "      <td>2023-05-31 17:28:00</td>\n",
       "      <td>199.000000</td>\n",
       "      <td>53.000000</td>\n",
       "      <td>1.0</td>\n",
       "    </tr>\n",
       "    <tr>\n",
       "      <th>std</th>\n",
       "      <td>778.737387</td>\n",
       "      <td>123.589300</td>\n",
       "      <td>5.599172</td>\n",
       "      <td>10778.772994</td>\n",
       "      <td>NaN</td>\n",
       "      <td>52.263775</td>\n",
       "      <td>5.121443</td>\n",
       "      <td>0.0</td>\n",
       "    </tr>\n",
       "  </tbody>\n",
       "</table>\n",
       "</div>"
      ],
      "text/plain": [
       "         outlet_size  population_density  number_of_skus_sold  \\\n",
       "count  140010.000000       140010.000000        140010.000000   \n",
       "mean     1132.756960          300.511906            15.568688   \n",
       "min       200.000000          100.000000            10.000000   \n",
       "25%       740.000000          215.000000            12.000000   \n",
       "50%       983.000000          307.000000            13.000000   \n",
       "75%      1373.000000          399.000000            18.000000   \n",
       "max      3986.000000          649.000000            35.000000   \n",
       "std       778.737387          123.589300             5.599172   \n",
       "\n",
       "       average_household_income               transaction_time  \\\n",
       "count             140010.000000                         140010   \n",
       "mean               54587.473938  2023-03-17 19:07:21.740304128   \n",
       "min                30022.000000            2023-01-02 08:00:00   \n",
       "25%                48524.000000            2023-02-08 10:45:15   \n",
       "50%                55415.000000            2023-03-17 12:49:30   \n",
       "75%                63050.000000            2023-04-24 15:03:00   \n",
       "max                72383.000000            2023-05-31 17:28:00   \n",
       "std                10778.772994                            NaN   \n",
       "\n",
       "       expected_rainfall  sales_quantity   Cluster  \n",
       "count      140010.000000   140010.000000  140010.0  \n",
       "mean           71.282858        5.394550       1.0  \n",
       "min             0.000000        1.000000       1.0  \n",
       "25%            31.000000        2.000000       1.0  \n",
       "50%            61.000000        4.000000       1.0  \n",
       "75%            92.000000        7.000000       1.0  \n",
       "max           199.000000       53.000000       1.0  \n",
       "std            52.263775        5.121443       0.0  "
      ]
     },
     "execution_count": 22,
     "metadata": {},
     "output_type": "execute_result"
    }
   ],
   "source": [
    "Cluster2=Outlet_Sales[Outlet_Sales[\"Cluster\"]==1].describe()\n",
    "Cluster2"
   ]
  },
  {
   "cell_type": "code",
   "execution_count": 23,
   "id": "2fe5c7d7",
   "metadata": {
    "execution": {
     "iopub.execute_input": "2023-12-16T07:10:52.297505Z",
     "iopub.status.busy": "2023-12-16T07:10:52.297078Z",
     "iopub.status.idle": "2023-12-16T07:10:52.361735Z",
     "shell.execute_reply": "2023-12-16T07:10:52.360215Z"
    },
    "papermill": {
     "duration": 0.083671,
     "end_time": "2023-12-16T07:10:52.364648",
     "exception": false,
     "start_time": "2023-12-16T07:10:52.280977",
     "status": "completed"
    },
    "tags": []
   },
   "outputs": [
    {
     "data": {
      "text/html": [
       "<div>\n",
       "<style scoped>\n",
       "    .dataframe tbody tr th:only-of-type {\n",
       "        vertical-align: middle;\n",
       "    }\n",
       "\n",
       "    .dataframe tbody tr th {\n",
       "        vertical-align: top;\n",
       "    }\n",
       "\n",
       "    .dataframe thead th {\n",
       "        text-align: right;\n",
       "    }\n",
       "</style>\n",
       "<table border=\"1\" class=\"dataframe\">\n",
       "  <thead>\n",
       "    <tr style=\"text-align: right;\">\n",
       "      <th></th>\n",
       "      <th>outlet_size</th>\n",
       "      <th>population_density</th>\n",
       "      <th>number_of_skus_sold</th>\n",
       "      <th>average_household_income</th>\n",
       "      <th>transaction_time</th>\n",
       "      <th>expected_rainfall</th>\n",
       "      <th>sales_quantity</th>\n",
       "      <th>Cluster</th>\n",
       "    </tr>\n",
       "  </thead>\n",
       "  <tbody>\n",
       "    <tr>\n",
       "      <th>count</th>\n",
       "      <td>73886.000000</td>\n",
       "      <td>73886.000000</td>\n",
       "      <td>73886.000000</td>\n",
       "      <td>73886.000000</td>\n",
       "      <td>73886</td>\n",
       "      <td>73886.000000</td>\n",
       "      <td>73886.000000</td>\n",
       "      <td>73886.0</td>\n",
       "    </tr>\n",
       "    <tr>\n",
       "      <th>mean</th>\n",
       "      <td>1494.257424</td>\n",
       "      <td>3057.095634</td>\n",
       "      <td>44.519611</td>\n",
       "      <td>145819.468438</td>\n",
       "      <td>2023-03-17 18:09:13.142408448</td>\n",
       "      <td>53.324595</td>\n",
       "      <td>8.555938</td>\n",
       "      <td>2.0</td>\n",
       "    </tr>\n",
       "    <tr>\n",
       "      <th>min</th>\n",
       "      <td>287.000000</td>\n",
       "      <td>2062.000000</td>\n",
       "      <td>33.000000</td>\n",
       "      <td>118099.000000</td>\n",
       "      <td>2023-01-02 08:00:00</td>\n",
       "      <td>0.000000</td>\n",
       "      <td>1.000000</td>\n",
       "      <td>2.0</td>\n",
       "    </tr>\n",
       "    <tr>\n",
       "      <th>25%</th>\n",
       "      <td>399.000000</td>\n",
       "      <td>2446.000000</td>\n",
       "      <td>39.000000</td>\n",
       "      <td>131537.000000</td>\n",
       "      <td>2023-02-08 10:27:15</td>\n",
       "      <td>23.000000</td>\n",
       "      <td>3.000000</td>\n",
       "      <td>2.0</td>\n",
       "    </tr>\n",
       "    <tr>\n",
       "      <th>50%</th>\n",
       "      <td>1358.000000</td>\n",
       "      <td>2808.000000</td>\n",
       "      <td>44.000000</td>\n",
       "      <td>144943.000000</td>\n",
       "      <td>2023-03-17 13:04:00</td>\n",
       "      <td>46.000000</td>\n",
       "      <td>5.000000</td>\n",
       "      <td>2.0</td>\n",
       "    </tr>\n",
       "    <tr>\n",
       "      <th>75%</th>\n",
       "      <td>1619.000000</td>\n",
       "      <td>3311.000000</td>\n",
       "      <td>49.000000</td>\n",
       "      <td>160362.000000</td>\n",
       "      <td>2023-04-24 15:06:00</td>\n",
       "      <td>68.000000</td>\n",
       "      <td>11.000000</td>\n",
       "      <td>2.0</td>\n",
       "    </tr>\n",
       "    <tr>\n",
       "      <th>max</th>\n",
       "      <td>4000.000000</td>\n",
       "      <td>5800.000000</td>\n",
       "      <td>60.000000</td>\n",
       "      <td>174995.000000</td>\n",
       "      <td>2023-05-31 17:29:00</td>\n",
       "      <td>149.000000</td>\n",
       "      <td>68.000000</td>\n",
       "      <td>2.0</td>\n",
       "    </tr>\n",
       "    <tr>\n",
       "      <th>std</th>\n",
       "      <td>1018.902866</td>\n",
       "      <td>879.867713</td>\n",
       "      <td>6.201453</td>\n",
       "      <td>16526.209176</td>\n",
       "      <td>NaN</td>\n",
       "      <td>39.320207</td>\n",
       "      <td>8.188855</td>\n",
       "      <td>0.0</td>\n",
       "    </tr>\n",
       "  </tbody>\n",
       "</table>\n",
       "</div>"
      ],
      "text/plain": [
       "        outlet_size  population_density  number_of_skus_sold  \\\n",
       "count  73886.000000        73886.000000         73886.000000   \n",
       "mean    1494.257424         3057.095634            44.519611   \n",
       "min      287.000000         2062.000000            33.000000   \n",
       "25%      399.000000         2446.000000            39.000000   \n",
       "50%     1358.000000         2808.000000            44.000000   \n",
       "75%     1619.000000         3311.000000            49.000000   \n",
       "max     4000.000000         5800.000000            60.000000   \n",
       "std     1018.902866          879.867713             6.201453   \n",
       "\n",
       "       average_household_income               transaction_time  \\\n",
       "count              73886.000000                          73886   \n",
       "mean              145819.468438  2023-03-17 18:09:13.142408448   \n",
       "min               118099.000000            2023-01-02 08:00:00   \n",
       "25%               131537.000000            2023-02-08 10:27:15   \n",
       "50%               144943.000000            2023-03-17 13:04:00   \n",
       "75%               160362.000000            2023-04-24 15:06:00   \n",
       "max               174995.000000            2023-05-31 17:29:00   \n",
       "std                16526.209176                            NaN   \n",
       "\n",
       "       expected_rainfall  sales_quantity  Cluster  \n",
       "count       73886.000000    73886.000000  73886.0  \n",
       "mean           53.324595        8.555938      2.0  \n",
       "min             0.000000        1.000000      2.0  \n",
       "25%            23.000000        3.000000      2.0  \n",
       "50%            46.000000        5.000000      2.0  \n",
       "75%            68.000000       11.000000      2.0  \n",
       "max           149.000000       68.000000      2.0  \n",
       "std            39.320207        8.188855      0.0  "
      ]
     },
     "execution_count": 23,
     "metadata": {},
     "output_type": "execute_result"
    }
   ],
   "source": [
    "Cluster3=Outlet_Sales[Outlet_Sales[\"Cluster\"]==2].describe()\n",
    "Cluster3"
   ]
  }
 ],
 "metadata": {
  "kaggle": {
   "accelerator": "none",
   "dataSources": [
    {
     "datasetId": 4173990,
     "sourceId": 7213301,
     "sourceType": "datasetVersion"
    }
   ],
   "dockerImageVersionId": 30626,
   "isGpuEnabled": false,
   "isInternetEnabled": true,
   "language": "python",
   "sourceType": "notebook"
  },
  "kernelspec": {
   "display_name": "Python 3",
   "language": "python",
   "name": "python3"
  },
  "language_info": {
   "codemirror_mode": {
    "name": "ipython",
    "version": 3
   },
   "file_extension": ".py",
   "mimetype": "text/x-python",
   "name": "python",
   "nbconvert_exporter": "python",
   "pygments_lexer": "ipython3",
   "version": "3.10.12"
  },
  "papermill": {
   "default_parameters": {},
   "duration": 41.092266,
   "end_time": "2023-12-16T07:10:53.205311",
   "environment_variables": {},
   "exception": null,
   "input_path": "__notebook__.ipynb",
   "output_path": "__notebook__.ipynb",
   "parameters": {},
   "start_time": "2023-12-16T07:10:12.113045",
   "version": "2.4.0"
  }
 },
 "nbformat": 4,
 "nbformat_minor": 5
}
